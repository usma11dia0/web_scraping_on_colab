{
  "nbformat": 4,
  "nbformat_minor": 0,
  "metadata": {
    "colab": {
      "provenance": [],
      "mount_file_id": "1R_Zjrli69bPpYP6fsAbWA4mpt_1BcBj5",
      "authorship_tag": "ABX9TyNTuna+MR3fF1utYxXD+g52",
      "include_colab_link": true
    },
    "kernelspec": {
      "name": "python3",
      "display_name": "Python 3"
    },
    "language_info": {
      "name": "python"
    }
  },
  "cells": [
    {
      "cell_type": "markdown",
      "metadata": {
        "id": "view-in-github",
        "colab_type": "text"
      },
      "source": [
        "<a href=\"https://colab.research.google.com/github/usma11dia0/web_scraping_on_colab/blob/main/web_scraping_on_colab.ipynb\" target=\"_parent\"><img src=\"https://colab.research.google.com/assets/colab-badge.svg\" alt=\"Open In Colab\"/></a>"
      ]
    },
    {
      "cell_type": "code",
      "execution_count": 1,
      "metadata": {
        "id": "4NgcTz8n0EMb",
        "colab": {
          "base_uri": "https://localhost:8080/"
        },
        "outputId": "f91682b0-127f-49f1-a093-3cbe9d588dee"
      },
      "outputs": [
        {
          "output_type": "stream",
          "name": "stdout",
          "text": [
            "Executing: /tmp/apt-key-gpghome.2ctY19yaVh/gpg.1.sh --keyserver keyserver.ubuntu.com --recv-keys DCC9EFBF77E11517\n",
            "gpg: key DCC9EFBF77E11517: public key \"Debian Stable Release Key (10/buster) <debian-release@lists.debian.org>\" imported\n",
            "gpg: Total number processed: 1\n",
            "gpg:               imported: 1\n",
            "Executing: /tmp/apt-key-gpghome.Jg75rBfnAQ/gpg.1.sh --keyserver keyserver.ubuntu.com --recv-keys 648ACFD622F3D138\n",
            "gpg: key DC30D7C23CBBABEE: public key \"Debian Archive Automatic Signing Key (10/buster) <ftpmaster@debian.org>\" imported\n",
            "gpg: Total number processed: 1\n",
            "gpg:               imported: 1\n",
            "Executing: /tmp/apt-key-gpghome.j3Yrmx2iu5/gpg.1.sh --keyserver keyserver.ubuntu.com --recv-keys 112695A0E562B32A\n",
            "gpg: key 4DFAB270CAA96DFA: public key \"Debian Security Archive Automatic Signing Key (10/buster) <ftpmaster@debian.org>\" imported\n",
            "gpg: Total number processed: 1\n",
            "gpg:               imported: 1\n",
            "Warning: apt-key output should not be parsed (stdout is not a terminal)\n",
            "Warning: apt-key output should not be parsed (stdout is not a terminal)\n",
            "Warning: apt-key output should not be parsed (stdout is not a terminal)\n",
            "Get:1 http://deb.debian.org/debian buster InRelease [122 kB]\n",
            "Get:2 https://cloud.r-project.org/bin/linux/ubuntu focal-cran40/ InRelease [3,622 B]\n",
            "Get:3 https://developer.download.nvidia.com/compute/cuda/repos/ubuntu2004/x86_64  InRelease [1,581 B]\n",
            "Get:4 http://deb.debian.org/debian buster-updates InRelease [56.6 kB]\n",
            "Get:5 http://deb.debian.org/debian-security buster/updates InRelease [34.8 kB]\n",
            "Hit:6 http://archive.ubuntu.com/ubuntu focal InRelease\n",
            "Get:7 http://archive.ubuntu.com/ubuntu focal-updates InRelease [114 kB]\n",
            "Get:8 http://security.ubuntu.com/ubuntu focal-security InRelease [114 kB]\n",
            "Hit:9 http://ppa.launchpad.net/c2d4u.team/c2d4u4.0+/ubuntu focal InRelease\n",
            "Get:10 http://deb.debian.org/debian buster/main amd64 Packages [10.7 MB]\n",
            "Get:11 http://archive.ubuntu.com/ubuntu focal-backports InRelease [108 kB]\n",
            "Get:12 https://developer.download.nvidia.com/compute/cuda/repos/ubuntu2004/x86_64  Packages [973 kB]\n",
            "Hit:13 http://ppa.launchpad.net/cran/libgit2/ubuntu focal InRelease\n",
            "Get:14 http://deb.debian.org/debian buster-updates/main amd64 Packages [9,745 B]\n",
            "Get:15 http://deb.debian.org/debian-security buster/updates/main amd64 Packages [608 kB]\n",
            "Get:16 http://ppa.launchpad.net/deadsnakes/ppa/ubuntu focal InRelease [18.1 kB]\n",
            "Get:17 http://ppa.launchpad.net/graphics-drivers/ppa/ubuntu focal InRelease [24.3 kB]\n",
            "Get:18 http://archive.ubuntu.com/ubuntu focal-updates/universe amd64 Packages [1,324 kB]\n",
            "Get:19 http://archive.ubuntu.com/ubuntu focal-updates/restricted amd64 Packages [2,203 kB]\n",
            "Hit:20 http://ppa.launchpad.net/ubuntugis/ppa/ubuntu focal InRelease\n",
            "Get:21 http://archive.ubuntu.com/ubuntu focal-updates/multiverse amd64 Packages [31.2 kB]\n",
            "Get:22 http://archive.ubuntu.com/ubuntu focal-updates/main amd64 Packages [3,075 kB]\n",
            "Get:23 http://archive.ubuntu.com/ubuntu focal-backports/universe amd64 Packages [28.6 kB]\n",
            "Get:24 http://archive.ubuntu.com/ubuntu focal-backports/main amd64 Packages [55.2 kB]\n",
            "Get:25 http://security.ubuntu.com/ubuntu focal-security/universe amd64 Packages [1,028 kB]\n",
            "Get:26 http://ppa.launchpad.net/deadsnakes/ppa/ubuntu focal/main amd64 Packages [29.5 kB]\n",
            "Get:27 http://security.ubuntu.com/ubuntu focal-security/restricted amd64 Packages [2,065 kB]\n",
            "Get:28 http://ppa.launchpad.net/graphics-drivers/ppa/ubuntu focal/main amd64 Packages [42.0 kB]\n",
            "Get:29 http://security.ubuntu.com/ubuntu focal-security/main amd64 Packages [2,593 kB]\n",
            "Get:30 http://security.ubuntu.com/ubuntu focal-security/multiverse amd64 Packages [28.5 kB]\n",
            "Fetched 25.4 MB in 3s (8,843 kB/s)\n",
            "Reading package lists... Done\n",
            "Reading package lists... Done\n",
            "Building dependency tree       \n",
            "Reading state information... Done\n",
            "The following package was automatically installed and is no longer required:\n",
            "  libnvidia-common-525\n",
            "Use 'apt autoremove' to remove it.\n",
            "The following additional packages will be installed:\n",
            "  chromium-common chromium-sandbox libevent-2.1-6 libicu63 libimobiledevice6\n",
            "  libjpeg62-turbo libplist3 libre2-5 libu2f-udev libusbmuxd6 libvpx5\n",
            "  libxxf86dga1 upower usbmuxd x11-utils\n",
            "Suggested packages:\n",
            "  chromium-l10n chromium-shell libusbmuxd-tools mesa-utils\n",
            "The following NEW packages will be installed:\n",
            "  chromium chromium-common chromium-driver chromium-sandbox libevent-2.1-6\n",
            "  libicu63 libimobiledevice6 libjpeg62-turbo libplist3 libre2-5 libu2f-udev\n",
            "  libusbmuxd6 libvpx5 libxxf86dga1 upower usbmuxd x11-utils\n",
            "0 upgraded, 17 newly installed, 0 to remove and 37 not upgraded.\n",
            "Need to get 74.6 MB of archives.\n",
            "After this operation, 256 MB of additional disk space will be used.\n",
            "Get:1 http://deb.debian.org/debian buster/main amd64 libevent-2.1-6 amd64 2.1.8-stable-4 [177 kB]\n",
            "Get:2 http://archive.ubuntu.com/ubuntu focal/main amd64 libre2-5 amd64 20200101+dfsg-1build1 [162 kB]\n",
            "Get:3 http://deb.debian.org/debian buster/main amd64 libicu63 amd64 63.1-6+deb10u3 [8,293 kB]\n",
            "Get:4 http://archive.ubuntu.com/ubuntu focal/main amd64 libxxf86dga1 amd64 2:1.1.5-0ubuntu1 [12.0 kB]\n",
            "Get:5 http://archive.ubuntu.com/ubuntu focal/main amd64 x11-utils amd64 7.7+5 [199 kB]\n",
            "Get:6 http://archive.ubuntu.com/ubuntu focal/main amd64 libplist3 amd64 2.1.0-4build2 [31.6 kB]\n",
            "Get:7 http://archive.ubuntu.com/ubuntu focal/main amd64 libusbmuxd6 amd64 2.0.1-2 [19.1 kB]\n",
            "Get:8 http://archive.ubuntu.com/ubuntu focal/main amd64 libimobiledevice6 amd64 1.2.1~git20191129.9f79242-1build1 [65.2 kB]\n",
            "Get:9 http://archive.ubuntu.com/ubuntu focal/main amd64 libu2f-udev all 1.1.10-1 [6,108 B]\n",
            "Get:10 http://archive.ubuntu.com/ubuntu focal/main amd64 upower amd64 0.99.11-1build2 [104 kB]\n",
            "Get:11 http://archive.ubuntu.com/ubuntu focal/main amd64 usbmuxd amd64 1.1.1~git20191130.9af2b12-1 [38.4 kB]\n",
            "Get:12 http://deb.debian.org/debian buster/main amd64 libjpeg62-turbo amd64 1:1.5.2-2+deb10u1 [133 kB]\n",
            "Get:13 http://deb.debian.org/debian buster/main amd64 libvpx5 amd64 1.7.0-3+deb10u1 [800 kB]\n",
            "Get:14 http://deb.debian.org/debian buster/main amd64 chromium-common amd64 90.0.4430.212-1~deb10u1 [1,423 kB]\n",
            "Get:15 http://deb.debian.org/debian buster/main amd64 chromium amd64 90.0.4430.212-1~deb10u1 [58.3 MB]\n",
            "Get:16 http://deb.debian.org/debian buster/main amd64 chromium-driver amd64 90.0.4430.212-1~deb10u1 [4,703 kB]\n",
            "Get:17 http://deb.debian.org/debian buster/main amd64 chromium-sandbox amd64 90.0.4430.212-1~deb10u1 [146 kB]\n",
            "Fetched 74.6 MB in 1s (62.8 MB/s)\n",
            "Selecting previously unselected package libevent-2.1-6:amd64.\n",
            "(Reading database ... 128293 files and directories currently installed.)\n",
            "Preparing to unpack .../00-libevent-2.1-6_2.1.8-stable-4_amd64.deb ...\n",
            "Unpacking libevent-2.1-6:amd64 (2.1.8-stable-4) ...\n",
            "Selecting previously unselected package libicu63:amd64.\n",
            "Preparing to unpack .../01-libicu63_63.1-6+deb10u3_amd64.deb ...\n",
            "Unpacking libicu63:amd64 (63.1-6+deb10u3) ...\n",
            "Selecting previously unselected package libjpeg62-turbo:amd64.\n",
            "Preparing to unpack .../02-libjpeg62-turbo_1%3a1.5.2-2+deb10u1_amd64.deb ...\n",
            "Unpacking libjpeg62-turbo:amd64 (1:1.5.2-2+deb10u1) ...\n",
            "Selecting previously unselected package libre2-5:amd64.\n",
            "Preparing to unpack .../03-libre2-5_20200101+dfsg-1build1_amd64.deb ...\n",
            "Unpacking libre2-5:amd64 (20200101+dfsg-1build1) ...\n",
            "Selecting previously unselected package libvpx5:amd64.\n",
            "Preparing to unpack .../04-libvpx5_1.7.0-3+deb10u1_amd64.deb ...\n",
            "Unpacking libvpx5:amd64 (1.7.0-3+deb10u1) ...\n",
            "Selecting previously unselected package libxxf86dga1:amd64.\n",
            "Preparing to unpack .../05-libxxf86dga1_2%3a1.1.5-0ubuntu1_amd64.deb ...\n",
            "Unpacking libxxf86dga1:amd64 (2:1.1.5-0ubuntu1) ...\n",
            "Selecting previously unselected package x11-utils.\n",
            "Preparing to unpack .../06-x11-utils_7.7+5_amd64.deb ...\n",
            "Unpacking x11-utils (7.7+5) ...\n",
            "Selecting previously unselected package chromium-common.\n",
            "Preparing to unpack .../07-chromium-common_90.0.4430.212-1~deb10u1_amd64.deb ...\n",
            "Unpacking chromium-common (90.0.4430.212-1~deb10u1) ...\n",
            "Selecting previously unselected package chromium.\n",
            "Preparing to unpack .../08-chromium_90.0.4430.212-1~deb10u1_amd64.deb ...\n",
            "Unpacking chromium (90.0.4430.212-1~deb10u1) ...\n",
            "Selecting previously unselected package chromium-driver.\n",
            "Preparing to unpack .../09-chromium-driver_90.0.4430.212-1~deb10u1_amd64.deb ...\n",
            "Unpacking chromium-driver (90.0.4430.212-1~deb10u1) ...\n",
            "Selecting previously unselected package chromium-sandbox.\n",
            "Preparing to unpack .../10-chromium-sandbox_90.0.4430.212-1~deb10u1_amd64.deb ...\n",
            "Unpacking chromium-sandbox (90.0.4430.212-1~deb10u1) ...\n",
            "Selecting previously unselected package libplist3:amd64.\n",
            "Preparing to unpack .../11-libplist3_2.1.0-4build2_amd64.deb ...\n",
            "Unpacking libplist3:amd64 (2.1.0-4build2) ...\n",
            "Selecting previously unselected package libusbmuxd6:amd64.\n",
            "Preparing to unpack .../12-libusbmuxd6_2.0.1-2_amd64.deb ...\n",
            "Unpacking libusbmuxd6:amd64 (2.0.1-2) ...\n",
            "Selecting previously unselected package libimobiledevice6:amd64.\n",
            "Preparing to unpack .../13-libimobiledevice6_1.2.1~git20191129.9f79242-1build1_amd64.deb ...\n",
            "Unpacking libimobiledevice6:amd64 (1.2.1~git20191129.9f79242-1build1) ...\n",
            "Selecting previously unselected package libu2f-udev.\n",
            "Preparing to unpack .../14-libu2f-udev_1.1.10-1_all.deb ...\n",
            "Unpacking libu2f-udev (1.1.10-1) ...\n",
            "Selecting previously unselected package upower.\n",
            "Preparing to unpack .../15-upower_0.99.11-1build2_amd64.deb ...\n",
            "Unpacking upower (0.99.11-1build2) ...\n",
            "Selecting previously unselected package usbmuxd.\n",
            "Preparing to unpack .../16-usbmuxd_1.1.1~git20191130.9af2b12-1_amd64.deb ...\n",
            "Unpacking usbmuxd (1.1.1~git20191130.9af2b12-1) ...\n",
            "Setting up libplist3:amd64 (2.1.0-4build2) ...\n",
            "Setting up libu2f-udev (1.1.10-1) ...\n",
            "Failed to send reload request: No such file or directory\n",
            "Setting up libxxf86dga1:amd64 (2:1.1.5-0ubuntu1) ...\n",
            "Setting up chromium-sandbox (90.0.4430.212-1~deb10u1) ...\n",
            "Setting up libicu63:amd64 (63.1-6+deb10u3) ...\n",
            "Setting up libjpeg62-turbo:amd64 (1:1.5.2-2+deb10u1) ...\n",
            "Setting up libevent-2.1-6:amd64 (2.1.8-stable-4) ...\n",
            "Setting up libusbmuxd6:amd64 (2.0.1-2) ...\n",
            "Setting up x11-utils (7.7+5) ...\n",
            "Setting up libre2-5:amd64 (20200101+dfsg-1build1) ...\n",
            "Setting up chromium-common (90.0.4430.212-1~deb10u1) ...\n",
            "Setting up libimobiledevice6:amd64 (1.2.1~git20191129.9f79242-1build1) ...\n",
            "Setting up libvpx5:amd64 (1.7.0-3+deb10u1) ...\n",
            "Setting up upower (0.99.11-1build2) ...\n",
            "Setting up usbmuxd (1.1.1~git20191130.9af2b12-1) ...\n",
            "Warning: The home dir /var/lib/usbmux you specified can't be accessed: No such file or directory\n",
            "Adding system user `usbmux' (UID 107) ...\n",
            "Adding new user `usbmux' (UID 107) with group `plugdev' ...\n",
            "Not creating home directory `/var/lib/usbmux'.\n",
            "Setting up chromium (90.0.4430.212-1~deb10u1) ...\n",
            "update-alternatives: using /usr/bin/chromium to provide /usr/bin/x-www-browser (x-www-browser) in auto mode\n",
            "update-alternatives: using /usr/bin/chromium to provide /usr/bin/gnome-www-browser (gnome-www-browser) in auto mode\n",
            "Setting up chromium-driver (90.0.4430.212-1~deb10u1) ...\n",
            "Processing triggers for man-db (2.9.1-1) ...\n",
            "Processing triggers for dbus (1.12.16-2ubuntu2.3) ...\n",
            "Processing triggers for mime-support (3.64ubuntu1) ...\n",
            "Processing triggers for hicolor-icon-theme (0.17-2) ...\n",
            "Processing triggers for libc-bin (2.31-0ubuntu9.9) ...\n",
            "Looking in indexes: https://pypi.org/simple, https://us-python.pkg.dev/colab-wheels/public/simple/\n",
            "Collecting selenium\n",
            "  Downloading selenium-4.8.3-py3-none-any.whl (6.5 MB)\n",
            "\u001b[2K     \u001b[90m━━━━━━━━━━━━━━━━━━━━━━━━━━━━━━━━━━━━━━━━\u001b[0m \u001b[32m6.5/6.5 MB\u001b[0m \u001b[31m48.3 MB/s\u001b[0m eta \u001b[36m0:00:00\u001b[0m\n",
            "\u001b[?25hRequirement already satisfied: certifi>=2021.10.8 in /usr/local/lib/python3.9/dist-packages (from selenium) (2022.12.7)\n",
            "Collecting trio-websocket~=0.9\n",
            "  Downloading trio_websocket-0.10.2-py3-none-any.whl (17 kB)\n",
            "Requirement already satisfied: urllib3[socks]~=1.26 in /usr/local/lib/python3.9/dist-packages (from selenium) (1.26.15)\n",
            "Collecting trio~=0.17\n",
            "  Downloading trio-0.22.0-py3-none-any.whl (384 kB)\n",
            "\u001b[2K     \u001b[90m━━━━━━━━━━━━━━━━━━━━━━━━━━━━━━━━━━━━━━\u001b[0m \u001b[32m384.9/384.9 KB\u001b[0m \u001b[31m35.5 MB/s\u001b[0m eta \u001b[36m0:00:00\u001b[0m\n",
            "\u001b[?25hCollecting sniffio\n",
            "  Downloading sniffio-1.3.0-py3-none-any.whl (10 kB)\n",
            "Collecting async-generator>=1.9\n",
            "  Downloading async_generator-1.10-py3-none-any.whl (18 kB)\n",
            "Requirement already satisfied: attrs>=19.2.0 in /usr/local/lib/python3.9/dist-packages (from trio~=0.17->selenium) (22.2.0)\n",
            "Requirement already satisfied: exceptiongroup>=1.0.0rc9 in /usr/local/lib/python3.9/dist-packages (from trio~=0.17->selenium) (1.1.1)\n",
            "Collecting outcome\n",
            "  Downloading outcome-1.2.0-py2.py3-none-any.whl (9.7 kB)\n",
            "Requirement already satisfied: sortedcontainers in /usr/local/lib/python3.9/dist-packages (from trio~=0.17->selenium) (2.4.0)\n",
            "Requirement already satisfied: idna in /usr/local/lib/python3.9/dist-packages (from trio~=0.17->selenium) (3.4)\n",
            "Collecting wsproto>=0.14\n",
            "  Downloading wsproto-1.2.0-py3-none-any.whl (24 kB)\n",
            "Requirement already satisfied: PySocks!=1.5.7,<2.0,>=1.5.6 in /usr/local/lib/python3.9/dist-packages (from urllib3[socks]~=1.26->selenium) (1.7.1)\n",
            "Collecting h11<1,>=0.9.0\n",
            "  Downloading h11-0.14.0-py3-none-any.whl (58 kB)\n",
            "\u001b[2K     \u001b[90m━━━━━━━━━━━━━━━━━━━━━━━━━━━━━━━━━━━━━━━━\u001b[0m \u001b[32m58.3/58.3 KB\u001b[0m \u001b[31m8.0 MB/s\u001b[0m eta \u001b[36m0:00:00\u001b[0m\n",
            "\u001b[?25hInstalling collected packages: sniffio, outcome, h11, async-generator, wsproto, trio, trio-websocket, selenium\n",
            "Successfully installed async-generator-1.10 h11-0.14.0 outcome-1.2.0 selenium-4.8.3 sniffio-1.3.0 trio-0.22.0 trio-websocket-0.10.2 wsproto-1.2.0\n"
          ]
        },
        {
          "output_type": "execute_result",
          "data": {
            "text/plain": []
          },
          "metadata": {},
          "execution_count": 1
        }
      ],
      "source": [
        "%%shell\n",
        "# Ubuntu no longer distributes chromium-browser outside of snap\n",
        "#\n",
        "# Proposed solution: https://askubuntu.com/questions/1204571/how-to-install-chromium-without-snap\n",
        "\n",
        "# Add debian buster\n",
        "cat > /etc/apt/sources.list.d/debian.list <<'EOF'\n",
        "deb [arch=amd64 signed-by=/usr/share/keyrings/debian-buster.gpg] http://deb.debian.org/debian buster main\n",
        "deb [arch=amd64 signed-by=/usr/share/keyrings/debian-buster-updates.gpg] http://deb.debian.org/debian buster-updates main\n",
        "deb [arch=amd64 signed-by=/usr/share/keyrings/debian-security-buster.gpg] http://deb.debian.org/debian-security buster/updates main\n",
        "EOF\n",
        "\n",
        "# Add keys\n",
        "apt-key adv --keyserver keyserver.ubuntu.com --recv-keys DCC9EFBF77E11517\n",
        "apt-key adv --keyserver keyserver.ubuntu.com --recv-keys 648ACFD622F3D138\n",
        "apt-key adv --keyserver keyserver.ubuntu.com --recv-keys 112695A0E562B32A\n",
        "\n",
        "apt-key export 77E11517 | gpg --dearmour -o /usr/share/keyrings/debian-buster.gpg\n",
        "apt-key export 22F3D138 | gpg --dearmour -o /usr/share/keyrings/debian-buster-updates.gpg\n",
        "apt-key export E562B32A | gpg --dearmour -o /usr/share/keyrings/debian-security-buster.gpg\n",
        "\n",
        "# Prefer debian repo for chromium* packages only\n",
        "# Note the double-blank lines between entries\n",
        "cat > /etc/apt/preferences.d/chromium.pref << 'EOF'\n",
        "Package: *\n",
        "Pin: release a=eoan\n",
        "Pin-Priority: 500\n",
        "\n",
        "\n",
        "Package: *\n",
        "Pin: origin \"deb.debian.org\"\n",
        "Pin-Priority: 300\n",
        "\n",
        "\n",
        "Package: chromium*\n",
        "Pin: origin \"deb.debian.org\"\n",
        "Pin-Priority: 700\n",
        "EOF\n",
        "\n",
        "# Install chromium and chromium-driver\n",
        "apt-get update\n",
        "apt-get install chromium chromium-driver\n",
        "\n",
        "# Install selenium\n",
        "pip install selenium"
      ]
    },
    {
      "cell_type": "code",
      "source": [
        "#環境変数設定\n",
        "TARGET_URL = 'https://r.gnavi.co.jp/saitama/#link-searchShops'\n",
        "DRIVER_WAIT_TIME = 2\n",
        "\n",
        "#取得データ格納先\n",
        "result_dict = { \n",
        "    '店名': [],\n",
        "    '電話番号':[],\n",
        "    '住所': [],\n",
        "    'URL':[],\n",
        "}"
      ],
      "metadata": {
        "id": "jbZMQ51YjMy3"
      },
      "execution_count": 51,
      "outputs": []
    },
    {
      "cell_type": "code",
      "source": [
        "#標準ライブラリ\n",
        "import os\n",
        "import json\n",
        "\n",
        "#サードパーティライブラリ\n",
        "from google.colab import drive\n",
        "from selenium import webdriver\n",
        "from selenium.webdriver.common.by import By\n",
        "from logging import (\n",
        "    getLogger, \n",
        "    StreamHandler, \n",
        "    DEBUG, \n",
        "    INFO, \n",
        "    Formatter, \n",
        "    config\n",
        ")\n",
        "# drive.mount('/content/drive')"
      ],
      "metadata": {
        "id": "EqRUgFRBcvlw"
      },
      "execution_count": 52,
      "outputs": []
    },
    {
      "cell_type": "code",
      "source": [
        "options = webdriver.ChromeOptions()\n",
        "options.add_argument('--no-sandbox')\n",
        "options.add_argument('--headless')\n",
        "options.add_argument('--disable-gpu')\n",
        "options.add_argument('--disable-dev-shm-usage')\n",
        "options.add_argument('--ignore-certificate-errors')\n",
        "options.add_argument(\"--disable-extensions\")\n",
        "options.add_argument(\"--disable-popup-blocking\")\n",
        "options.add_argument(\n",
        "       \"user-agent=Mozilla/5.0 (X11; Linux x86_64; rv:93.0) Gecko/20100101 Firefox/93.0\"\n",
        "    )\n",
        "options.add_experimental_option(\"prefs\", {\n",
        "    \"profile.managed_default_content_settings.images\": 2,  # 画像の無効化\n",
        "    \"profile.managed_default_content_settings.plugins\": 2,  # プラグインの無効化\n",
        "})\n",
        "\n",
        "driver = webdriver.Chrome('chromedriver', options=options)\n",
        "driver.implicitly_wait(DRIVER_WAIT_TIME)"
      ],
      "metadata": {
        "id": "S0ODys955Hvi"
      },
      "execution_count": 53,
      "outputs": []
    },
    {
      "cell_type": "code",
      "source": [
        "root = 'https://r.gnavi.co.jp/saitama/#link-searchShops'\n",
        "target = '埼玉県'\n",
        "\n",
        "#カスタムロガーの設定\n",
        "with open('/content/drive/MyDrive/Colab Notebooks/dev/web_scraping_crownstrategy/logging_config.json', 'r') as f:\n",
        "    logger_config = json.load(f)\n",
        "config.dictConfig(logger_config)\n",
        "logger = getLogger('main')\n",
        "\n",
        "try:\n",
        "      driver.get(root)\n",
        "      logger.debug(f'{target}：トップページへ移動しました')\n",
        "except Exception as e:\n",
        "      logger.error(f'{target}：トップページへ移動出来ませんでした: [e]')"
      ],
      "metadata": {
        "id": "reUJItU541Cn",
        "colab": {
          "base_uri": "https://localhost:8080/"
        },
        "outputId": "8bbaf8f4-adfd-4b1c-8d2e-7f62ca09213e"
      },
      "execution_count": 54,
      "outputs": [
        {
          "output_type": "stream",
          "name": "stdout",
          "text": [
            "2023-04-13 13:28:34,562 [DEBUG] main: 埼玉県：トップページへ移動しました\n"
          ]
        }
      ]
    },
    {
      "cell_type": "code",
      "source": [
        "#ジャンル別URL取得\n",
        "a_elements = driver.find_elements(By.CSS_SELECTOR,\".swiper-wrapper a\")\n",
        "target_urls = [a_element.get_attribute('href') for a_element in a_elements]\n",
        "print(target_urls)"
      ],
      "metadata": {
        "colab": {
          "base_uri": "https://localhost:8080/"
        },
        "id": "1n_RlS5BfIfO",
        "outputId": "3dec7167-302e-4af4-e203-b67676bcb62f"
      },
      "execution_count": 55,
      "outputs": [
        {
          "output_type": "stream",
          "name": "stdout",
          "text": [
            "['https://r.gnavi.co.jp/area/saitama/kods00317/rs/', 'https://r.gnavi.co.jp/plan/campaign?sc_lid=cp_preftop_mainPickup_01', 'https://r.gnavi.co.jp/area/saitama/kods00317/rs/', 'https://r.gnavi.co.jp/plan/campaign?sc_lid=cp_preftop_mainPickup_01', 'https://pr.gnavi.co.jp/mb/gurunavi-select/?area=PREF11&sc_lid=mb_saitama_preftop', 'https://r.gnavi.co.jp/area/saitama/kods00066/rs/', 'https://r.gnavi.co.jp/area/saitama/kods00078/rs/', 'https://r.gnavi.co.jp/area/saitama/kods00145/rs/', 'https://r.gnavi.co.jp/kggmt72z0000/', 'https://r.gnavi.co.jp/gf61x3b80000/', 'https://r.gnavi.co.jp/1aac7zpn0000/', 'https://r.gnavi.co.jp/fru64z9v0000/', 'https://r.gnavi.co.jp/mau236h80000/', 'https://r.gnavi.co.jp/ffczvukw0000/', 'https://r.gnavi.co.jp/j127z0px0000/', 'https://r.gnavi.co.jp/gd7m901/', 'https://r.gnavi.co.jp/6nv2bve30000/', 'https://r.gnavi.co.jp/cwur2dhd0000/', 'https://r.gnavi.co.jp/87nevypn0000/', 'https://r.gnavi.co.jp/c1g7fzh50000/', 'https://r.gnavi.co.jp/e969100/', 'https://r.gnavi.co.jp/ggjvgwbn0000/', 'https://r.gnavi.co.jp/d7zf4hps0000/', 'https://r.gnavi.co.jp/p623700/', 'https://r.gnavi.co.jp/6hrx430w0000/', 'https://r.gnavi.co.jp/4079u1tz0000/', 'https://r.gnavi.co.jp/a968400/', 'https://r.gnavi.co.jp/kes019pe0000/', 'https://r.gnavi.co.jp/a600600/', 'https://r.gnavi.co.jp/70txrr140000/', 'https://r.gnavi.co.jp/hez46g8h0000/', 'https://r.gnavi.co.jp/gd1v400/', 'https://r.gnavi.co.jp/e108900/', 'https://r.gnavi.co.jp/gfz2vh5w0000/', 'https://r.gnavi.co.jp/gak6600/', 'https://r.gnavi.co.jp/7hr1rxh30000/', 'https://r.gnavi.co.jp/g7h2vakc0000/', 'https://r.gnavi.co.jp/98se8fps0000/', 'https://r.gnavi.co.jp/c35sckfc0000/', 'https://r.gnavi.co.jp/srmnc7wh0000/', 'https://r.gnavi.co.jp/kvxm1sxa0000/', 'https://r.gnavi.co.jp/e159700/', 'https://r.gnavi.co.jp/r1dy12110000/', 'https://r.gnavi.co.jp/e160tjkc0000/', 'https://r.gnavi.co.jp/jehrx5hx0000/', 'https://r.gnavi.co.jp/pyphfpny0000/', 'https://r.gnavi.co.jp/evj1879f0000/', 'https://r.gnavi.co.jp/gam7702/', 'https://gurutabi.gnavi.co.jp/i/i_347/', 'https://gurutabi.gnavi.co.jp/i/i_379/', 'https://gurutabi.gnavi.co.jp/i/i_390/', 'https://gurutabi.gnavi.co.jp/i/i_367/', 'https://gurutabi.gnavi.co.jp/i/i_3153/', 'https://gurutabi.gnavi.co.jp/i/i_2002/', 'https://gurutabi.gnavi.co.jp/i/i_359/', 'https://gurutabi.gnavi.co.jp/i/i_373/', 'https://gurutabi.gnavi.co.jp/i/i_352/', 'https://gurutabi.gnavi.co.jp/i/i_3635/', 'https://r.gnavi.co.jp/area/saitama/izakaya/rs/', 'https://r.gnavi.co.jp/area/saitama/japanese/rs/', 'https://r.gnavi.co.jp/area/saitama/sushi/rs/', 'https://r.gnavi.co.jp/area/saitama/roastmeat/rs/', 'https://r.gnavi.co.jp/area/saitama/western/rs/', 'https://r.gnavi.co.jp/area/saitama/buffet/rs/', 'https://r.gnavi.co.jp/area/saitama/curry/rs/', 'https://r.gnavi.co.jp/area/saitama/chinese/rs/', 'https://r.gnavi.co.jp/area/saitama/continental/rs/', 'https://r.gnavi.co.jp/area/saitama/hotpots/rs/', 'https://r.gnavi.co.jp/area/saitama/ethnic/rs/', 'https://r.gnavi.co.jp/area/saitama/noodle/rs/', 'https://r.gnavi.co.jp/area/saitama/beerandcuisine/rs/', 'https://r.gnavi.co.jp/area/saitama/cafe/rs/', 'https://r.gnavi.co.jp/area/saitama/entertainment/rs/', 'https://r.gnavi.co.jp/area/saitama/casual/rs/', 'https://r.gnavi.co.jp/area/saitama/others/rs/']\n"
          ]
        }
      ]
    },
    {
      "cell_type": "code",
      "source": [
        "#ページ遷移(トップページ → 店舗リストページ)\n",
        "target_url = target_urls[0]\n",
        "try:\n",
        "      driver.get(target_url)\n",
        "      logger.debug(f'{target}：店舗リストページへ移動しました')\n",
        "except Exception as e:\n",
        "      logger.error(f'{target}：店舗リストページへ移動出来ませんでした: [e]')"
      ],
      "metadata": {
        "colab": {
          "base_uri": "https://localhost:8080/"
        },
        "id": "wJVAL1cEfIF0",
        "outputId": "21eafcfe-bbbb-4857-a052-7e37cc1ad5b4"
      },
      "execution_count": 60,
      "outputs": [
        {
          "output_type": "stream",
          "name": "stdout",
          "text": [
            "2023-04-13 14:35:42,185 [DEBUG] main: 埼玉県：店舗リストページへ移動しました\n"
          ]
        }
      ]
    },
    {
      "cell_type": "code",
      "source": [
        "#店舗リスト全ページ取得\n",
        "\n",
        "#各店舗URLを取得\n",
        "a_elements = driver.find_elements(By.CSS_SELECTOR,\".style_title___HrjW a\")\n",
        "store_urls = [a_element.get_attribute('href') for a_element in a_elements]\n",
        "print(len(store_urls))"
      ],
      "metadata": {
        "colab": {
          "base_uri": "https://localhost:8080/"
        },
        "id": "ER9cRjNFfHkP",
        "outputId": "91fbb6e9-70cb-4b66-fb56-1cc26b53944c"
      },
      "execution_count": 63,
      "outputs": [
        {
          "output_type": "stream",
          "name": "stdout",
          "text": [
            "24\n"
          ]
        }
      ]
    },
    {
      "cell_type": "code",
      "source": [
        "#店舗個別URLへ遷移して情報取得\n",
        "\n",
        "#既に取得済みの店舗はスキップ\n",
        "\n",
        "for store_url in store_urls:\n",
        "  try:\n",
        "      driver.get(store_url)\n",
        "      logger.debug(f'{target}：店舗リストページへ移動しました')\n",
        "  except Exception as e:\n",
        "      logger.error(f'{target}：店舗リストページへ移動出来ませんでした: [e]')\n",
        "\n",
        "  #店舗名/住所/電話番号取得\n",
        "  store_name = driver.find_elements(By.ID,\"info-name\").text\n",
        "  phone_number = driver.find_elements(By.CSS_SELECTOR,\".number\").text \n",
        "  address = driver.find_elements(By.CSS_SELECTOR,\".region\").text\n",
        "  \n",
        "  #結果格納\n",
        "  result_dict['店名'].append(store_name)\n",
        "  result_dict['電話番号'].append(phone_number)\n",
        "  result_dict['住所'].append(address)\n",
        "  result_dict['URL'].append(store_url)\n",
        "  \n",
        "result_dict"
      ],
      "metadata": {
        "colab": {
          "base_uri": "https://localhost:8080/"
        },
        "id": "fs1gCOGfrQA_",
        "outputId": "d2642857-58c1-45d5-be1f-f6953f6f5394"
      },
      "execution_count": 64,
      "outputs": [
        {
          "output_type": "stream",
          "name": "stdout",
          "text": [
            "2023-04-13 14:40:36,151 [DEBUG] main: 埼玉県：店舗リストページへ移動しました\n",
            "2023-04-13 14:40:40,686 [DEBUG] main: 埼玉県：店舗リストページへ移動しました\n",
            "2023-04-13 14:40:45,918 [DEBUG] main: 埼玉県：店舗リストページへ移動しました\n",
            "2023-04-13 14:40:50,670 [DEBUG] main: 埼玉県：店舗リストページへ移動しました\n",
            "2023-04-13 14:40:55,608 [DEBUG] main: 埼玉県：店舗リストページへ移動しました\n",
            "2023-04-13 14:41:00,986 [DEBUG] main: 埼玉県：店舗リストページへ移動しました\n",
            "2023-04-13 14:41:04,656 [DEBUG] main: 埼玉県：店舗リストページへ移動しました\n",
            "2023-04-13 14:41:09,711 [DEBUG] main: 埼玉県：店舗リストページへ移動しました\n",
            "2023-04-13 14:41:14,452 [DEBUG] main: 埼玉県：店舗リストページへ移動しました\n",
            "2023-04-13 14:41:19,333 [DEBUG] main: 埼玉県：店舗リストページへ移動しました\n",
            "2023-04-13 14:41:23,438 [DEBUG] main: 埼玉県：店舗リストページへ移動しました\n",
            "2023-04-13 14:41:27,240 [DEBUG] main: 埼玉県：店舗リストページへ移動しました\n",
            "2023-04-13 14:41:32,543 [DEBUG] main: 埼玉県：店舗リストページへ移動しました\n",
            "2023-04-13 14:41:38,179 [DEBUG] main: 埼玉県：店舗リストページへ移動しました\n",
            "2023-04-13 14:41:43,261 [DEBUG] main: 埼玉県：店舗リストページへ移動しました\n",
            "2023-04-13 14:41:48,400 [DEBUG] main: 埼玉県：店舗リストページへ移動しました\n",
            "2023-04-13 14:41:52,435 [DEBUG] main: 埼玉県：店舗リストページへ移動しました\n",
            "2023-04-13 14:41:57,266 [DEBUG] main: 埼玉県：店舗リストページへ移動しました\n",
            "2023-04-13 14:42:00,414 [DEBUG] main: 埼玉県：店舗リストページへ移動しました\n",
            "2023-04-13 14:42:03,814 [DEBUG] main: 埼玉県：店舗リストページへ移動しました\n",
            "2023-04-13 14:42:08,742 [DEBUG] main: 埼玉県：店舗リストページへ移動しました\n",
            "2023-04-13 14:42:13,914 [DEBUG] main: 埼玉県：店舗リストページへ移動しました\n",
            "2023-04-13 14:42:18,612 [DEBUG] main: 埼玉県：店舗リストページへ移動しました\n",
            "2023-04-13 14:42:22,544 [DEBUG] main: 埼玉県：店舗リストページへ移動しました\n",
            "{'店名': [[<selenium.webdriver.remote.webelement.WebElement (session=\"889c7b19ba68703d8c0f27c219a374a0\", element=\"a5874f98-9ba9-42bb-ba1c-31674090dcc4\")>], [<selenium.webdriver.remote.webelement.WebElement (session=\"889c7b19ba68703d8c0f27c219a374a0\", element=\"c2ef1d6f-b9d5-4228-b0c0-417576148fc3\")>], [], [], [], [], [], [], [], [], [], [], [], [], [], [], [], [], [<selenium.webdriver.remote.webelement.WebElement (session=\"889c7b19ba68703d8c0f27c219a374a0\", element=\"ca210c0e-fb79-4867-a68c-df588f7e6af5\")>], [<selenium.webdriver.remote.webelement.WebElement (session=\"889c7b19ba68703d8c0f27c219a374a0\", element=\"46e18038-bd90-43dd-b9de-b50db1001789\")>], [], [], [], [], [], [], [], [], [], [], [], [], [<selenium.webdriver.remote.webelement.WebElement (session=\"889c7b19ba68703d8c0f27c219a374a0\", element=\"aac15f67-3503-458c-bfa8-620207521b0c\")>], [<selenium.webdriver.remote.webelement.WebElement (session=\"889c7b19ba68703d8c0f27c219a374a0\", element=\"3e45926e-16d5-4b0a-b058-e60e50666b1c\")>], [], [], [], [], [], [], [], [], [], [], [], [], [], [<selenium.webdriver.remote.webelement.WebElement (session=\"889c7b19ba68703d8c0f27c219a374a0\", element=\"8177b661-a5d7-46da-a555-78e9c3c597a4\")>], [<selenium.webdriver.remote.webelement.WebElement (session=\"889c7b19ba68703d8c0f27c219a374a0\", element=\"2ec825be-924f-47c9-be9a-a4420fd702c7\")>], [], [], [], [], [], [], [], [], [], [], [], [], [], [], [<selenium.webdriver.remote.webelement.WebElement (session=\"889c7b19ba68703d8c0f27c219a374a0\", element=\"d0a0fc3e-e43e-4848-9580-8f52f98a12e2\")>], [<selenium.webdriver.remote.webelement.WebElement (session=\"889c7b19ba68703d8c0f27c219a374a0\", element=\"2a2d29ca-3830-42fc-bfcb-4c96eefccb58\")>], [], [], [], [], [], [], [], [<selenium.webdriver.remote.webelement.WebElement (session=\"889c7b19ba68703d8c0f27c219a374a0\", element=\"6e9f0dbe-8955-4e9b-b77a-2fe28079ccef\")>], [<selenium.webdriver.remote.webelement.WebElement (session=\"889c7b19ba68703d8c0f27c219a374a0\", element=\"23291f2a-8bf0-411a-9670-c2f422f4b860\")>], [], [], [], [], [], [], [], [], [], [], [], [], [], [], [], [], [<selenium.webdriver.remote.webelement.WebElement (session=\"889c7b19ba68703d8c0f27c219a374a0\", element=\"093c00cd-2111-47fd-8c7d-efa78fd7734b\")>], [<selenium.webdriver.remote.webelement.WebElement (session=\"889c7b19ba68703d8c0f27c219a374a0\", element=\"b215931a-35b3-478c-9a4a-7e1545174f87\")>], [], [], [], [], [], [], [], [], [], [], [], [], [], [], [], [], [<selenium.webdriver.remote.webelement.WebElement (session=\"889c7b19ba68703d8c0f27c219a374a0\", element=\"d4f72088-1f24-40aa-92fb-301199587692\")>], [<selenium.webdriver.remote.webelement.WebElement (session=\"889c7b19ba68703d8c0f27c219a374a0\", element=\"1cf53e3f-15ff-4cb7-96e5-86eeeb7026a9\")>], [], [], [], [], [], [], [], [], [], [], [], [], [], [], [], [], [<selenium.webdriver.remote.webelement.WebElement (session=\"889c7b19ba68703d8c0f27c219a374a0\", element=\"ee9f2758-135d-4b5c-89df-fc0668691f4d\")>], [<selenium.webdriver.remote.webelement.WebElement (session=\"889c7b19ba68703d8c0f27c219a374a0\", element=\"ed42a120-0fff-4f37-9b78-70f4f1afb6d8\")>], [], [], [], [], [], [], [], [], [], [], [], [], [], [<selenium.webdriver.remote.webelement.WebElement (session=\"889c7b19ba68703d8c0f27c219a374a0\", element=\"f879f176-63a3-4ece-8637-fdd81250a932\")>], [<selenium.webdriver.remote.webelement.WebElement (session=\"889c7b19ba68703d8c0f27c219a374a0\", element=\"d5c5a196-c49b-4c9a-8f1a-9bd769d9dca6\")>], [], [], [], [], [], [], [], [], [], [], [], [], [], [], [], [], [<selenium.webdriver.remote.webelement.WebElement (session=\"889c7b19ba68703d8c0f27c219a374a0\", element=\"695faf42-5641-42b1-9bd0-e2379bbc50d5\")>], [<selenium.webdriver.remote.webelement.WebElement (session=\"889c7b19ba68703d8c0f27c219a374a0\", element=\"557c841d-90eb-4499-beef-395f2ed7b3fe\")>], [], [], [], [], [], [], [], [], [], [], [], [<selenium.webdriver.remote.webelement.WebElement (session=\"889c7b19ba68703d8c0f27c219a374a0\", element=\"cfb33052-3791-4f6c-ad85-9da16726c1bb\")>], [<selenium.webdriver.remote.webelement.WebElement (session=\"889c7b19ba68703d8c0f27c219a374a0\", element=\"6c13bb8f-9354-4642-9e35-7d4e8a2419ad\")>], [], [], [], [], [], [], [], [], [], [], [], [], [], [], [<selenium.webdriver.remote.webelement.WebElement (session=\"889c7b19ba68703d8c0f27c219a374a0\", element=\"b87912d1-a0f7-4e30-a06a-cf7cbbc95a4a\")>], [<selenium.webdriver.remote.webelement.WebElement (session=\"889c7b19ba68703d8c0f27c219a374a0\", element=\"d40ef4ef-4cb0-4af6-bfa6-dba0981c34d0\")>], [], [], [], [], [], [], [], [], [], [], [], [], [], [], [], [], [<selenium.webdriver.remote.webelement.WebElement (session=\"889c7b19ba68703d8c0f27c219a374a0\", element=\"b7b17624-8c55-4eb9-a68c-1c61681b2a4b\")>], [<selenium.webdriver.remote.webelement.WebElement (session=\"889c7b19ba68703d8c0f27c219a374a0\", element=\"5e960596-8916-4008-8779-2a0d48ed7ce3\")>], [], [], [], [], [], [], [], [], [], [], [], [], [], [], [], [<selenium.webdriver.remote.webelement.WebElement (session=\"889c7b19ba68703d8c0f27c219a374a0\", element=\"3b0acae4-3f2e-441b-8c2e-3249e349fe9d\")>], [<selenium.webdriver.remote.webelement.WebElement (session=\"889c7b19ba68703d8c0f27c219a374a0\", element=\"7ce581e6-b7f3-4ed2-afe4-fbc9ddaacdab\")>], [], [], [], [], [], [], [], [], [], [], [], [], [], [], [], [<selenium.webdriver.remote.webelement.WebElement (session=\"889c7b19ba68703d8c0f27c219a374a0\", element=\"f7118d90-d5e9-4294-b4ff-4b4b44104c61\")>], [<selenium.webdriver.remote.webelement.WebElement (session=\"889c7b19ba68703d8c0f27c219a374a0\", element=\"c6dc0609-fdde-4d37-b74a-f0bfbad788ae\")>], [], [], [], [], [], [], [], [], [], [], [], [], [<selenium.webdriver.remote.webelement.WebElement (session=\"889c7b19ba68703d8c0f27c219a374a0\", element=\"52191650-b2b6-4cf5-b689-697275528c7d\")>], [<selenium.webdriver.remote.webelement.WebElement (session=\"889c7b19ba68703d8c0f27c219a374a0\", element=\"f4da6b4f-3f72-4d69-9de0-76385e44e373\")>], [], [], [], [], [], [], [], [], [], [], [], [], [], [], [], [], [<selenium.webdriver.remote.webelement.WebElement (session=\"889c7b19ba68703d8c0f27c219a374a0\", element=\"c8183a46-f145-452f-8738-991686d5fb26\")>], [<selenium.webdriver.remote.webelement.WebElement (session=\"889c7b19ba68703d8c0f27c219a374a0\", element=\"51406a54-7e4c-43a4-8b82-c6d77ba91351\")>], [], [], [], [], [], [], [], [], [], [], [], [], [], [<selenium.webdriver.remote.webelement.WebElement (session=\"889c7b19ba68703d8c0f27c219a374a0\", element=\"02ce68ee-1e54-409c-91d7-391325be167c\")>], [<selenium.webdriver.remote.webelement.WebElement (session=\"889c7b19ba68703d8c0f27c219a374a0\", element=\"aca5657d-519f-4261-972c-3d152af778ee\")>], [], [], [], [], [], [], [], [], [], [], [], [], [], [<selenium.webdriver.remote.webelement.WebElement (session=\"889c7b19ba68703d8c0f27c219a374a0\", element=\"632bbe3a-b9e9-4dc8-95fb-55627d73be9d\")>], [<selenium.webdriver.remote.webelement.WebElement (session=\"889c7b19ba68703d8c0f27c219a374a0\", element=\"ec28194a-e404-4bce-8c71-713e6ca406b9\")>], [], [], [], [], [], [], [], [], [], [], [], [], [], [], [], [], [<selenium.webdriver.remote.webelement.WebElement (session=\"889c7b19ba68703d8c0f27c219a374a0\", element=\"51d5b318-64a4-4468-aac7-b2c2c17d66a4\")>], [<selenium.webdriver.remote.webelement.WebElement (session=\"889c7b19ba68703d8c0f27c219a374a0\", element=\"2ee9333e-9106-49e1-801e-071dc3c704a1\")>], [], [], [], [], [], [], [], [], [], [], [], [], [], [], [<selenium.webdriver.remote.webelement.WebElement (session=\"889c7b19ba68703d8c0f27c219a374a0\", element=\"d3c53a45-59cf-41e6-a7ff-dda70c27a21f\")>], [<selenium.webdriver.remote.webelement.WebElement (session=\"889c7b19ba68703d8c0f27c219a374a0\", element=\"2948a9f5-5ba4-47e3-9156-0993f3cfef7f\")>], [], [], [], [], [], [], [], [], [], [], [], [], [], [], [], [], [<selenium.webdriver.remote.webelement.WebElement (session=\"889c7b19ba68703d8c0f27c219a374a0\", element=\"d5622c36-dbfb-41dc-9ddd-5acb5dc19c54\")>], [<selenium.webdriver.remote.webelement.WebElement (session=\"889c7b19ba68703d8c0f27c219a374a0\", element=\"eb6ac108-08aa-4fb7-9013-683b2ba73dc3\")>], [], [], [], [], [], [], [], [], [], [], [], [], [], [], [], [], [<selenium.webdriver.remote.webelement.WebElement (session=\"889c7b19ba68703d8c0f27c219a374a0\", element=\"1a742784-1752-45df-a8aa-4693284ae45e\")>], [<selenium.webdriver.remote.webelement.WebElement (session=\"889c7b19ba68703d8c0f27c219a374a0\", element=\"36070431-14bd-4169-8f20-f9c17ec58740\")>], [], [], [], [], [], [], [], [], [], [], [], [], [<selenium.webdriver.remote.webelement.WebElement (session=\"889c7b19ba68703d8c0f27c219a374a0\", element=\"d368148e-2402-46ae-acf5-b63589a76240\")>], [<selenium.webdriver.remote.webelement.WebElement (session=\"889c7b19ba68703d8c0f27c219a374a0\", element=\"26dab085-30a0-4b03-8f1b-7f24dd2e744b\")>], [<selenium.webdriver.remote.webelement.WebElement (session=\"889c7b19ba68703d8c0f27c219a374a0\", element=\"6d7ff63a-164c-4555-baa2-88c32a628595\")>], [<selenium.webdriver.remote.webelement.WebElement (session=\"889c7b19ba68703d8c0f27c219a374a0\", element=\"86da1bae-9487-4044-9aaa-9950d5df3d11\")>], [<selenium.webdriver.remote.webelement.WebElement (session=\"889c7b19ba68703d8c0f27c219a374a0\", element=\"f1afb589-a439-4d41-9be9-6edccad59427\")>], [<selenium.webdriver.remote.webelement.WebElement (session=\"889c7b19ba68703d8c0f27c219a374a0\", element=\"c4fa56d5-60ff-4eef-af9f-601371f345fd\")>], [<selenium.webdriver.remote.webelement.WebElement (session=\"889c7b19ba68703d8c0f27c219a374a0\", element=\"594577f0-43e9-4af9-ac01-eee8a6f35a89\")>], [<selenium.webdriver.remote.webelement.WebElement (session=\"889c7b19ba68703d8c0f27c219a374a0\", element=\"168d6cc1-9e43-4334-9199-fa28da499614\")>], [<selenium.webdriver.remote.webelement.WebElement (session=\"889c7b19ba68703d8c0f27c219a374a0\", element=\"5f634a38-6158-4b90-8904-371f2d833f02\")>], [<selenium.webdriver.remote.webelement.WebElement (session=\"889c7b19ba68703d8c0f27c219a374a0\", element=\"47661ea2-d4e3-4b79-9df1-b2d111da2c78\")>], [<selenium.webdriver.remote.webelement.WebElement (session=\"889c7b19ba68703d8c0f27c219a374a0\", element=\"7921de93-11fe-4deb-a25e-f5e30549eea6\")>], [<selenium.webdriver.remote.webelement.WebElement (session=\"889c7b19ba68703d8c0f27c219a374a0\", element=\"63d708d6-4a39-4c7b-ac1d-aad04820a521\")>], [<selenium.webdriver.remote.webelement.WebElement (session=\"889c7b19ba68703d8c0f27c219a374a0\", element=\"f8869718-977a-47cc-8eff-2a14f638d3d0\")>], [<selenium.webdriver.remote.webelement.WebElement (session=\"889c7b19ba68703d8c0f27c219a374a0\", element=\"3dcee879-7345-43f5-bbdf-c1bb1c183fca\")>], [<selenium.webdriver.remote.webelement.WebElement (session=\"889c7b19ba68703d8c0f27c219a374a0\", element=\"f4986e0c-33e9-4e0c-a91c-5c8b6f739cd9\")>], [<selenium.webdriver.remote.webelement.WebElement (session=\"889c7b19ba68703d8c0f27c219a374a0\", element=\"b5e3d8a3-1e95-4dbb-a7f5-5a176d024d95\")>], [<selenium.webdriver.remote.webelement.WebElement (session=\"889c7b19ba68703d8c0f27c219a374a0\", element=\"990fc285-8baa-4877-ad49-78cbfc1cb651\")>], [<selenium.webdriver.remote.webelement.WebElement (session=\"889c7b19ba68703d8c0f27c219a374a0\", element=\"1c05606d-d5ea-4be6-9c50-3197bcc4a0a1\")>], [<selenium.webdriver.remote.webelement.WebElement (session=\"889c7b19ba68703d8c0f27c219a374a0\", element=\"5ca92d7e-3c02-476c-8f6f-12b27c67fb64\")>], [<selenium.webdriver.remote.webelement.WebElement (session=\"889c7b19ba68703d8c0f27c219a374a0\", element=\"212c0d94-6bc0-4fe9-9a05-11a1d5985682\")>], [<selenium.webdriver.remote.webelement.WebElement (session=\"889c7b19ba68703d8c0f27c219a374a0\", element=\"ad7eb510-0591-43f3-ae7a-4af6c64fd505\")>], [<selenium.webdriver.remote.webelement.WebElement (session=\"889c7b19ba68703d8c0f27c219a374a0\", element=\"61b894b4-8891-407b-b0f3-31c62dd739dc\")>], [<selenium.webdriver.remote.webelement.WebElement (session=\"889c7b19ba68703d8c0f27c219a374a0\", element=\"1c1c5320-cff6-4340-9a60-0c0dc4d8942e\")>], [<selenium.webdriver.remote.webelement.WebElement (session=\"889c7b19ba68703d8c0f27c219a374a0\", element=\"73a8d545-fbe5-49a7-b916-35c057e65e12\")>]], '電話番号': [[<selenium.webdriver.remote.webelement.WebElement (session=\"889c7b19ba68703d8c0f27c219a374a0\", element=\"50f61532-b9bc-4e74-a15c-4ade651c8231\")>], [<selenium.webdriver.remote.webelement.WebElement (session=\"889c7b19ba68703d8c0f27c219a374a0\", element=\"650e8702-0b6a-4da0-870c-432747d3ba90\")>], [], [], [], [], [], [], [], [], [], [], [], [], [], [], [], [], [<selenium.webdriver.remote.webelement.WebElement (session=\"889c7b19ba68703d8c0f27c219a374a0\", element=\"27897da2-4e62-48ca-b8bb-3c7b43e03f7f\")>], [<selenium.webdriver.remote.webelement.WebElement (session=\"889c7b19ba68703d8c0f27c219a374a0\", element=\"7ba938bf-f0ab-4cd4-8472-6f4ec7696da4\")>], [], [], [], [], [], [], [], [], [], [], [], [], [<selenium.webdriver.remote.webelement.WebElement (session=\"889c7b19ba68703d8c0f27c219a374a0\", element=\"3aea195f-e844-49bb-a235-aa76a4a9b912\")>, <selenium.webdriver.remote.webelement.WebElement (session=\"889c7b19ba68703d8c0f27c219a374a0\", element=\"e7d5b2c3-c2b2-4f97-a7a0-26cdbe00c561\")>], [<selenium.webdriver.remote.webelement.WebElement (session=\"889c7b19ba68703d8c0f27c219a374a0\", element=\"e0cb47f0-70f4-461a-87ae-bbe000edb197\")>, <selenium.webdriver.remote.webelement.WebElement (session=\"889c7b19ba68703d8c0f27c219a374a0\", element=\"9a18f9d2-2a55-41e1-98bc-a9e71994f2a0\")>], [], [], [], [], [], [], [], [], [], [], [], [], [], [<selenium.webdriver.remote.webelement.WebElement (session=\"889c7b19ba68703d8c0f27c219a374a0\", element=\"3af57fee-d4cc-43d1-b3a3-2e3e0b97ad8c\")>], [<selenium.webdriver.remote.webelement.WebElement (session=\"889c7b19ba68703d8c0f27c219a374a0\", element=\"65383cb9-6fe1-4864-a50c-a401040ef6cd\")>], [], [], [], [], [], [], [], [], [], [], [], [], [], [], [<selenium.webdriver.remote.webelement.WebElement (session=\"889c7b19ba68703d8c0f27c219a374a0\", element=\"6d12f9ed-e851-4bd5-ac59-07f822904560\")>], [<selenium.webdriver.remote.webelement.WebElement (session=\"889c7b19ba68703d8c0f27c219a374a0\", element=\"92226a34-3989-46fb-9c49-2476c25699fc\")>], [], [], [], [], [], [], [], [<selenium.webdriver.remote.webelement.WebElement (session=\"889c7b19ba68703d8c0f27c219a374a0\", element=\"d919bb11-7659-44ea-ad51-b7d3086e32f8\")>], [<selenium.webdriver.remote.webelement.WebElement (session=\"889c7b19ba68703d8c0f27c219a374a0\", element=\"2dcbbcae-9051-40d9-8aa1-cfec6fb8d533\")>], [], [], [], [], [], [], [], [], [], [], [], [], [], [], [], [], [<selenium.webdriver.remote.webelement.WebElement (session=\"889c7b19ba68703d8c0f27c219a374a0\", element=\"0320aae8-fb1c-4350-a211-f461ee3c1215\")>], [<selenium.webdriver.remote.webelement.WebElement (session=\"889c7b19ba68703d8c0f27c219a374a0\", element=\"b1623590-2e76-4f73-b60f-7d39f3fcb2d9\")>], [], [], [], [], [], [], [], [], [], [], [], [], [], [], [], [], [<selenium.webdriver.remote.webelement.WebElement (session=\"889c7b19ba68703d8c0f27c219a374a0\", element=\"fade42b1-3ebb-4440-8044-a69dd5783312\")>], [<selenium.webdriver.remote.webelement.WebElement (session=\"889c7b19ba68703d8c0f27c219a374a0\", element=\"fed7596f-1d05-4e44-83e4-0a8a6830d0cb\")>], [], [], [], [], [], [], [], [], [], [], [], [], [], [], [], [], [<selenium.webdriver.remote.webelement.WebElement (session=\"889c7b19ba68703d8c0f27c219a374a0\", element=\"685fad73-f3e6-4361-b360-949b1f768c79\")>], [<selenium.webdriver.remote.webelement.WebElement (session=\"889c7b19ba68703d8c0f27c219a374a0\", element=\"cda4c373-f83e-4e4b-8e74-5d709a012fcc\")>], [], [], [], [], [], [], [], [], [], [], [], [], [], [<selenium.webdriver.remote.webelement.WebElement (session=\"889c7b19ba68703d8c0f27c219a374a0\", element=\"f2b8812f-8a78-4b5b-81ed-50ddcb93b1a2\")>], [<selenium.webdriver.remote.webelement.WebElement (session=\"889c7b19ba68703d8c0f27c219a374a0\", element=\"cb7b897e-7def-4b2f-949a-b989811a2827\")>], [], [], [], [], [], [], [], [], [], [], [], [], [], [], [], [], [<selenium.webdriver.remote.webelement.WebElement (session=\"889c7b19ba68703d8c0f27c219a374a0\", element=\"8a4fbe62-f072-4954-8061-39b8697eb713\")>], [<selenium.webdriver.remote.webelement.WebElement (session=\"889c7b19ba68703d8c0f27c219a374a0\", element=\"d1616f88-087d-46fa-8b13-1da0e5c842bf\")>], [], [], [], [], [], [], [], [], [], [], [], [<selenium.webdriver.remote.webelement.WebElement (session=\"889c7b19ba68703d8c0f27c219a374a0\", element=\"22d1473b-ff1f-408f-9c61-701e332c0c0a\")>], [<selenium.webdriver.remote.webelement.WebElement (session=\"889c7b19ba68703d8c0f27c219a374a0\", element=\"874a9920-84b2-4e25-a005-71f909518bf9\")>], [], [], [], [], [], [], [], [], [], [], [], [], [], [], [<selenium.webdriver.remote.webelement.WebElement (session=\"889c7b19ba68703d8c0f27c219a374a0\", element=\"2ff279f3-234d-4c28-ae72-ed9cc1bd8be5\")>], [<selenium.webdriver.remote.webelement.WebElement (session=\"889c7b19ba68703d8c0f27c219a374a0\", element=\"4125c4b0-0b5d-4487-a642-74043d1fae3e\")>], [], [], [], [], [], [], [], [], [], [], [], [], [], [], [], [], [<selenium.webdriver.remote.webelement.WebElement (session=\"889c7b19ba68703d8c0f27c219a374a0\", element=\"3f3486e6-f473-4f37-be7d-301f7999bad3\")>], [<selenium.webdriver.remote.webelement.WebElement (session=\"889c7b19ba68703d8c0f27c219a374a0\", element=\"67826b2e-2767-4959-8e8b-d6a1d63b9ca8\")>], [], [], [], [], [], [], [], [], [], [], [], [], [], [], [], [<selenium.webdriver.remote.webelement.WebElement (session=\"889c7b19ba68703d8c0f27c219a374a0\", element=\"d8c802eb-8beb-4d7a-bdab-0f311039776e\")>], [<selenium.webdriver.remote.webelement.WebElement (session=\"889c7b19ba68703d8c0f27c219a374a0\", element=\"b800099c-21ea-42f0-8cb1-896b845c3bf9\")>], [], [], [], [], [], [], [], [], [], [], [], [], [], [], [], [<selenium.webdriver.remote.webelement.WebElement (session=\"889c7b19ba68703d8c0f27c219a374a0\", element=\"f0de4bcd-83fb-4a35-ae3f-153891ee8314\")>], [<selenium.webdriver.remote.webelement.WebElement (session=\"889c7b19ba68703d8c0f27c219a374a0\", element=\"9c8bd1e6-90d4-45aa-98ae-079f4c7830a3\")>], [], [], [], [], [], [], [], [], [], [], [], [], [<selenium.webdriver.remote.webelement.WebElement (session=\"889c7b19ba68703d8c0f27c219a374a0\", element=\"dd2f5144-fe93-4552-84ba-64ce53fbb974\")>], [<selenium.webdriver.remote.webelement.WebElement (session=\"889c7b19ba68703d8c0f27c219a374a0\", element=\"01534197-fa6e-4363-ae49-f5e58c68fb40\")>], [], [], [], [], [], [], [], [], [], [], [], [], [], [], [], [], [<selenium.webdriver.remote.webelement.WebElement (session=\"889c7b19ba68703d8c0f27c219a374a0\", element=\"46795f2d-5989-47b5-9f35-a684c00c41fb\")>], [<selenium.webdriver.remote.webelement.WebElement (session=\"889c7b19ba68703d8c0f27c219a374a0\", element=\"596d645b-afab-4aec-8dd4-61cf5a8c8020\")>], [], [], [], [], [], [], [], [], [], [], [], [], [], [<selenium.webdriver.remote.webelement.WebElement (session=\"889c7b19ba68703d8c0f27c219a374a0\", element=\"341263ea-4fbf-4949-971b-01f475725a1f\")>], [<selenium.webdriver.remote.webelement.WebElement (session=\"889c7b19ba68703d8c0f27c219a374a0\", element=\"d04d1ee2-0db0-4a42-9b7e-c4a28747665b\")>], [], [], [], [], [], [], [], [], [], [], [], [], [], [<selenium.webdriver.remote.webelement.WebElement (session=\"889c7b19ba68703d8c0f27c219a374a0\", element=\"1c29d8a8-681f-45dd-b7ee-766e77d4eb44\")>], [<selenium.webdriver.remote.webelement.WebElement (session=\"889c7b19ba68703d8c0f27c219a374a0\", element=\"f5e40fa0-8612-43b7-b2e0-cd8c324b70d4\")>], [], [], [], [], [], [], [], [], [], [], [], [], [], [], [], [], [<selenium.webdriver.remote.webelement.WebElement (session=\"889c7b19ba68703d8c0f27c219a374a0\", element=\"c81b74db-d6b1-4646-acc7-0f310bf5f9ae\")>], [<selenium.webdriver.remote.webelement.WebElement (session=\"889c7b19ba68703d8c0f27c219a374a0\", element=\"b220e15a-9521-41ad-9a5b-3d5296f6807c\")>], [], [], [], [], [], [], [], [], [], [], [], [], [], [], [<selenium.webdriver.remote.webelement.WebElement (session=\"889c7b19ba68703d8c0f27c219a374a0\", element=\"6ab418ac-92c5-490e-8894-9d4dbf500e55\")>, <selenium.webdriver.remote.webelement.WebElement (session=\"889c7b19ba68703d8c0f27c219a374a0\", element=\"a36f14b0-bb36-48df-ab6e-4d40bc92419b\")>], [<selenium.webdriver.remote.webelement.WebElement (session=\"889c7b19ba68703d8c0f27c219a374a0\", element=\"cee06dca-d103-481d-833e-5b89e79e7e1e\")>, <selenium.webdriver.remote.webelement.WebElement (session=\"889c7b19ba68703d8c0f27c219a374a0\", element=\"ac017110-1bb5-4a84-aae9-6bd32a6a418a\")>], [], [], [], [], [], [], [], [], [], [], [], [], [], [], [], [], [<selenium.webdriver.remote.webelement.WebElement (session=\"889c7b19ba68703d8c0f27c219a374a0\", element=\"d78a546a-5951-4826-bf25-f40e30a17ca6\")>], [<selenium.webdriver.remote.webelement.WebElement (session=\"889c7b19ba68703d8c0f27c219a374a0\", element=\"649d71d4-a3bd-4447-8d80-0820cb5c9500\")>], [], [], [], [], [], [], [], [], [], [], [], [], [], [], [], [], [<selenium.webdriver.remote.webelement.WebElement (session=\"889c7b19ba68703d8c0f27c219a374a0\", element=\"614e8675-701c-4ab3-8c66-7dc022258fba\")>], [<selenium.webdriver.remote.webelement.WebElement (session=\"889c7b19ba68703d8c0f27c219a374a0\", element=\"f210e31e-eb16-4fea-a058-c46ed2fdef34\")>], [], [], [], [], [], [], [], [], [], [], [], [], [<selenium.webdriver.remote.webelement.WebElement (session=\"889c7b19ba68703d8c0f27c219a374a0\", element=\"ad089c93-476c-4d46-b2b5-547e92208605\")>], [<selenium.webdriver.remote.webelement.WebElement (session=\"889c7b19ba68703d8c0f27c219a374a0\", element=\"d5eeaa59-c2c8-43a0-bae5-232d858c70eb\")>], [<selenium.webdriver.remote.webelement.WebElement (session=\"889c7b19ba68703d8c0f27c219a374a0\", element=\"b13d892d-93bf-4a64-a092-ceddc7291134\")>, <selenium.webdriver.remote.webelement.WebElement (session=\"889c7b19ba68703d8c0f27c219a374a0\", element=\"b12bb86a-8857-4b3b-b360-3e1b0cd4eeea\")>], [<selenium.webdriver.remote.webelement.WebElement (session=\"889c7b19ba68703d8c0f27c219a374a0\", element=\"635387e7-a190-4d4c-b88a-832b314dfe6a\")>], [<selenium.webdriver.remote.webelement.WebElement (session=\"889c7b19ba68703d8c0f27c219a374a0\", element=\"6e04862d-9797-4ba5-810c-f223bb1cf700\")>], [<selenium.webdriver.remote.webelement.WebElement (session=\"889c7b19ba68703d8c0f27c219a374a0\", element=\"9b6ae922-0112-4d89-bef3-eb8ad1e12f11\")>], [<selenium.webdriver.remote.webelement.WebElement (session=\"889c7b19ba68703d8c0f27c219a374a0\", element=\"292decbc-d855-4477-9462-e641af71c43c\")>], [<selenium.webdriver.remote.webelement.WebElement (session=\"889c7b19ba68703d8c0f27c219a374a0\", element=\"004fa85f-5f41-492d-9439-784cb1905469\")>], [<selenium.webdriver.remote.webelement.WebElement (session=\"889c7b19ba68703d8c0f27c219a374a0\", element=\"f1db618f-9ebe-414e-b9d2-dde0ad26c1a2\")>], [<selenium.webdriver.remote.webelement.WebElement (session=\"889c7b19ba68703d8c0f27c219a374a0\", element=\"30577cd4-7710-4922-9a7e-71931ef8d418\")>], [<selenium.webdriver.remote.webelement.WebElement (session=\"889c7b19ba68703d8c0f27c219a374a0\", element=\"f6c48397-d0bd-4cd6-b157-174b56addf2e\")>], [<selenium.webdriver.remote.webelement.WebElement (session=\"889c7b19ba68703d8c0f27c219a374a0\", element=\"7b5ae875-f113-490a-9803-3bf575f6eecc\")>], [<selenium.webdriver.remote.webelement.WebElement (session=\"889c7b19ba68703d8c0f27c219a374a0\", element=\"8d369de7-3820-4d57-954a-9d8898e4ab3c\")>], [<selenium.webdriver.remote.webelement.WebElement (session=\"889c7b19ba68703d8c0f27c219a374a0\", element=\"67d8e6d1-5fbc-4df0-8f90-3c78570ce3ee\")>], [<selenium.webdriver.remote.webelement.WebElement (session=\"889c7b19ba68703d8c0f27c219a374a0\", element=\"b980dc1a-7444-48d0-9240-60e32a9ede39\")>], [<selenium.webdriver.remote.webelement.WebElement (session=\"889c7b19ba68703d8c0f27c219a374a0\", element=\"50098483-2e37-479b-aea2-ed322b5f6917\")>], [<selenium.webdriver.remote.webelement.WebElement (session=\"889c7b19ba68703d8c0f27c219a374a0\", element=\"a05608e6-0ff3-4786-9117-b657d9d16e3b\")>], [<selenium.webdriver.remote.webelement.WebElement (session=\"889c7b19ba68703d8c0f27c219a374a0\", element=\"c907a43e-b52d-4d01-be82-562ca68ed91a\")>], [<selenium.webdriver.remote.webelement.WebElement (session=\"889c7b19ba68703d8c0f27c219a374a0\", element=\"5cace11c-1d2b-4592-bff2-4020904d0f9e\")>], [<selenium.webdriver.remote.webelement.WebElement (session=\"889c7b19ba68703d8c0f27c219a374a0\", element=\"14acb5dc-b666-4fac-9691-6b8b6f5efc8d\")>], [<selenium.webdriver.remote.webelement.WebElement (session=\"889c7b19ba68703d8c0f27c219a374a0\", element=\"6ce764c8-f6fb-4dd9-a9c4-4cf49b7eedaa\")>], [<selenium.webdriver.remote.webelement.WebElement (session=\"889c7b19ba68703d8c0f27c219a374a0\", element=\"c59f0b3c-08fd-4b4f-b495-f89d1ad06211\")>, <selenium.webdriver.remote.webelement.WebElement (session=\"889c7b19ba68703d8c0f27c219a374a0\", element=\"7c407031-883c-43c5-98a4-657175aeb6e9\")>], [<selenium.webdriver.remote.webelement.WebElement (session=\"889c7b19ba68703d8c0f27c219a374a0\", element=\"d639f98d-8b9a-43f9-8b69-f9e9e95c3beb\")>], [<selenium.webdriver.remote.webelement.WebElement (session=\"889c7b19ba68703d8c0f27c219a374a0\", element=\"346e9a15-bfd1-4271-a264-96b0ea1a964f\")>]], '住所': [[<selenium.webdriver.remote.webelement.WebElement (session=\"889c7b19ba68703d8c0f27c219a374a0\", element=\"08f9ce20-cc4e-4289-b512-708872069cf1\")>], [<selenium.webdriver.remote.webelement.WebElement (session=\"889c7b19ba68703d8c0f27c219a374a0\", element=\"920e0422-117a-463d-ad8f-ba1f10246337\")>], [], [], [], [], [], [], [], [], [], [], [], [], [], [], [], [], [<selenium.webdriver.remote.webelement.WebElement (session=\"889c7b19ba68703d8c0f27c219a374a0\", element=\"2a2b9f24-c3f6-45fe-8294-f2bd0cfb7a1b\")>], [<selenium.webdriver.remote.webelement.WebElement (session=\"889c7b19ba68703d8c0f27c219a374a0\", element=\"af2e1132-fad5-4e54-9e3d-fb052c83c74c\")>], [], [], [], [], [], [], [], [], [], [], [], [], [<selenium.webdriver.remote.webelement.WebElement (session=\"889c7b19ba68703d8c0f27c219a374a0\", element=\"2211782d-bb80-4823-bc6e-aa011a7acce7\")>], [<selenium.webdriver.remote.webelement.WebElement (session=\"889c7b19ba68703d8c0f27c219a374a0\", element=\"8320b677-6b30-4c32-b4a2-d010cf318cd1\")>], [], [], [], [], [], [], [], [], [], [], [], [], [], [<selenium.webdriver.remote.webelement.WebElement (session=\"889c7b19ba68703d8c0f27c219a374a0\", element=\"6d8b1f2c-7b9f-40dc-a8e7-f961db62f820\")>], [<selenium.webdriver.remote.webelement.WebElement (session=\"889c7b19ba68703d8c0f27c219a374a0\", element=\"470b603c-1503-4500-9751-32dbd386f58b\")>], [], [], [], [], [], [], [], [], [], [], [], [], [], [], [<selenium.webdriver.remote.webelement.WebElement (session=\"889c7b19ba68703d8c0f27c219a374a0\", element=\"5e676e29-dce4-490b-be4a-e9d1e6354728\")>], [<selenium.webdriver.remote.webelement.WebElement (session=\"889c7b19ba68703d8c0f27c219a374a0\", element=\"03a42d7b-96ec-4b9e-aa61-197180d7a728\")>], [], [], [], [], [], [], [], [<selenium.webdriver.remote.webelement.WebElement (session=\"889c7b19ba68703d8c0f27c219a374a0\", element=\"fd0e186b-e1c2-406b-8885-7f3bb19d38c4\")>], [<selenium.webdriver.remote.webelement.WebElement (session=\"889c7b19ba68703d8c0f27c219a374a0\", element=\"9e513edd-2355-4fe5-9bff-a44c057d9e5f\")>], [], [], [], [], [], [], [], [], [], [], [], [], [], [], [], [], [<selenium.webdriver.remote.webelement.WebElement (session=\"889c7b19ba68703d8c0f27c219a374a0\", element=\"fa4e1945-64f1-4421-b9bf-f2b211f23d2f\")>], [<selenium.webdriver.remote.webelement.WebElement (session=\"889c7b19ba68703d8c0f27c219a374a0\", element=\"f54b1f66-085a-49d7-af4a-7b3b6517a263\")>], [], [], [], [], [], [], [], [], [], [], [], [], [], [], [], [], [<selenium.webdriver.remote.webelement.WebElement (session=\"889c7b19ba68703d8c0f27c219a374a0\", element=\"b3d3f04f-bc94-41d8-9e26-6e839bde72e4\")>], [<selenium.webdriver.remote.webelement.WebElement (session=\"889c7b19ba68703d8c0f27c219a374a0\", element=\"2b2d0fb6-ee8e-4cb1-b383-8c8a676919b5\")>], [], [], [], [], [], [], [], [], [], [], [], [], [], [], [], [], [<selenium.webdriver.remote.webelement.WebElement (session=\"889c7b19ba68703d8c0f27c219a374a0\", element=\"8ed2b2ab-d49f-4dd0-bef6-dfe530bb79d1\")>], [<selenium.webdriver.remote.webelement.WebElement (session=\"889c7b19ba68703d8c0f27c219a374a0\", element=\"29d66430-6a25-4ea1-bd52-d96288678508\")>], [], [], [], [], [], [], [], [], [], [], [], [], [], [<selenium.webdriver.remote.webelement.WebElement (session=\"889c7b19ba68703d8c0f27c219a374a0\", element=\"16bd832c-9be5-4d58-b1a4-7bc599dc0b34\")>], [<selenium.webdriver.remote.webelement.WebElement (session=\"889c7b19ba68703d8c0f27c219a374a0\", element=\"f2b6c840-186d-44bd-be40-aa68fcbecd46\")>], [], [], [], [], [], [], [], [], [], [], [], [], [], [], [], [], [<selenium.webdriver.remote.webelement.WebElement (session=\"889c7b19ba68703d8c0f27c219a374a0\", element=\"211dacd3-ba76-40a3-8191-5dba52418aeb\")>], [<selenium.webdriver.remote.webelement.WebElement (session=\"889c7b19ba68703d8c0f27c219a374a0\", element=\"bcba0a2d-9680-4f46-96b7-dd0f7b8ba63a\")>], [], [], [], [], [], [], [], [], [], [], [], [<selenium.webdriver.remote.webelement.WebElement (session=\"889c7b19ba68703d8c0f27c219a374a0\", element=\"2662435e-a7bb-44c4-bfb6-9864e1a68735\")>], [<selenium.webdriver.remote.webelement.WebElement (session=\"889c7b19ba68703d8c0f27c219a374a0\", element=\"cc09d399-6af0-4593-9542-d0a574170bbb\")>], [], [], [], [], [], [], [], [], [], [], [], [], [], [], [<selenium.webdriver.remote.webelement.WebElement (session=\"889c7b19ba68703d8c0f27c219a374a0\", element=\"bfc9e39f-a24d-4579-9f47-de45989bee95\")>], [<selenium.webdriver.remote.webelement.WebElement (session=\"889c7b19ba68703d8c0f27c219a374a0\", element=\"c38a9d97-d564-475f-9066-946d8b413dcb\")>], [], [], [], [], [], [], [], [], [], [], [], [], [], [], [], [], [<selenium.webdriver.remote.webelement.WebElement (session=\"889c7b19ba68703d8c0f27c219a374a0\", element=\"513a9627-85d1-4007-b3c2-baa8af78fd73\")>], [<selenium.webdriver.remote.webelement.WebElement (session=\"889c7b19ba68703d8c0f27c219a374a0\", element=\"9136ca4a-9c74-4c26-8828-b3fd925b1132\")>], [], [], [], [], [], [], [], [], [], [], [], [], [], [], [], [<selenium.webdriver.remote.webelement.WebElement (session=\"889c7b19ba68703d8c0f27c219a374a0\", element=\"1d9eefdf-b74b-44bb-8c7a-a6267d788913\")>], [<selenium.webdriver.remote.webelement.WebElement (session=\"889c7b19ba68703d8c0f27c219a374a0\", element=\"32975f3a-6150-4e28-ab5c-1e532dd3d9b3\")>], [], [], [], [], [], [], [], [], [], [], [], [], [], [], [], [<selenium.webdriver.remote.webelement.WebElement (session=\"889c7b19ba68703d8c0f27c219a374a0\", element=\"4a472e68-3ec6-4f41-9905-cb37617cf6e3\")>], [<selenium.webdriver.remote.webelement.WebElement (session=\"889c7b19ba68703d8c0f27c219a374a0\", element=\"6e282a57-15ef-4309-95b4-d9da39a91600\")>], [], [], [], [], [], [], [], [], [], [], [], [], [<selenium.webdriver.remote.webelement.WebElement (session=\"889c7b19ba68703d8c0f27c219a374a0\", element=\"940c84d0-a963-4b65-b703-ca7a7f91742c\")>], [<selenium.webdriver.remote.webelement.WebElement (session=\"889c7b19ba68703d8c0f27c219a374a0\", element=\"2d962b68-99dc-4900-a87b-f7783497bb6f\")>], [], [], [], [], [], [], [], [], [], [], [], [], [], [], [], [], [<selenium.webdriver.remote.webelement.WebElement (session=\"889c7b19ba68703d8c0f27c219a374a0\", element=\"6f47ef26-996d-4513-8c28-158b873fe296\")>], [<selenium.webdriver.remote.webelement.WebElement (session=\"889c7b19ba68703d8c0f27c219a374a0\", element=\"d2d84825-f1d5-4712-b6d8-79c5f05ec283\")>], [], [], [], [], [], [], [], [], [], [], [], [], [], [<selenium.webdriver.remote.webelement.WebElement (session=\"889c7b19ba68703d8c0f27c219a374a0\", element=\"ef586529-367f-4004-9ce7-59f1e04026ad\")>], [<selenium.webdriver.remote.webelement.WebElement (session=\"889c7b19ba68703d8c0f27c219a374a0\", element=\"8fcd29a1-caf1-415b-8a95-24e709e4cb7a\")>], [], [], [], [], [], [], [], [], [], [], [], [], [], [<selenium.webdriver.remote.webelement.WebElement (session=\"889c7b19ba68703d8c0f27c219a374a0\", element=\"06a88ace-7ed5-46b3-859b-f2ee7dad730d\")>], [<selenium.webdriver.remote.webelement.WebElement (session=\"889c7b19ba68703d8c0f27c219a374a0\", element=\"58259172-7789-4ece-97ac-be7c836b0f7e\")>], [], [], [], [], [], [], [], [], [], [], [], [], [], [], [], [], [<selenium.webdriver.remote.webelement.WebElement (session=\"889c7b19ba68703d8c0f27c219a374a0\", element=\"11b76070-99b6-4f78-87a4-9bd76eae9898\")>], [<selenium.webdriver.remote.webelement.WebElement (session=\"889c7b19ba68703d8c0f27c219a374a0\", element=\"d8199048-4bb0-40e7-aeb4-57167027c989\")>], [], [], [], [], [], [], [], [], [], [], [], [], [], [], [<selenium.webdriver.remote.webelement.WebElement (session=\"889c7b19ba68703d8c0f27c219a374a0\", element=\"35f6cf79-7cbc-4206-a111-ca6f55b2a92a\")>], [<selenium.webdriver.remote.webelement.WebElement (session=\"889c7b19ba68703d8c0f27c219a374a0\", element=\"633eec7c-1f54-40f1-8510-030b7bf7d431\")>], [], [], [], [], [], [], [], [], [], [], [], [], [], [], [], [], [<selenium.webdriver.remote.webelement.WebElement (session=\"889c7b19ba68703d8c0f27c219a374a0\", element=\"56540fbf-9ad1-48f0-8cc3-6b6a28acd936\")>], [<selenium.webdriver.remote.webelement.WebElement (session=\"889c7b19ba68703d8c0f27c219a374a0\", element=\"a1fd1aac-c5a1-400d-95fc-e3467852259c\")>], [], [], [], [], [], [], [], [], [], [], [], [], [], [], [], [], [<selenium.webdriver.remote.webelement.WebElement (session=\"889c7b19ba68703d8c0f27c219a374a0\", element=\"b155cf55-f869-4da1-b594-928e8d4c5e39\")>], [<selenium.webdriver.remote.webelement.WebElement (session=\"889c7b19ba68703d8c0f27c219a374a0\", element=\"1c325da3-52b5-4768-9012-09a27db5e272\")>], [], [], [], [], [], [], [], [], [], [], [], [], [<selenium.webdriver.remote.webelement.WebElement (session=\"889c7b19ba68703d8c0f27c219a374a0\", element=\"97ffff6b-fe4c-4777-96de-304ee8e41976\")>], [<selenium.webdriver.remote.webelement.WebElement (session=\"889c7b19ba68703d8c0f27c219a374a0\", element=\"e4d9cbba-0f19-4145-9816-9741db8dda10\")>], [<selenium.webdriver.remote.webelement.WebElement (session=\"889c7b19ba68703d8c0f27c219a374a0\", element=\"814570dc-150c-4246-ac60-e4c6c2d3d7c0\")>], [<selenium.webdriver.remote.webelement.WebElement (session=\"889c7b19ba68703d8c0f27c219a374a0\", element=\"f4ffda09-fa54-4135-9cfe-b5637a8eee86\")>], [<selenium.webdriver.remote.webelement.WebElement (session=\"889c7b19ba68703d8c0f27c219a374a0\", element=\"7b4c722d-36a8-44bb-901c-ecb4e8a80f16\")>], [<selenium.webdriver.remote.webelement.WebElement (session=\"889c7b19ba68703d8c0f27c219a374a0\", element=\"01b0bfe7-48e7-4ddd-aead-809c4e7711dc\")>], [<selenium.webdriver.remote.webelement.WebElement (session=\"889c7b19ba68703d8c0f27c219a374a0\", element=\"5733a247-0364-4445-ba95-47f468827a68\")>], [<selenium.webdriver.remote.webelement.WebElement (session=\"889c7b19ba68703d8c0f27c219a374a0\", element=\"73e195c6-82e1-4ac0-8e99-240ae4740eeb\")>], [<selenium.webdriver.remote.webelement.WebElement (session=\"889c7b19ba68703d8c0f27c219a374a0\", element=\"b900a33d-344e-4267-b4a7-34e7e38135c5\")>], [<selenium.webdriver.remote.webelement.WebElement (session=\"889c7b19ba68703d8c0f27c219a374a0\", element=\"fdf57937-1249-435b-ad66-58d1f9c03597\")>], [<selenium.webdriver.remote.webelement.WebElement (session=\"889c7b19ba68703d8c0f27c219a374a0\", element=\"5cdd8409-995f-4d68-9a56-84ce175a8c3e\")>], [<selenium.webdriver.remote.webelement.WebElement (session=\"889c7b19ba68703d8c0f27c219a374a0\", element=\"b7e0584c-e889-4471-86cb-dde9a5684a8e\")>], [<selenium.webdriver.remote.webelement.WebElement (session=\"889c7b19ba68703d8c0f27c219a374a0\", element=\"1e6f4842-51c3-43d4-a6e5-c015d4060c13\")>], [<selenium.webdriver.remote.webelement.WebElement (session=\"889c7b19ba68703d8c0f27c219a374a0\", element=\"ad7df5c2-fa57-4e30-ade5-f8613d9b9513\")>], [<selenium.webdriver.remote.webelement.WebElement (session=\"889c7b19ba68703d8c0f27c219a374a0\", element=\"9397fcbb-ff58-4cec-b55d-4a0091aea1bb\")>], [<selenium.webdriver.remote.webelement.WebElement (session=\"889c7b19ba68703d8c0f27c219a374a0\", element=\"9117f529-8f89-421c-8384-0023e0003a6c\")>], [<selenium.webdriver.remote.webelement.WebElement (session=\"889c7b19ba68703d8c0f27c219a374a0\", element=\"05e85a14-c4c5-413f-89f7-e77fb59e847b\")>], [<selenium.webdriver.remote.webelement.WebElement (session=\"889c7b19ba68703d8c0f27c219a374a0\", element=\"0c9dd5e5-42cb-4529-a4ec-8365d3a5fc95\")>], [<selenium.webdriver.remote.webelement.WebElement (session=\"889c7b19ba68703d8c0f27c219a374a0\", element=\"ad3b7d14-823e-40ca-b4d4-8c31721540e3\")>], [<selenium.webdriver.remote.webelement.WebElement (session=\"889c7b19ba68703d8c0f27c219a374a0\", element=\"5e595570-7e60-45dc-86db-5d1cfe39309d\")>], [<selenium.webdriver.remote.webelement.WebElement (session=\"889c7b19ba68703d8c0f27c219a374a0\", element=\"ffdaf286-fcc2-41a1-b2a8-8d470cff410a\")>], [<selenium.webdriver.remote.webelement.WebElement (session=\"889c7b19ba68703d8c0f27c219a374a0\", element=\"22de4391-f74d-4b30-81b6-74a1b88c5f6c\")>], [<selenium.webdriver.remote.webelement.WebElement (session=\"889c7b19ba68703d8c0f27c219a374a0\", element=\"b299ff90-6f2f-45e0-8f8a-90cb78dc13fb\")>], [<selenium.webdriver.remote.webelement.WebElement (session=\"889c7b19ba68703d8c0f27c219a374a0\", element=\"1bf18333-b4e8-4a97-ae3e-0147b1180c36\")>]], 'URL': ['https://r.gnavi.co.jp/e363413/?sc_type=area&sc_area=PREF11&sc_dsp=rs_136806', 'https://r.gnavi.co.jp/e363413/?sc_type=area&sc_area=PREF11&sc_dsp=rs_136806', 'https://r.gnavi.co.jp/plan/e363413/plan-reserve/plan/plan_list/:c53?sc_type=area&sc_area=PREF11&sc_dsp=rs_136806', 'https://r.gnavi.co.jp/plan/e363413/plan-reserve/plan/plan_list?sc_type=area&sc_area=PREF11&sc_dsp=rs_136806', 'https://r.gnavi.co.jp/plan/e363413/plan-reserve/plan/vacancy/?date=20230413&sc_type=area&sc_area=PREF11&sc_dsp=rs_136806', 'https://r.gnavi.co.jp/plan/e363413/plan-reserve/plan/vacancy/?date=20230414&sc_type=area&sc_area=PREF11&sc_dsp=rs_136806', 'https://r.gnavi.co.jp/plan/e363413/plan-reserve/plan/vacancy/?date=20230415&sc_type=area&sc_area=PREF11&sc_dsp=rs_136806', 'https://r.gnavi.co.jp/plan/e363413/plan-reserve/plan/vacancy/?date=20230416&sc_type=area&sc_area=PREF11&sc_dsp=rs_136806', 'https://r.gnavi.co.jp/plan/e363413/plan-reserve/plan/vacancy/?date=20230417&sc_type=area&sc_area=PREF11&sc_dsp=rs_136806', 'https://r.gnavi.co.jp/plan/e363413/plan-reserve/plan/vacancy/?date=20230418&sc_type=area&sc_area=PREF11&sc_dsp=rs_136806', 'https://r.gnavi.co.jp/plan/e363413/plan-reserve/plan/vacancy/?date=20230419&sc_type=area&sc_area=PREF11&sc_dsp=rs_136806', 'https://r.gnavi.co.jp/plan/e363413/plan-reserve/plan/vacancy/?date=20230420&sc_type=area&sc_area=PREF11&sc_dsp=rs_136806', 'https://r.gnavi.co.jp/plan/e363413/plan-reserve/plan/vacancy/?date=20230421&sc_type=area&sc_area=PREF11&sc_dsp=rs_136806', 'https://r.gnavi.co.jp/plan/e363413/plan-reserve/plan/vacancy/?date=20230422&sc_type=area&sc_area=PREF11&sc_dsp=rs_136806', 'https://r.gnavi.co.jp/plan/e363413/plan-reserve/plan/vacancy/?date=20230423&sc_type=area&sc_area=PREF11&sc_dsp=rs_136806', 'https://r.gnavi.co.jp/plan/e363413/plan-reserve/plan/vacancy/?date=20230424&sc_type=area&sc_area=PREF11&sc_dsp=rs_136806', 'https://r.gnavi.co.jp/plan/e363413/plan-reserve/plan/vacancy/?date=20230425&sc_type=area&sc_area=PREF11&sc_dsp=rs_136806', 'https://r.gnavi.co.jp/plan/e363413/plan-reserve/plan/vacancy/?date=20230426&sc_type=area&sc_area=PREF11&sc_dsp=rs_136806', 'https://r.gnavi.co.jp/gwwjcgc40000/?sc_type=area&sc_area=PREF11&sc_dsp=rs_138962', 'https://r.gnavi.co.jp/gwwjcgc40000/?sc_type=area&sc_area=PREF11&sc_dsp=rs_138962', 'https://r.gnavi.co.jp/plan/gwwjcgc40000/plan-reserve/plan/plan_list/:c-1?sc_type=area&sc_area=PREF11&sc_dsp=rs_138962', 'https://r.gnavi.co.jp/plan/gwwjcgc40000/plan-reserve/plan/plan_list?sc_type=area&sc_area=PREF11&sc_dsp=rs_138962', 'https://r.gnavi.co.jp/plan/gwwjcgc40000/plan-reserve/plan/vacancy/?date=20230415&sc_type=area&sc_area=PREF11&sc_dsp=rs_138962', 'https://r.gnavi.co.jp/plan/gwwjcgc40000/plan-reserve/plan/vacancy/?date=20230416&sc_type=area&sc_area=PREF11&sc_dsp=rs_138962', 'https://r.gnavi.co.jp/plan/gwwjcgc40000/plan-reserve/plan/vacancy/?date=20230418&sc_type=area&sc_area=PREF11&sc_dsp=rs_138962', 'https://r.gnavi.co.jp/plan/gwwjcgc40000/plan-reserve/plan/vacancy/?date=20230419&sc_type=area&sc_area=PREF11&sc_dsp=rs_138962', 'https://r.gnavi.co.jp/plan/gwwjcgc40000/plan-reserve/plan/vacancy/?date=20230420&sc_type=area&sc_area=PREF11&sc_dsp=rs_138962', 'https://r.gnavi.co.jp/plan/gwwjcgc40000/plan-reserve/plan/vacancy/?date=20230421&sc_type=area&sc_area=PREF11&sc_dsp=rs_138962', 'https://r.gnavi.co.jp/plan/gwwjcgc40000/plan-reserve/plan/vacancy/?date=20230422&sc_type=area&sc_area=PREF11&sc_dsp=rs_138962', 'https://r.gnavi.co.jp/plan/gwwjcgc40000/plan-reserve/plan/vacancy/?date=20230423&sc_type=area&sc_area=PREF11&sc_dsp=rs_138962', 'https://r.gnavi.co.jp/plan/gwwjcgc40000/plan-reserve/plan/vacancy/?date=20230425&sc_type=area&sc_area=PREF11&sc_dsp=rs_138962', 'https://r.gnavi.co.jp/plan/gwwjcgc40000/plan-reserve/plan/vacancy/?date=20230426&sc_type=area&sc_area=PREF11&sc_dsp=rs_138962', 'https://r.gnavi.co.jp/r566fxre0000/', 'https://r.gnavi.co.jp/r566fxre0000/', 'https://r.gnavi.co.jp/plan/r566fxre0000/plan-reserve/plan/plan_list/:c24', 'https://r.gnavi.co.jp/plan/r566fxre0000/plan-reserve/plan/plan_list', 'https://r.gnavi.co.jp/plan/r566fxre0000/plan-reserve/plan/vacancy/?date=20230416', 'https://r.gnavi.co.jp/plan/r566fxre0000/plan-reserve/plan/vacancy/?date=20230417', 'https://r.gnavi.co.jp/plan/r566fxre0000/plan-reserve/plan/vacancy/?date=20230418', 'https://r.gnavi.co.jp/plan/r566fxre0000/plan-reserve/plan/vacancy/?date=20230419', 'https://r.gnavi.co.jp/plan/r566fxre0000/plan-reserve/plan/vacancy/?date=20230420', 'https://r.gnavi.co.jp/plan/r566fxre0000/plan-reserve/plan/vacancy/?date=20230421', 'https://r.gnavi.co.jp/plan/r566fxre0000/plan-reserve/plan/vacancy/?date=20230422', 'https://r.gnavi.co.jp/plan/r566fxre0000/plan-reserve/plan/vacancy/?date=20230423', 'https://r.gnavi.co.jp/plan/r566fxre0000/plan-reserve/plan/vacancy/?date=20230424', 'https://r.gnavi.co.jp/plan/r566fxre0000/plan-reserve/plan/vacancy/?date=20230425', 'https://r.gnavi.co.jp/plan/r566fxre0000/plan-reserve/plan/vacancy/?date=20230426', 'https://r.gnavi.co.jp/ga64009/', 'https://r.gnavi.co.jp/ga64009/', 'https://r.gnavi.co.jp/plan/ga64009/plan-reserve/plan/plan_list/:c4', 'https://r.gnavi.co.jp/plan/ga64009/plan-reserve/plan/plan_list', 'https://r.gnavi.co.jp/plan/ga64009/plan-reserve/plan/vacancy/?date=20230414', 'https://r.gnavi.co.jp/plan/ga64009/plan-reserve/plan/vacancy/?date=20230415', 'https://r.gnavi.co.jp/plan/ga64009/plan-reserve/plan/vacancy/?date=20230416', 'https://r.gnavi.co.jp/plan/ga64009/plan-reserve/plan/vacancy/?date=20230417', 'https://r.gnavi.co.jp/plan/ga64009/plan-reserve/plan/vacancy/?date=20230418', 'https://r.gnavi.co.jp/plan/ga64009/plan-reserve/plan/vacancy/?date=20230420', 'https://r.gnavi.co.jp/plan/ga64009/plan-reserve/plan/vacancy/?date=20230421', 'https://r.gnavi.co.jp/plan/ga64009/plan-reserve/plan/vacancy/?date=20230422', 'https://r.gnavi.co.jp/plan/ga64009/plan-reserve/plan/vacancy/?date=20230423', 'https://r.gnavi.co.jp/plan/ga64009/plan-reserve/plan/vacancy/?date=20230424', 'https://r.gnavi.co.jp/plan/ga64009/plan-reserve/plan/vacancy/?date=20230425', 'https://r.gnavi.co.jp/plan/ga64009/plan-reserve/plan/vacancy/?date=20230426', 'https://r.gnavi.co.jp/b216808/', 'https://r.gnavi.co.jp/b216808/', 'https://r.gnavi.co.jp/plan/b216808/plan-reserve/plan/plan_list/:c1', 'https://r.gnavi.co.jp/plan/b216808/plan-reserve/plan/plan_list', 'https://r.gnavi.co.jp/plan/b216808/plan-reserve/plan/vacancy/?date=20230418', 'https://r.gnavi.co.jp/plan/b216808/plan-reserve/plan/vacancy/?date=20230420', 'https://r.gnavi.co.jp/plan/b216808/plan-reserve/plan/vacancy/?date=20230421', 'https://r.gnavi.co.jp/plan/b216808/plan-reserve/plan/vacancy/?date=20230424', 'https://r.gnavi.co.jp/plan/b216808/plan-reserve/plan/vacancy/?date=20230425', 'https://r.gnavi.co.jp/6jm4xfvd0000/?sc_type=area&sc_area=PREF11&sc_dsp=rs_139297', 'https://r.gnavi.co.jp/6jm4xfvd0000/?sc_type=area&sc_area=PREF11&sc_dsp=rs_139297', 'https://r.gnavi.co.jp/plan/6jm4xfvd0000/plan-reserve/plan/plan_list/:c28?sc_type=area&sc_area=PREF11&sc_dsp=rs_139297', 'https://r.gnavi.co.jp/plan/6jm4xfvd0000/plan-reserve/plan/plan_list?sc_type=area&sc_area=PREF11&sc_dsp=rs_139297', 'https://r.gnavi.co.jp/plan/6jm4xfvd0000/plan-reserve/plan/vacancy/?date=20230413&sc_type=area&sc_area=PREF11&sc_dsp=rs_139297', 'https://r.gnavi.co.jp/plan/6jm4xfvd0000/plan-reserve/plan/vacancy/?date=20230414&sc_type=area&sc_area=PREF11&sc_dsp=rs_139297', 'https://r.gnavi.co.jp/plan/6jm4xfvd0000/plan-reserve/plan/vacancy/?date=20230415&sc_type=area&sc_area=PREF11&sc_dsp=rs_139297', 'https://r.gnavi.co.jp/plan/6jm4xfvd0000/plan-reserve/plan/vacancy/?date=20230416&sc_type=area&sc_area=PREF11&sc_dsp=rs_139297', 'https://r.gnavi.co.jp/plan/6jm4xfvd0000/plan-reserve/plan/vacancy/?date=20230417&sc_type=area&sc_area=PREF11&sc_dsp=rs_139297', 'https://r.gnavi.co.jp/plan/6jm4xfvd0000/plan-reserve/plan/vacancy/?date=20230418&sc_type=area&sc_area=PREF11&sc_dsp=rs_139297', 'https://r.gnavi.co.jp/plan/6jm4xfvd0000/plan-reserve/plan/vacancy/?date=20230419&sc_type=area&sc_area=PREF11&sc_dsp=rs_139297', 'https://r.gnavi.co.jp/plan/6jm4xfvd0000/plan-reserve/plan/vacancy/?date=20230420&sc_type=area&sc_area=PREF11&sc_dsp=rs_139297', 'https://r.gnavi.co.jp/plan/6jm4xfvd0000/plan-reserve/plan/vacancy/?date=20230421&sc_type=area&sc_area=PREF11&sc_dsp=rs_139297', 'https://r.gnavi.co.jp/plan/6jm4xfvd0000/plan-reserve/plan/vacancy/?date=20230422&sc_type=area&sc_area=PREF11&sc_dsp=rs_139297', 'https://r.gnavi.co.jp/plan/6jm4xfvd0000/plan-reserve/plan/vacancy/?date=20230423&sc_type=area&sc_area=PREF11&sc_dsp=rs_139297', 'https://r.gnavi.co.jp/plan/6jm4xfvd0000/plan-reserve/plan/vacancy/?date=20230424&sc_type=area&sc_area=PREF11&sc_dsp=rs_139297', 'https://r.gnavi.co.jp/plan/6jm4xfvd0000/plan-reserve/plan/vacancy/?date=20230425&sc_type=area&sc_area=PREF11&sc_dsp=rs_139297', 'https://r.gnavi.co.jp/plan/6jm4xfvd0000/plan-reserve/plan/vacancy/?date=20230426&sc_type=area&sc_area=PREF11&sc_dsp=rs_139297', 'https://r.gnavi.co.jp/g008225/', 'https://r.gnavi.co.jp/g008225/', 'https://r.gnavi.co.jp/plan/g008225/plan-reserve/plan/plan_list/:c11', 'https://r.gnavi.co.jp/plan/g008225/plan-reserve/plan/plan_list', 'https://r.gnavi.co.jp/plan/g008225/plan-reserve/plan/vacancy/?date=20230413', 'https://r.gnavi.co.jp/plan/g008225/plan-reserve/plan/vacancy/?date=20230414', 'https://r.gnavi.co.jp/plan/g008225/plan-reserve/plan/vacancy/?date=20230415', 'https://r.gnavi.co.jp/plan/g008225/plan-reserve/plan/vacancy/?date=20230416', 'https://r.gnavi.co.jp/plan/g008225/plan-reserve/plan/vacancy/?date=20230417', 'https://r.gnavi.co.jp/plan/g008225/plan-reserve/plan/vacancy/?date=20230418', 'https://r.gnavi.co.jp/plan/g008225/plan-reserve/plan/vacancy/?date=20230419', 'https://r.gnavi.co.jp/plan/g008225/plan-reserve/plan/vacancy/?date=20230420', 'https://r.gnavi.co.jp/plan/g008225/plan-reserve/plan/vacancy/?date=20230421', 'https://r.gnavi.co.jp/plan/g008225/plan-reserve/plan/vacancy/?date=20230422', 'https://r.gnavi.co.jp/plan/g008225/plan-reserve/plan/vacancy/?date=20230423', 'https://r.gnavi.co.jp/plan/g008225/plan-reserve/plan/vacancy/?date=20230424', 'https://r.gnavi.co.jp/plan/g008225/plan-reserve/plan/vacancy/?date=20230425', 'https://r.gnavi.co.jp/plan/g008225/plan-reserve/plan/vacancy/?date=20230426', 'https://r.gnavi.co.jp/5ztvzrmk0000/', 'https://r.gnavi.co.jp/5ztvzrmk0000/', 'https://r.gnavi.co.jp/plan/5ztvzrmk0000/plan-reserve/plan/plan_list/:c1', 'https://r.gnavi.co.jp/plan/5ztvzrmk0000/plan-reserve/plan/plan_list', 'https://r.gnavi.co.jp/plan/5ztvzrmk0000/plan-reserve/plan/vacancy/?date=20230413', 'https://r.gnavi.co.jp/plan/5ztvzrmk0000/plan-reserve/plan/vacancy/?date=20230414', 'https://r.gnavi.co.jp/plan/5ztvzrmk0000/plan-reserve/plan/vacancy/?date=20230415', 'https://r.gnavi.co.jp/plan/5ztvzrmk0000/plan-reserve/plan/vacancy/?date=20230416', 'https://r.gnavi.co.jp/plan/5ztvzrmk0000/plan-reserve/plan/vacancy/?date=20230417', 'https://r.gnavi.co.jp/plan/5ztvzrmk0000/plan-reserve/plan/vacancy/?date=20230418', 'https://r.gnavi.co.jp/plan/5ztvzrmk0000/plan-reserve/plan/vacancy/?date=20230419', 'https://r.gnavi.co.jp/plan/5ztvzrmk0000/plan-reserve/plan/vacancy/?date=20230420', 'https://r.gnavi.co.jp/plan/5ztvzrmk0000/plan-reserve/plan/vacancy/?date=20230421', 'https://r.gnavi.co.jp/plan/5ztvzrmk0000/plan-reserve/plan/vacancy/?date=20230422', 'https://r.gnavi.co.jp/plan/5ztvzrmk0000/plan-reserve/plan/vacancy/?date=20230423', 'https://r.gnavi.co.jp/plan/5ztvzrmk0000/plan-reserve/plan/vacancy/?date=20230424', 'https://r.gnavi.co.jp/plan/5ztvzrmk0000/plan-reserve/plan/vacancy/?date=20230425', 'https://r.gnavi.co.jp/plan/5ztvzrmk0000/plan-reserve/plan/vacancy/?date=20230426', 'https://r.gnavi.co.jp/sgjfr3e50000/', 'https://r.gnavi.co.jp/sgjfr3e50000/', 'https://r.gnavi.co.jp/plan/sgjfr3e50000/plan-reserve/plan/plan_list/:c9', 'https://r.gnavi.co.jp/plan/sgjfr3e50000/plan-reserve/plan/plan_list', 'https://r.gnavi.co.jp/plan/sgjfr3e50000/plan-reserve/plan/vacancy/?date=20230414', 'https://r.gnavi.co.jp/plan/sgjfr3e50000/plan-reserve/plan/vacancy/?date=20230415', 'https://r.gnavi.co.jp/plan/sgjfr3e50000/plan-reserve/plan/vacancy/?date=20230417', 'https://r.gnavi.co.jp/plan/sgjfr3e50000/plan-reserve/plan/vacancy/?date=20230418', 'https://r.gnavi.co.jp/plan/sgjfr3e50000/plan-reserve/plan/vacancy/?date=20230419', 'https://r.gnavi.co.jp/plan/sgjfr3e50000/plan-reserve/plan/vacancy/?date=20230420', 'https://r.gnavi.co.jp/plan/sgjfr3e50000/plan-reserve/plan/vacancy/?date=20230421', 'https://r.gnavi.co.jp/plan/sgjfr3e50000/plan-reserve/plan/vacancy/?date=20230422', 'https://r.gnavi.co.jp/plan/sgjfr3e50000/plan-reserve/plan/vacancy/?date=20230424', 'https://r.gnavi.co.jp/plan/sgjfr3e50000/plan-reserve/plan/vacancy/?date=20230425', 'https://r.gnavi.co.jp/plan/sgjfr3e50000/plan-reserve/inquiry/input/form/?date=20230426', 'https://r.gnavi.co.jp/17h2xu6u0000/', 'https://r.gnavi.co.jp/17h2xu6u0000/', 'https://r.gnavi.co.jp/plan/17h2xu6u0000/plan-reserve/plan/plan_list/:c32', 'https://r.gnavi.co.jp/plan/17h2xu6u0000/plan-reserve/plan/plan_list', 'https://r.gnavi.co.jp/plan/17h2xu6u0000/plan-reserve/plan/vacancy/?date=20230413', 'https://r.gnavi.co.jp/plan/17h2xu6u0000/plan-reserve/plan/vacancy/?date=20230414', 'https://r.gnavi.co.jp/plan/17h2xu6u0000/plan-reserve/plan/vacancy/?date=20230415', 'https://r.gnavi.co.jp/plan/17h2xu6u0000/plan-reserve/plan/vacancy/?date=20230416', 'https://r.gnavi.co.jp/plan/17h2xu6u0000/plan-reserve/plan/vacancy/?date=20230417', 'https://r.gnavi.co.jp/plan/17h2xu6u0000/plan-reserve/plan/vacancy/?date=20230418', 'https://r.gnavi.co.jp/plan/17h2xu6u0000/plan-reserve/plan/vacancy/?date=20230419', 'https://r.gnavi.co.jp/plan/17h2xu6u0000/plan-reserve/plan/vacancy/?date=20230420', 'https://r.gnavi.co.jp/plan/17h2xu6u0000/plan-reserve/plan/vacancy/?date=20230421', 'https://r.gnavi.co.jp/plan/17h2xu6u0000/plan-reserve/plan/vacancy/?date=20230422', 'https://r.gnavi.co.jp/plan/17h2xu6u0000/plan-reserve/plan/vacancy/?date=20230423', 'https://r.gnavi.co.jp/plan/17h2xu6u0000/plan-reserve/plan/vacancy/?date=20230424', 'https://r.gnavi.co.jp/plan/17h2xu6u0000/plan-reserve/plan/vacancy/?date=20230425', 'https://r.gnavi.co.jp/plan/17h2xu6u0000/plan-reserve/plan/vacancy/?date=20230426', 'https://r.gnavi.co.jp/au4x24jj0000/', 'https://r.gnavi.co.jp/au4x24jj0000/', 'https://r.gnavi.co.jp/plan/au4x24jj0000/plan-reserve/plan/plan_list/:c10', 'https://r.gnavi.co.jp/plan/au4x24jj0000/plan-reserve/plan/plan_list', 'https://r.gnavi.co.jp/plan/au4x24jj0000/plan-reserve/plan/vacancy/?date=20230415', 'https://r.gnavi.co.jp/plan/au4x24jj0000/plan-reserve/plan/vacancy/?date=20230417', 'https://r.gnavi.co.jp/plan/au4x24jj0000/plan-reserve/plan/vacancy/?date=20230418', 'https://r.gnavi.co.jp/plan/au4x24jj0000/plan-reserve/plan/vacancy/?date=20230419', 'https://r.gnavi.co.jp/plan/au4x24jj0000/plan-reserve/plan/vacancy/?date=20230421', 'https://r.gnavi.co.jp/plan/au4x24jj0000/plan-reserve/plan/vacancy/?date=20230422', 'https://r.gnavi.co.jp/plan/au4x24jj0000/plan-reserve/plan/vacancy/?date=20230424', 'https://r.gnavi.co.jp/plan/au4x24jj0000/plan-reserve/plan/vacancy/?date=20230425', 'https://r.gnavi.co.jp/plan/au4x24jj0000/plan-reserve/plan/vacancy/?date=20230426', 'https://r.gnavi.co.jp/fw5ktd830000/', 'https://r.gnavi.co.jp/fw5ktd830000/', 'https://r.gnavi.co.jp/plan/fw5ktd830000/plan-reserve/plan/plan_list/:c6', 'https://r.gnavi.co.jp/plan/fw5ktd830000/plan-reserve/plan/plan_list', 'https://r.gnavi.co.jp/plan/fw5ktd830000/plan-reserve/plan/vacancy/?date=20230413', 'https://r.gnavi.co.jp/plan/fw5ktd830000/plan-reserve/plan/vacancy/?date=20230414', 'https://r.gnavi.co.jp/plan/fw5ktd830000/plan-reserve/plan/vacancy/?date=20230415', 'https://r.gnavi.co.jp/plan/fw5ktd830000/plan-reserve/plan/vacancy/?date=20230416', 'https://r.gnavi.co.jp/plan/fw5ktd830000/plan-reserve/plan/vacancy/?date=20230417', 'https://r.gnavi.co.jp/plan/fw5ktd830000/plan-reserve/plan/vacancy/?date=20230419', 'https://r.gnavi.co.jp/plan/fw5ktd830000/plan-reserve/plan/vacancy/?date=20230420', 'https://r.gnavi.co.jp/plan/fw5ktd830000/plan-reserve/plan/vacancy/?date=20230421', 'https://r.gnavi.co.jp/plan/fw5ktd830000/plan-reserve/plan/vacancy/?date=20230422', 'https://r.gnavi.co.jp/plan/fw5ktd830000/plan-reserve/plan/vacancy/?date=20230423', 'https://r.gnavi.co.jp/plan/fw5ktd830000/plan-reserve/plan/vacancy/?date=20230424', 'https://r.gnavi.co.jp/plan/fw5ktd830000/plan-reserve/plan/vacancy/?date=20230426', 'https://r.gnavi.co.jp/a127666/', 'https://r.gnavi.co.jp/a127666/', 'https://r.gnavi.co.jp/plan/a127666/plan-reserve/plan/plan_list/:c65', 'https://r.gnavi.co.jp/plan/a127666/plan-reserve/plan/plan_list', 'https://r.gnavi.co.jp/plan/a127666/plan-reserve/plan/vacancy/?date=20230413', 'https://r.gnavi.co.jp/plan/a127666/plan-reserve/plan/vacancy/?date=20230414', 'https://r.gnavi.co.jp/plan/a127666/plan-reserve/plan/vacancy/?date=20230415', 'https://r.gnavi.co.jp/plan/a127666/plan-reserve/plan/vacancy/?date=20230416', 'https://r.gnavi.co.jp/plan/a127666/plan-reserve/plan/vacancy/?date=20230417', 'https://r.gnavi.co.jp/plan/a127666/plan-reserve/plan/vacancy/?date=20230418', 'https://r.gnavi.co.jp/plan/a127666/plan-reserve/plan/vacancy/?date=20230419', 'https://r.gnavi.co.jp/plan/a127666/plan-reserve/plan/vacancy/?date=20230420', 'https://r.gnavi.co.jp/plan/a127666/plan-reserve/plan/vacancy/?date=20230421', 'https://r.gnavi.co.jp/plan/a127666/plan-reserve/plan/vacancy/?date=20230422', 'https://r.gnavi.co.jp/plan/a127666/plan-reserve/plan/vacancy/?date=20230423', 'https://r.gnavi.co.jp/plan/a127666/plan-reserve/plan/vacancy/?date=20230424', 'https://r.gnavi.co.jp/plan/a127666/plan-reserve/plan/vacancy/?date=20230425', 'https://r.gnavi.co.jp/plan/a127666/plan-reserve/plan/vacancy/?date=20230426', 'https://r.gnavi.co.jp/7cavrdhe0000/', 'https://r.gnavi.co.jp/7cavrdhe0000/', 'https://r.gnavi.co.jp/plan/7cavrdhe0000/plan-reserve/plan/plan_list/:c4', 'https://r.gnavi.co.jp/plan/7cavrdhe0000/plan-reserve/plan/plan_list', 'https://r.gnavi.co.jp/plan/7cavrdhe0000/plan-reserve/plan/vacancy/?date=20230414', 'https://r.gnavi.co.jp/plan/7cavrdhe0000/plan-reserve/plan/vacancy/?date=20230415', 'https://r.gnavi.co.jp/plan/7cavrdhe0000/plan-reserve/plan/vacancy/?date=20230416', 'https://r.gnavi.co.jp/plan/7cavrdhe0000/plan-reserve/plan/vacancy/?date=20230417', 'https://r.gnavi.co.jp/plan/7cavrdhe0000/plan-reserve/plan/vacancy/?date=20230418', 'https://r.gnavi.co.jp/plan/7cavrdhe0000/plan-reserve/plan/vacancy/?date=20230419', 'https://r.gnavi.co.jp/plan/7cavrdhe0000/plan-reserve/plan/vacancy/?date=20230420', 'https://r.gnavi.co.jp/plan/7cavrdhe0000/plan-reserve/plan/vacancy/?date=20230421', 'https://r.gnavi.co.jp/plan/7cavrdhe0000/plan-reserve/plan/vacancy/?date=20230422', 'https://r.gnavi.co.jp/plan/7cavrdhe0000/plan-reserve/plan/vacancy/?date=20230423', 'https://r.gnavi.co.jp/plan/7cavrdhe0000/plan-reserve/plan/vacancy/?date=20230424', 'https://r.gnavi.co.jp/plan/7cavrdhe0000/plan-reserve/plan/vacancy/?date=20230425', 'https://r.gnavi.co.jp/plan/7cavrdhe0000/plan-reserve/plan/vacancy/?date=20230426', 'https://r.gnavi.co.jp/6ynh73w40000/', 'https://r.gnavi.co.jp/6ynh73w40000/', 'https://r.gnavi.co.jp/plan/6ynh73w40000/plan-reserve/plan/plan_list/:c11', 'https://r.gnavi.co.jp/plan/6ynh73w40000/plan-reserve/plan/plan_list', 'https://r.gnavi.co.jp/plan/6ynh73w40000/plan-reserve/plan/vacancy/?date=20230414', 'https://r.gnavi.co.jp/plan/6ynh73w40000/plan-reserve/plan/vacancy/?date=20230415', 'https://r.gnavi.co.jp/plan/6ynh73w40000/plan-reserve/plan/vacancy/?date=20230416', 'https://r.gnavi.co.jp/plan/6ynh73w40000/plan-reserve/plan/vacancy/?date=20230417', 'https://r.gnavi.co.jp/plan/6ynh73w40000/plan-reserve/plan/vacancy/?date=20230418', 'https://r.gnavi.co.jp/plan/6ynh73w40000/plan-reserve/plan/vacancy/?date=20230419', 'https://r.gnavi.co.jp/plan/6ynh73w40000/plan-reserve/plan/vacancy/?date=20230420', 'https://r.gnavi.co.jp/plan/6ynh73w40000/plan-reserve/plan/vacancy/?date=20230421', 'https://r.gnavi.co.jp/plan/6ynh73w40000/plan-reserve/plan/vacancy/?date=20230422', 'https://r.gnavi.co.jp/plan/6ynh73w40000/plan-reserve/plan/vacancy/?date=20230423', 'https://r.gnavi.co.jp/plan/6ynh73w40000/plan-reserve/plan/vacancy/?date=20230424', 'https://r.gnavi.co.jp/plan/6ynh73w40000/plan-reserve/plan/vacancy/?date=20230425', 'https://r.gnavi.co.jp/plan/6ynh73w40000/plan-reserve/plan/vacancy/?date=20230426', 'https://r.gnavi.co.jp/pc2kcrpt0000/', 'https://r.gnavi.co.jp/pc2kcrpt0000/', 'https://r.gnavi.co.jp/plan/pc2kcrpt0000/plan-reserve/plan/plan_list/:c4', 'https://r.gnavi.co.jp/plan/pc2kcrpt0000/plan-reserve/plan/plan_list', 'https://r.gnavi.co.jp/plan/pc2kcrpt0000/plan-reserve/plan/vacancy/?date=20230416', 'https://r.gnavi.co.jp/plan/pc2kcrpt0000/plan-reserve/plan/vacancy/?date=20230417', 'https://r.gnavi.co.jp/plan/pc2kcrpt0000/plan-reserve/plan/vacancy/?date=20230418', 'https://r.gnavi.co.jp/plan/pc2kcrpt0000/plan-reserve/plan/vacancy/?date=20230419', 'https://r.gnavi.co.jp/plan/pc2kcrpt0000/plan-reserve/plan/vacancy/?date=20230420', 'https://r.gnavi.co.jp/plan/pc2kcrpt0000/plan-reserve/plan/vacancy/?date=20230421', 'https://r.gnavi.co.jp/plan/pc2kcrpt0000/plan-reserve/plan/vacancy/?date=20230423', 'https://r.gnavi.co.jp/plan/pc2kcrpt0000/plan-reserve/plan/vacancy/?date=20230424', 'https://r.gnavi.co.jp/plan/pc2kcrpt0000/plan-reserve/plan/vacancy/?date=20230425', 'https://r.gnavi.co.jp/plan/pc2kcrpt0000/plan-reserve/plan/vacancy/?date=20230426', 'https://r.gnavi.co.jp/sas9hxf00000/', 'https://r.gnavi.co.jp/sas9hxf00000/', 'https://r.gnavi.co.jp/plan/sas9hxf00000/plan-reserve/plan/plan_list/:c23', 'https://r.gnavi.co.jp/plan/sas9hxf00000/plan-reserve/plan/plan_list', 'https://r.gnavi.co.jp/plan/sas9hxf00000/plan-reserve/plan/vacancy/?date=20230413', 'https://r.gnavi.co.jp/plan/sas9hxf00000/plan-reserve/plan/vacancy/?date=20230414', 'https://r.gnavi.co.jp/plan/sas9hxf00000/plan-reserve/plan/vacancy/?date=20230415', 'https://r.gnavi.co.jp/plan/sas9hxf00000/plan-reserve/plan/vacancy/?date=20230416', 'https://r.gnavi.co.jp/plan/sas9hxf00000/plan-reserve/plan/vacancy/?date=20230417', 'https://r.gnavi.co.jp/plan/sas9hxf00000/plan-reserve/plan/vacancy/?date=20230418', 'https://r.gnavi.co.jp/plan/sas9hxf00000/plan-reserve/plan/vacancy/?date=20230419', 'https://r.gnavi.co.jp/plan/sas9hxf00000/plan-reserve/plan/vacancy/?date=20230420', 'https://r.gnavi.co.jp/plan/sas9hxf00000/plan-reserve/plan/vacancy/?date=20230421', 'https://r.gnavi.co.jp/plan/sas9hxf00000/plan-reserve/plan/vacancy/?date=20230422', 'https://r.gnavi.co.jp/plan/sas9hxf00000/plan-reserve/plan/vacancy/?date=20230423', 'https://r.gnavi.co.jp/plan/sas9hxf00000/plan-reserve/plan/vacancy/?date=20230424', 'https://r.gnavi.co.jp/plan/sas9hxf00000/plan-reserve/plan/vacancy/?date=20230425', 'https://r.gnavi.co.jp/plan/sas9hxf00000/plan-reserve/plan/vacancy/?date=20230426', 'https://r.gnavi.co.jp/5p8a25z00000/', 'https://r.gnavi.co.jp/5p8a25z00000/', 'https://r.gnavi.co.jp/plan/5p8a25z00000/plan-reserve/plan/plan_list/:c1', 'https://r.gnavi.co.jp/plan/5p8a25z00000/plan-reserve/plan/plan_list', 'https://r.gnavi.co.jp/plan/5p8a25z00000/plan-reserve/plan/vacancy/?date=20230414', 'https://r.gnavi.co.jp/plan/5p8a25z00000/plan-reserve/plan/vacancy/?date=20230415', 'https://r.gnavi.co.jp/plan/5p8a25z00000/plan-reserve/plan/vacancy/?date=20230417', 'https://r.gnavi.co.jp/plan/5p8a25z00000/plan-reserve/plan/vacancy/?date=20230418', 'https://r.gnavi.co.jp/plan/5p8a25z00000/plan-reserve/plan/vacancy/?date=20230419', 'https://r.gnavi.co.jp/plan/5p8a25z00000/plan-reserve/plan/vacancy/?date=20230420', 'https://r.gnavi.co.jp/plan/5p8a25z00000/plan-reserve/plan/vacancy/?date=20230421', 'https://r.gnavi.co.jp/plan/5p8a25z00000/plan-reserve/plan/vacancy/?date=20230422', 'https://r.gnavi.co.jp/plan/5p8a25z00000/plan-reserve/plan/vacancy/?date=20230424', 'https://r.gnavi.co.jp/plan/5p8a25z00000/plan-reserve/plan/vacancy/?date=20230425', 'https://r.gnavi.co.jp/plan/5p8a25z00000/plan-reserve/plan/vacancy/?date=20230426', 'https://r.gnavi.co.jp/g422201/', 'https://r.gnavi.co.jp/g422201/', 'https://r.gnavi.co.jp/plan/g422201/plan-reserve/plan/plan_list/:c5', 'https://r.gnavi.co.jp/plan/g422201/plan-reserve/plan/plan_list', 'https://r.gnavi.co.jp/plan/g422201/plan-reserve/plan/vacancy/?date=20230413', 'https://r.gnavi.co.jp/plan/g422201/plan-reserve/plan/vacancy/?date=20230414', 'https://r.gnavi.co.jp/plan/g422201/plan-reserve/plan/vacancy/?date=20230415', 'https://r.gnavi.co.jp/plan/g422201/plan-reserve/plan/vacancy/?date=20230416', 'https://r.gnavi.co.jp/plan/g422201/plan-reserve/plan/vacancy/?date=20230419', 'https://r.gnavi.co.jp/plan/g422201/plan-reserve/plan/vacancy/?date=20230420', 'https://r.gnavi.co.jp/plan/g422201/plan-reserve/plan/vacancy/?date=20230421', 'https://r.gnavi.co.jp/plan/g422201/plan-reserve/plan/vacancy/?date=20230422', 'https://r.gnavi.co.jp/plan/g422201/plan-reserve/plan/vacancy/?date=20230423', 'https://r.gnavi.co.jp/plan/g422201/plan-reserve/plan/vacancy/?date=20230424', 'https://r.gnavi.co.jp/plan/g422201/plan-reserve/plan/vacancy/?date=20230426', 'https://r.gnavi.co.jp/df7ak1dz0000/', 'https://r.gnavi.co.jp/df7ak1dz0000/', 'https://r.gnavi.co.jp/plan/df7ak1dz0000/plan-reserve/plan/plan_list/:c4', 'https://r.gnavi.co.jp/plan/df7ak1dz0000/plan-reserve/plan/plan_list', 'https://r.gnavi.co.jp/plan/df7ak1dz0000/plan-reserve/plan/vacancy/?date=20230413', 'https://r.gnavi.co.jp/plan/df7ak1dz0000/plan-reserve/plan/vacancy/?date=20230414', 'https://r.gnavi.co.jp/plan/df7ak1dz0000/plan-reserve/plan/vacancy/?date=20230415', 'https://r.gnavi.co.jp/plan/df7ak1dz0000/plan-reserve/plan/vacancy/?date=20230416', 'https://r.gnavi.co.jp/plan/df7ak1dz0000/plan-reserve/plan/vacancy/?date=20230417', 'https://r.gnavi.co.jp/plan/df7ak1dz0000/plan-reserve/plan/vacancy/?date=20230418', 'https://r.gnavi.co.jp/plan/df7ak1dz0000/plan-reserve/plan/vacancy/?date=20230419', 'https://r.gnavi.co.jp/plan/df7ak1dz0000/plan-reserve/plan/vacancy/?date=20230420', 'https://r.gnavi.co.jp/plan/df7ak1dz0000/plan-reserve/plan/vacancy/?date=20230421', 'https://r.gnavi.co.jp/plan/df7ak1dz0000/plan-reserve/plan/vacancy/?date=20230422', 'https://r.gnavi.co.jp/plan/df7ak1dz0000/plan-reserve/plan/vacancy/?date=20230423', 'https://r.gnavi.co.jp/plan/df7ak1dz0000/plan-reserve/plan/vacancy/?date=20230424', 'https://r.gnavi.co.jp/plan/df7ak1dz0000/plan-reserve/plan/vacancy/?date=20230425', 'https://r.gnavi.co.jp/plan/df7ak1dz0000/plan-reserve/plan/vacancy/?date=20230426', 'https://r.gnavi.co.jp/a879203/', 'https://r.gnavi.co.jp/a879203/', 'https://r.gnavi.co.jp/plan/a879203/plan-reserve/plan/plan_list/:c1', 'https://r.gnavi.co.jp/plan/a879203/plan-reserve/plan/plan_list', 'https://r.gnavi.co.jp/plan/a879203/plan-reserve/plan/vacancy/?date=20230413', 'https://r.gnavi.co.jp/plan/a879203/plan-reserve/plan/vacancy/?date=20230414', 'https://r.gnavi.co.jp/plan/a879203/plan-reserve/plan/vacancy/?date=20230415', 'https://r.gnavi.co.jp/plan/a879203/plan-reserve/plan/vacancy/?date=20230416', 'https://r.gnavi.co.jp/plan/a879203/plan-reserve/plan/vacancy/?date=20230418', 'https://r.gnavi.co.jp/plan/a879203/plan-reserve/plan/vacancy/?date=20230419', 'https://r.gnavi.co.jp/plan/a879203/plan-reserve/plan/vacancy/?date=20230420', 'https://r.gnavi.co.jp/plan/a879203/plan-reserve/plan/vacancy/?date=20230421', 'https://r.gnavi.co.jp/plan/a879203/plan-reserve/plan/vacancy/?date=20230422', 'https://r.gnavi.co.jp/plan/a879203/plan-reserve/plan/vacancy/?date=20230423', 'https://r.gnavi.co.jp/plan/a879203/plan-reserve/plan/vacancy/?date=20230425', 'https://r.gnavi.co.jp/plan/a879203/plan-reserve/plan/vacancy/?date=20230426', 'https://r.gnavi.co.jp/kkwauegj0000/', 'https://r.gnavi.co.jp/kkwauegj0000/', 'https://r.gnavi.co.jp/plan/kkwauegj0000/plan-reserve/plan/plan_list/:c-1', 'https://r.gnavi.co.jp/plan/kkwauegj0000/plan-reserve/plan/plan_list', 'https://r.gnavi.co.jp/plan/kkwauegj0000/plan-reserve/inquiry/input/form/?date=20230413', 'https://r.gnavi.co.jp/plan/kkwauegj0000/plan-reserve/inquiry/input/form/?date=20230414', 'https://r.gnavi.co.jp/plan/kkwauegj0000/plan-reserve/inquiry/input/form/?date=20230415', 'https://r.gnavi.co.jp/plan/kkwauegj0000/plan-reserve/inquiry/input/form/?date=20230416', 'https://r.gnavi.co.jp/plan/kkwauegj0000/plan-reserve/plan/vacancy/?date=20230417', 'https://r.gnavi.co.jp/plan/kkwauegj0000/plan-reserve/plan/vacancy/?date=20230418', 'https://r.gnavi.co.jp/plan/kkwauegj0000/plan-reserve/plan/vacancy/?date=20230419', 'https://r.gnavi.co.jp/plan/kkwauegj0000/plan-reserve/plan/vacancy/?date=20230420', 'https://r.gnavi.co.jp/plan/kkwauegj0000/plan-reserve/plan/vacancy/?date=20230421', 'https://r.gnavi.co.jp/plan/kkwauegj0000/plan-reserve/plan/vacancy/?date=20230422', 'https://r.gnavi.co.jp/plan/kkwauegj0000/plan-reserve/plan/vacancy/?date=20230423', 'https://r.gnavi.co.jp/plan/kkwauegj0000/plan-reserve/plan/vacancy/?date=20230424', 'https://r.gnavi.co.jp/plan/kkwauegj0000/plan-reserve/plan/vacancy/?date=20230425', 'https://r.gnavi.co.jp/plan/kkwauegj0000/plan-reserve/plan/vacancy/?date=20230426', 'https://r.gnavi.co.jp/p442500/', 'https://r.gnavi.co.jp/p442500/', 'https://r.gnavi.co.jp/plan/p442500/plan-reserve/plan/plan_list/:c2', 'https://r.gnavi.co.jp/plan/p442500/plan-reserve/plan/plan_list', 'https://r.gnavi.co.jp/plan/p442500/plan-reserve/plan/vacancy/?date=20230413', 'https://r.gnavi.co.jp/plan/p442500/plan-reserve/plan/vacancy/?date=20230414', 'https://r.gnavi.co.jp/plan/p442500/plan-reserve/plan/vacancy/?date=20230415', 'https://r.gnavi.co.jp/plan/p442500/plan-reserve/plan/vacancy/?date=20230416', 'https://r.gnavi.co.jp/plan/p442500/plan-reserve/plan/vacancy/?date=20230417', 'https://r.gnavi.co.jp/plan/p442500/plan-reserve/plan/vacancy/?date=20230418', 'https://r.gnavi.co.jp/plan/p442500/plan-reserve/plan/vacancy/?date=20230419', 'https://r.gnavi.co.jp/plan/p442500/plan-reserve/plan/vacancy/?date=20230420', 'https://r.gnavi.co.jp/plan/p442500/plan-reserve/plan/vacancy/?date=20230421', 'https://r.gnavi.co.jp/plan/p442500/plan-reserve/plan/vacancy/?date=20230422', 'https://r.gnavi.co.jp/plan/p442500/plan-reserve/plan/vacancy/?date=20230423', 'https://r.gnavi.co.jp/plan/p442500/plan-reserve/plan/vacancy/?date=20230424', 'https://r.gnavi.co.jp/plan/p442500/plan-reserve/plan/vacancy/?date=20230425', 'https://r.gnavi.co.jp/plan/p442500/plan-reserve/plan/vacancy/?date=20230426', 'https://r.gnavi.co.jp/dum42uuw0000/?sc_type=area&sc_area=PREF11&sc_dsp=rs_137683', 'https://r.gnavi.co.jp/dum42uuw0000/?sc_type=area&sc_area=PREF11&sc_dsp=rs_137683', 'https://r.gnavi.co.jp/plan/dum42uuw0000/plan-reserve/plan/plan_list/:c-1?sc_type=area&sc_area=PREF11&sc_dsp=rs_137683', 'https://r.gnavi.co.jp/plan/dum42uuw0000/plan-reserve/plan/plan_list?sc_type=area&sc_area=PREF11&sc_dsp=rs_137683', 'https://r.gnavi.co.jp/plan/dum42uuw0000/plan-reserve/plan/vacancy/?date=20230415&sc_type=area&sc_area=PREF11&sc_dsp=rs_137683', 'https://r.gnavi.co.jp/plan/dum42uuw0000/plan-reserve/plan/vacancy/?date=20230416&sc_type=area&sc_area=PREF11&sc_dsp=rs_137683', 'https://r.gnavi.co.jp/plan/dum42uuw0000/plan-reserve/plan/vacancy/?date=20230418&sc_type=area&sc_area=PREF11&sc_dsp=rs_137683', 'https://r.gnavi.co.jp/plan/dum42uuw0000/plan-reserve/plan/vacancy/?date=20230419&sc_type=area&sc_area=PREF11&sc_dsp=rs_137683', 'https://r.gnavi.co.jp/plan/dum42uuw0000/plan-reserve/plan/vacancy/?date=20230420&sc_type=area&sc_area=PREF11&sc_dsp=rs_137683', 'https://r.gnavi.co.jp/plan/dum42uuw0000/plan-reserve/plan/vacancy/?date=20230421&sc_type=area&sc_area=PREF11&sc_dsp=rs_137683', 'https://r.gnavi.co.jp/plan/dum42uuw0000/plan-reserve/plan/vacancy/?date=20230422&sc_type=area&sc_area=PREF11&sc_dsp=rs_137683', 'https://r.gnavi.co.jp/plan/dum42uuw0000/plan-reserve/plan/vacancy/?date=20230423&sc_type=area&sc_area=PREF11&sc_dsp=rs_137683', 'https://r.gnavi.co.jp/plan/dum42uuw0000/plan-reserve/plan/vacancy/?date=20230425&sc_type=area&sc_area=PREF11&sc_dsp=rs_137683', 'https://r.gnavi.co.jp/plan/dum42uuw0000/plan-reserve/plan/vacancy/?date=20230426&sc_type=area&sc_area=PREF11&sc_dsp=rs_137683', 'https://r.gnavi.co.jp/g312712/?sc_type=area&sc_area=PREF11&sc_dsp=rs_137775', 'https://r.gnavi.co.jp/fba0nhdm0000/?sc_type=area&sc_area=PREF11&sc_dsp=rs_138680', 'https://r.gnavi.co.jp/r566fxre0000/', 'https://r.gnavi.co.jp/ga64009/', 'https://r.gnavi.co.jp/b216808/', 'https://r.gnavi.co.jp/e158904/?sc_type=area&sc_area=PREF11&sc_dsp=rs_136730', 'https://r.gnavi.co.jp/g008225/', 'https://r.gnavi.co.jp/5ztvzrmk0000/', 'https://r.gnavi.co.jp/sgjfr3e50000/', 'https://r.gnavi.co.jp/17h2xu6u0000/', 'https://r.gnavi.co.jp/au4x24jj0000/', 'https://r.gnavi.co.jp/fw5ktd830000/', 'https://r.gnavi.co.jp/a127666/', 'https://r.gnavi.co.jp/7cavrdhe0000/', 'https://r.gnavi.co.jp/6ynh73w40000/', 'https://r.gnavi.co.jp/pc2kcrpt0000/', 'https://r.gnavi.co.jp/sas9hxf00000/', 'https://r.gnavi.co.jp/5p8a25z00000/', 'https://r.gnavi.co.jp/g422201/', 'https://r.gnavi.co.jp/df7ak1dz0000/', 'https://r.gnavi.co.jp/a879203/', 'https://r.gnavi.co.jp/kkwauegj0000/', 'https://r.gnavi.co.jp/p442500/', 'https://r.gnavi.co.jp/4e9kahpv0000/?sc_type=area&sc_area=PREF11&sc_dsp=rs_137779']}\n"
          ]
        }
      ]
    },
    {
      "cell_type": "code",
      "source": [],
      "metadata": {
        "id": "GVFQtAeLrPzv"
      },
      "execution_count": null,
      "outputs": []
    },
    {
      "cell_type": "code",
      "source": [],
      "metadata": {
        "id": "w28fTYfRrPih"
      },
      "execution_count": null,
      "outputs": []
    },
    {
      "cell_type": "code",
      "source": [],
      "metadata": {
        "id": "TX9zszMprOZk"
      },
      "execution_count": null,
      "outputs": []
    },
    {
      "cell_type": "code",
      "source": [
        "#埼玉県　大宮\n",
        "\n",
        "#お店一覧\n",
        "https://r.gnavi.co.jp/area/aream2402/rs/\n",
        "https://r.gnavi.co.jp/area/aream2402/rs/?p=2\n",
        "\n",
        "#個別店舗\n",
        "https://r.gnavi.co.jp/s35gcc750000/?sc_type=area&sc_area=AREAM2402&sc_dsp=rs_138785"
      ],
      "metadata": {
        "id": "bAtX1mKixQgx",
        "colab": {
          "base_uri": "https://localhost:8080/",
          "height": 137
        },
        "outputId": "d8ff516e-6da0-4304-ff35-f5d25e79ee18"
      },
      "execution_count": 6,
      "outputs": [
        {
          "output_type": "error",
          "ename": "SyntaxError",
          "evalue": "ignored",
          "traceback": [
            "\u001b[0;36m  File \u001b[0;32m\"<ipython-input-6-7682d0cbbf68>\"\u001b[0;36m, line \u001b[0;32m4\u001b[0m\n\u001b[0;31m    https://r.gnavi.co.jp/area/aream2402/rs/\u001b[0m\n\u001b[0m          ^\u001b[0m\n\u001b[0;31mSyntaxError\u001b[0m\u001b[0;31m:\u001b[0m invalid syntax\n"
          ]
        }
      ]
    }
  ]
}