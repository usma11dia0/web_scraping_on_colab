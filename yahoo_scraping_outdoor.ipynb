{
  "cells": [
    {
      "cell_type": "markdown",
      "metadata": {
        "id": "view-in-github",
        "colab_type": "text"
      },
      "source": [
        "<a href=\"https://colab.research.google.com/github/usma11dia0/web_scraping_on_colab/blob/main/yahoo_scraping_outdoor.ipynb\" target=\"_parent\"><img src=\"https://colab.research.google.com/assets/colab-badge.svg\" alt=\"Open In Colab\"/></a>"
      ]
    },
    {
      "cell_type": "code",
      "execution_count": null,
      "metadata": {
        "colab": {
          "base_uri": "https://localhost:8080/"
        },
        "id": "1e99NSupmvQv",
        "outputId": "5159500f-810f-4383-aa8a-2e76f4093526"
      },
      "outputs": [
        {
          "output_type": "stream",
          "name": "stdout",
          "text": [
            "Executing: /tmp/apt-key-gpghome.tdFHJ8laeB/gpg.1.sh --keyserver keyserver.ubuntu.com --recv-keys DCC9EFBF77E11517\n",
            "gpg: key DCC9EFBF77E11517: \"Debian Stable Release Key (10/buster) <debian-release@lists.debian.org>\" not changed\n",
            "gpg: Total number processed: 1\n",
            "gpg:              unchanged: 1\n",
            "Executing: /tmp/apt-key-gpghome.rRFeJYg8PS/gpg.1.sh --keyserver keyserver.ubuntu.com --recv-keys 648ACFD622F3D138\n",
            "gpg: key DC30D7C23CBBABEE: \"Debian Archive Automatic Signing Key (10/buster) <ftpmaster@debian.org>\" not changed\n",
            "gpg: Total number processed: 1\n",
            "gpg:              unchanged: 1\n",
            "Executing: /tmp/apt-key-gpghome.IjQaoKCV5D/gpg.1.sh --keyserver keyserver.ubuntu.com --recv-keys 112695A0E562B32A\n",
            "gpg: key 4DFAB270CAA96DFA: \"Debian Security Archive Automatic Signing Key (10/buster) <ftpmaster@debian.org>\" not changed\n",
            "gpg: Total number processed: 1\n",
            "gpg:              unchanged: 1\n",
            "gpg: cannot open '/dev/tty': No such device or address\n",
            "Warning: apt-key output should not be parsed (stdout is not a terminal)\n",
            "gpg: [stdout]: write error: Broken pipe\n",
            "gpg: filter_flush failed on close: Broken pipe\n",
            "gpg: cannot open '/dev/tty': No such device or address\n",
            "Warning: apt-key output should not be parsed (stdout is not a terminal)\n",
            "gpg: [stdout]: write error: Broken pipe\n",
            "gpg: filter_flush failed on close: Broken pipe\n",
            "gpg: cannot open '/dev/tty': No such device or address\n",
            "Warning: apt-key output should not be parsed (stdout is not a terminal)\n",
            "gpg: [stdout]: write error: Broken pipe\n",
            "gpg: filter_flush failed on close: Broken pipe\n",
            "Hit:1 http://deb.debian.org/debian buster InRelease\n",
            "Hit:2 https://cloud.r-project.org/bin/linux/ubuntu focal-cran40/ InRelease\n",
            "Get:3 http://deb.debian.org/debian buster-updates InRelease [56.6 kB]\n",
            "Hit:4 http://deb.debian.org/debian-security buster/updates InRelease\n",
            "Hit:5 https://developer.download.nvidia.com/compute/cuda/repos/ubuntu2004/x86_64  InRelease\n",
            "Hit:6 http://security.ubuntu.com/ubuntu focal-security InRelease\n",
            "Hit:7 http://ppa.launchpad.net/c2d4u.team/c2d4u4.0+/ubuntu focal InRelease\n",
            "Hit:8 http://ppa.launchpad.net/cran/libgit2/ubuntu focal InRelease\n",
            "Hit:9 http://ppa.launchpad.net/deadsnakes/ppa/ubuntu focal InRelease\n",
            "Hit:10 http://ppa.launchpad.net/graphics-drivers/ppa/ubuntu focal InRelease\n",
            "Hit:11 http://ppa.launchpad.net/ubuntugis/ppa/ubuntu focal InRelease\n",
            "Hit:12 http://archive.ubuntu.com/ubuntu focal InRelease\n",
            "Hit:13 http://archive.ubuntu.com/ubuntu focal-updates InRelease\n",
            "Hit:14 http://archive.ubuntu.com/ubuntu focal-backports InRelease\n",
            "Fetched 56.6 kB in 3s (16.7 kB/s)\n",
            "Reading package lists... Done\n",
            "Reading package lists... Done\n",
            "Building dependency tree       \n",
            "Reading state information... Done\n",
            "chromium is already the newest version (90.0.4430.212-1~deb10u1).\n",
            "chromium-driver is already the newest version (90.0.4430.212-1~deb10u1).\n",
            "0 upgraded, 0 newly installed, 0 to remove and 28 not upgraded.\n",
            "Looking in indexes: https://pypi.org/simple, https://us-python.pkg.dev/colab-wheels/public/simple/\n",
            "Requirement already satisfied: selenium in /usr/local/lib/python3.9/dist-packages (4.8.3)\n",
            "Requirement already satisfied: trio~=0.17 in /usr/local/lib/python3.9/dist-packages (from selenium) (0.22.0)\n",
            "Requirement already satisfied: certifi>=2021.10.8 in /usr/local/lib/python3.9/dist-packages (from selenium) (2022.12.7)\n",
            "Requirement already satisfied: urllib3[socks]~=1.26 in /usr/local/lib/python3.9/dist-packages (from selenium) (1.26.15)\n",
            "Requirement already satisfied: trio-websocket~=0.9 in /usr/local/lib/python3.9/dist-packages (from selenium) (0.10.2)\n",
            "Requirement already satisfied: async-generator>=1.9 in /usr/local/lib/python3.9/dist-packages (from trio~=0.17->selenium) (1.10)\n",
            "Requirement already satisfied: exceptiongroup>=1.0.0rc9 in /usr/local/lib/python3.9/dist-packages (from trio~=0.17->selenium) (1.1.1)\n",
            "Requirement already satisfied: attrs>=19.2.0 in /usr/local/lib/python3.9/dist-packages (from trio~=0.17->selenium) (22.2.0)\n",
            "Requirement already satisfied: idna in /usr/local/lib/python3.9/dist-packages (from trio~=0.17->selenium) (3.4)\n",
            "Requirement already satisfied: sniffio in /usr/local/lib/python3.9/dist-packages (from trio~=0.17->selenium) (1.3.0)\n",
            "Requirement already satisfied: outcome in /usr/local/lib/python3.9/dist-packages (from trio~=0.17->selenium) (1.2.0)\n",
            "Requirement already satisfied: sortedcontainers in /usr/local/lib/python3.9/dist-packages (from trio~=0.17->selenium) (2.4.0)\n",
            "Requirement already satisfied: wsproto>=0.14 in /usr/local/lib/python3.9/dist-packages (from trio-websocket~=0.9->selenium) (1.2.0)\n",
            "Requirement already satisfied: PySocks!=1.5.7,<2.0,>=1.5.6 in /usr/local/lib/python3.9/dist-packages (from urllib3[socks]~=1.26->selenium) (1.7.1)\n",
            "Requirement already satisfied: h11<1,>=0.9.0 in /usr/local/lib/python3.9/dist-packages (from wsproto>=0.14->trio-websocket~=0.9->selenium) (0.14.0)\n"
          ]
        },
        {
          "output_type": "execute_result",
          "data": {
            "text/plain": []
          },
          "metadata": {},
          "execution_count": 82
        }
      ],
      "source": [
        "%%shell\n",
        "# Ubuntu no longer distributes chromium-browser outside of snap\n",
        "#\n",
        "# Proposed solution: https://askubuntu.com/questions/1204571/how-to-install-chromium-without-snap\n",
        "\n",
        "# Add debian buster\n",
        "cat > /etc/apt/sources.list.d/debian.list <<'EOF'\n",
        "deb [arch=amd64 signed-by=/usr/share/keyrings/debian-buster.gpg] http://deb.debian.org/debian buster main\n",
        "deb [arch=amd64 signed-by=/usr/share/keyrings/debian-buster-updates.gpg] http://deb.debian.org/debian buster-updates main\n",
        "deb [arch=amd64 signed-by=/usr/share/keyrings/debian-security-buster.gpg] http://deb.debian.org/debian-security buster/updates main\n",
        "EOF\n",
        "\n",
        "# Add keys\n",
        "apt-key adv --keyserver keyserver.ubuntu.com --recv-keys DCC9EFBF77E11517\n",
        "apt-key adv --keyserver keyserver.ubuntu.com --recv-keys 648ACFD622F3D138\n",
        "apt-key adv --keyserver keyserver.ubuntu.com --recv-keys 112695A0E562B32A\n",
        "\n",
        "apt-key export 77E11517 | gpg --dearmour -o /usr/share/keyrings/debian-buster.gpg\n",
        "apt-key export 22F3D138 | gpg --dearmour -o /usr/share/keyrings/debian-buster-updates.gpg\n",
        "apt-key export E562B32A | gpg --dearmour -o /usr/share/keyrings/debian-security-buster.gpg\n",
        "\n",
        "# Prefer debian repo for chromium* packages only\n",
        "# Note the double-blank lines between entries\n",
        "cat > /etc/apt/preferences.d/chromium.pref << 'EOF'\n",
        "Package: *\n",
        "Pin: release a=eoan\n",
        "Pin-Priority: 500\n",
        "\n",
        "\n",
        "Package: *\n",
        "Pin: origin \"deb.debian.org\"\n",
        "Pin-Priority: 300\n",
        "\n",
        "\n",
        "Package: chromium*\n",
        "Pin: origin \"deb.debian.org\"\n",
        "Pin-Priority: 700\n",
        "EOF\n",
        "\n",
        "# Install chromium and chromium-driver\n",
        "apt-get update\n",
        "apt-get install chromium chromium-driver\n",
        "\n",
        "# Install selenium\n",
        "pip install selenium"
      ]
    },
    {
      "cell_type": "code",
      "execution_count": null,
      "metadata": {
        "id": "vQmuzCB5mvNs"
      },
      "outputs": [],
      "source": [
        "#環境変数設定\n",
        "TARGET = '食品'\n",
        "TARGET_URL = 'https://shopping.yahoo.co.jp/category/2498/list?X=4&sc_i=shp_pc_cate-rcmd_rank&b=1&view=grid'\n",
        "\n",
        "NUM_TO_FETCH = 100\n",
        "STORES_PER_PAGE = 30\n",
        "DRIVER_WAIT_TIME = 2\n",
        "SCROLL_PAUSE_TIME = 3\n",
        "MAX_SCROLL_ATTEMPTS = 30\n",
        "\n",
        "# 各種ファイル保存先\n",
        "ACCU_LIST_PATH = '/content/drive/MyDrive/Colab Notebooks/dev/web_scraping_yahoo/accumulated_list_yahoo_food.csv'\n",
        "SUBMIT_FILE_PATH ='/content/drive/MyDrive/Colab Notebooks/dev/web_scraping_yahoo/result_list_yahoo_food.xlsx'\n",
        "\n",
        "#取得データ格納先\n",
        "result_dict = { \n",
        "    '会社名(ストア情報)': [],\n",
        "    '住所(ストア情報)': [],\n",
        "    'ストア名(ストア情報)':[],\n",
        "    '運営責任者(問い合わせ情報)':[],\n",
        "    '住所(問い合わせ情報)':[],\n",
        "    '電話番号(問い合わせ情報)':[],\n",
        "    'メールアドレス(問い合わせ情報)':[],\n",
        "    'URL':[],\n",
        "}"
      ]
    },
    {
      "cell_type": "code",
      "execution_count": null,
      "metadata": {
        "id": "3wRg2k2QmvKz",
        "colab": {
          "base_uri": "https://localhost:8080/"
        },
        "outputId": "d43d2cae-206d-412f-dfbf-084375480f5c"
      },
      "outputs": [
        {
          "output_type": "stream",
          "name": "stdout",
          "text": [
            "Drive already mounted at /content/drive; to attempt to forcibly remount, call drive.mount(\"/content/drive\", force_remount=True).\n"
          ]
        }
      ],
      "source": [
        "#標準ライブラリ\n",
        "import os\n",
        "import math\n",
        "import json\n",
        "import re\n",
        "import time\n",
        "\n",
        "#サードパーティライブラリ\n",
        "import pandas as pd\n",
        "from google.colab import drive\n",
        "from selenium import webdriver\n",
        "from selenium.webdriver.common.by import By\n",
        "from selenium.webdriver.support.ui import WebDriverWait\n",
        "from selenium.webdriver.support import expected_conditions as EC\n",
        "from logging import (\n",
        "    getLogger, \n",
        "    StreamHandler, \n",
        "    DEBUG, \n",
        "    INFO, \n",
        "    Formatter, \n",
        "    config,\n",
        ")\n",
        "drive.mount('/content/drive')"
      ]
    },
    {
      "cell_type": "code",
      "execution_count": null,
      "metadata": {
        "id": "ofivGvbMmvEQ"
      },
      "outputs": [],
      "source": [
        "#関数定義\n",
        "def add_store_url(elements, store_urls, store_names, count_skip):\n",
        "    for i, element in enumerate(elements, start = 0):\n",
        "        if i > 29:\n",
        "          break\n",
        "        store_name = element.text\n",
        "        store_url = element.get_attribute('href')\n",
        "        if store_name not in accu_set and store_name not in store_names:\n",
        "            store_urls.append(store_url)\n",
        "            store_names.append(store_name)\n",
        "        else:\n",
        "            count_skip += 1\n",
        "    return store_urls, store_names, count_skip\n",
        "\n",
        "#スクロールしてページを更新\n",
        "def scroll_page(driver):\n",
        "    last_height = driver.execute_script(\"return document.body.scrollHeight\")\n",
        "    attempts = 0\n",
        "    while attempts < MAX_SCROLL_ATTEMPTS:\n",
        "        driver.execute_script(\"window.scrollTo(0, document.body.scrollHeight);\")\n",
        "        time.sleep(SCROLL_PAUSE_TIME)\n",
        "        new_height = driver.execute_script(\"return document.body.scrollHeight\")\n",
        "        if new_height == last_height:\n",
        "            break\n",
        "        last_height = new_height\n",
        "        attempts += 1\n",
        "\n",
        "def is_japanese_phone_number(phone_number):\n",
        "    # 固定電話のパターン\n",
        "    landline_pattern = r'^0\\d{1,4}-\\d{1,4}-\\d{3,4}$'\n",
        "    # 携帯電話のパターン\n",
        "    mobile_pattern = r'^0[789]0-\\d{4}-\\d{4}$'\n",
        "\n",
        "    return bool(re.match(landline_pattern, phone_number) or re.match(mobile_pattern, phone_number))"
      ]
    },
    {
      "cell_type": "code",
      "execution_count": null,
      "metadata": {
        "id": "dw-mNE7nmu5D"
      },
      "outputs": [],
      "source": [
        "options = webdriver.ChromeOptions()\n",
        "options.add_argument('--no-sandbox')\n",
        "options.add_argument('--headless')\n",
        "options.add_argument('--disable-gpu')\n",
        "options.add_argument('--disable-dev-shm-usage')\n",
        "options.add_argument('--ignore-certificate-errors')\n",
        "options.add_argument(\"--disable-extensions\")\n",
        "options.add_argument(\"--disable-popup-blocking\")\n",
        "options.add_argument(\n",
        "       \"user-agent=Mozilla/5.0 (X11; Linux x86_64; rv:93.0) Gecko/20100101 Firefox/93.0\"\n",
        "    )\n",
        "options.add_experimental_option(\"prefs\", {\n",
        "    \"profile.managed_default_content_settings.images\": 2,  # 画像の無効化\n",
        "    \"profile.managed_default_content_settings.plugins\": 2,  # プラグインの無効化\n",
        "})\n",
        "\n",
        "driver = webdriver.Chrome('chromedriver', options=options)\n",
        "driver.implicitly_wait(DRIVER_WAIT_TIME)"
      ]
    },
    {
      "cell_type": "code",
      "execution_count": null,
      "metadata": {
        "id": "AVkknEHamule",
        "colab": {
          "base_uri": "https://localhost:8080/"
        },
        "outputId": "69500202-ce64-4802-a948-f7393638ff71"
      },
      "outputs": [
        {
          "output_type": "stream",
          "name": "stdout",
          "text": [
            "2023-04-19 14:36:04,625 [DEBUG] main: 食品：トップページへ移動しました\n"
          ]
        }
      ],
      "source": [
        "#ロガーの設定\n",
        "with open('/content/drive/MyDrive/Colab Notebooks/dev/web_scraping_hotpepper/logging_config.json', 'r') as f:\n",
        "    logger_config = json.load(f)\n",
        "config.dictConfig(logger_config)\n",
        "logger = getLogger('main')\n",
        "\n",
        "try:\n",
        "      driver.get(TARGET_URL)\n",
        "      logger.debug(f'{TARGET}：トップページへ移動しました')\n",
        "except Exception as e:\n",
        "      logger.error(f'{TARGET}：トップページへ移動出来ませんでした: [e]')\n",
        "      raise"
      ]
    },
    {
      "cell_type": "code",
      "execution_count": null,
      "metadata": {
        "id": "zrk9OljutNIQ",
        "colab": {
          "base_uri": "https://localhost:8080/",
          "height": 1000
        },
        "outputId": "3cb27dc3-802c-489b-b9a2-8cde01f0d564"
      },
      "outputs": [
        {
          "output_type": "stream",
          "name": "stdout",
          "text": [
            "2023-04-19 14:38:06,313 [DEBUG] main: 食品：店舗リスト取得 (取得数:0, 重複数：30)\n",
            "2023-04-19 14:38:10,237 [DEBUG] main: 食品：店舗リスト取得 (取得数:0, 重複数：60)\n",
            "2023-04-19 14:38:14,369 [DEBUG] main: 食品：店舗リスト取得 (取得数:0, 重複数：90)\n",
            "2023-04-19 14:38:18,277 [DEBUG] main: 食品：店舗リスト取得 (取得数:0, 重複数：120)\n",
            "2023-04-19 14:38:22,629 [DEBUG] main: 食品：店舗リスト取得 (取得数:0, 重複数：150)\n",
            "2023-04-19 14:38:27,013 [DEBUG] main: 食品：店舗リスト取得 (取得数:0, 重複数：180)\n",
            "2023-04-19 14:38:31,348 [DEBUG] main: 食品：店舗リスト取得 (取得数:0, 重複数：210)\n",
            "2023-04-19 14:38:35,323 [DEBUG] main: 食品：店舗リスト取得 (取得数:0, 重複数：240)\n",
            "2023-04-19 14:38:39,330 [DEBUG] main: 食品：店舗リスト取得 (取得数:0, 重複数：270)\n",
            "2023-04-19 14:38:43,824 [DEBUG] main: 食品：店舗リスト取得 (取得数:0, 重複数：300)\n",
            "2023-04-19 14:38:48,304 [DEBUG] main: 食品：店舗リスト取得 (取得数:0, 重複数：330)\n",
            "2023-04-19 14:38:52,770 [DEBUG] main: 食品：店舗リスト取得 (取得数:0, 重複数：360)\n",
            "2023-04-19 14:38:56,943 [DEBUG] main: 食品：店舗リスト取得 (取得数:0, 重複数：390)\n",
            "2023-04-19 14:39:01,020 [DEBUG] main: 食品：店舗リスト取得 (取得数:0, 重複数：420)\n",
            "2023-04-19 14:39:05,526 [DEBUG] main: 食品：店舗リスト取得 (取得数:0, 重複数：450)\n",
            "2023-04-19 14:39:10,053 [DEBUG] main: 食品：店舗リスト取得 (取得数:0, 重複数：480)\n",
            "2023-04-19 14:39:14,615 [DEBUG] main: 食品：店舗リスト取得 (取得数:0, 重複数：510)\n",
            "2023-04-19 14:39:18,740 [DEBUG] main: 食品：店舗リスト取得 (取得数:0, 重複数：540)\n",
            "2023-04-19 14:39:22,857 [DEBUG] main: 食品：店舗リスト取得 (取得数:0, 重複数：570)\n",
            "2023-04-19 14:39:27,188 [DEBUG] main: 食品：店舗リスト取得 (取得数:0, 重複数：600)\n",
            "2023-04-19 14:39:31,787 [DEBUG] main: 食品：店舗リスト取得 (取得数:0, 重複数：630)\n",
            "https://shopping.yahoo.co.jp/category/2498/list?X=4&sc_i=shp_pc_cate-rcmd_rank&prom=1&b=631&view=grid\n",
            "2023-04-19 14:41:38,824 [DEBUG] main: 食品：次の店舗一覧ページへ遷移しました)\n",
            "2023-04-19 14:41:39,638 [DEBUG] main: 食品：店舗リスト取得 (取得数:0, 重複数：660)\n",
            "2023-04-19 14:41:43,542 [DEBUG] main: 食品：店舗リスト取得 (取得数:0, 重複数：690)\n",
            "2023-04-19 14:41:47,701 [DEBUG] main: 食品：店舗リスト取得 (取得数:0, 重複数：720)\n",
            "2023-04-19 14:41:52,056 [DEBUG] main: 食品：店舗リスト取得 (取得数:0, 重複数：750)\n",
            "2023-04-19 14:41:56,482 [DEBUG] main: 食品：店舗リスト取得 (取得数:0, 重複数：780)\n",
            "2023-04-19 14:42:00,448 [DEBUG] main: 食品：店舗リスト取得 (取得数:0, 重複数：810)\n",
            "2023-04-19 14:42:04,415 [DEBUG] main: 食品：店舗リスト取得 (取得数:0, 重複数：840)\n",
            "2023-04-19 14:42:08,391 [DEBUG] main: 食品：店舗リスト取得 (取得数:0, 重複数：870)\n",
            "2023-04-19 14:42:12,788 [DEBUG] main: 食品：店舗リスト取得 (取得数:0, 重複数：900)\n",
            "2023-04-19 14:42:17,195 [DEBUG] main: 食品：店舗リスト取得 (取得数:0, 重複数：930)\n",
            "2023-04-19 14:42:21,607 [DEBUG] main: 食品：店舗リスト取得 (取得数:0, 重複数：960)\n",
            "2023-04-19 14:42:25,644 [DEBUG] main: 食品：店舗リスト取得 (取得数:0, 重複数：990)\n",
            "2023-04-19 14:42:29,704 [DEBUG] main: 食品：店舗リスト取得 (取得数:0, 重複数：1020)\n",
            "2023-04-19 14:42:34,211 [DEBUG] main: 食品：店舗リスト取得 (取得数:0, 重複数：1050)\n",
            "2023-04-19 14:42:38,767 [DEBUG] main: 食品：店舗リスト取得 (取得数:0, 重複数：1080)\n",
            "2023-04-19 14:42:43,383 [DEBUG] main: 食品：店舗リスト取得 (取得数:0, 重複数：1110)\n",
            "2023-04-19 14:42:47,524 [DEBUG] main: 食品：店舗リスト取得 (取得数:0, 重複数：1140)\n",
            "2023-04-19 14:42:51,653 [DEBUG] main: 食品：店舗リスト取得 (取得数:0, 重複数：1170)\n",
            "2023-04-19 14:42:56,216 [DEBUG] main: 食品：店舗リスト取得 (取得数:0, 重複数：1200)\n",
            "2023-04-19 14:43:00,797 [DEBUG] main: 食品：店舗リスト取得 (取得数:0, 重複数：1230)\n",
            "2023-04-19 14:43:05,768 [DEBUG] main: 食品：店舗リスト取得 (取得数:0, 重複数：1260)\n",
            "https://shopping.yahoo.co.jp/category/2498/list?X=4&sc_i=shp_pc_cate-rcmd_rank&prom=1&b=1261&view=grid\n",
            "2023-04-19 14:43:41,740 [DEBUG] main: 食品：次の店舗一覧ページへ遷移しました)\n",
            "2023-04-19 14:43:42,840 [DEBUG] main: 食品：店舗リスト取得 (取得数:0, 重複数：1290)\n",
            "2023-04-19 14:43:47,383 [DEBUG] main: 食品：店舗リスト取得 (取得数:0, 重複数：1320)\n",
            "2023-04-19 14:43:51,955 [DEBUG] main: 食品：店舗リスト取得 (取得数:0, 重複数：1350)\n",
            "2023-04-19 14:43:56,547 [DEBUG] main: 食品：店舗リスト取得 (取得数:0, 重複数：1380)\n",
            "2023-04-19 14:44:00,728 [DEBUG] main: 食品：店舗リスト取得 (取得数:0, 重複数：1410)\n",
            "2023-04-19 14:44:04,932 [DEBUG] main: 食品：店舗リスト取得 (取得数:0, 重複数：1440)\n",
            "2023-04-19 14:44:09,590 [DEBUG] main: 食品：店舗リスト取得 (取得数:0, 重複数：1470)\n",
            "2023-04-19 14:44:14,233 [DEBUG] main: 食品：店舗リスト取得 (取得数:0, 重複数：1500)\n",
            "https://shopping.yahoo.co.jp/category/2498/list?X=4&sc_i=shp_pc_cate-rcmd_rank&prom=1&b=1471&view=grid#SearchResultsPage49\n",
            "2023-04-19 14:44:21,253 [DEBUG] main: 食品：次の店舗一覧ページへ遷移しました)\n",
            "2023-04-19 14:44:22,094 [DEBUG] main: 食品：店舗リスト取得 (取得数:0, 重複数：1530)\n",
            "2023-04-19 14:44:26,030 [DEBUG] main: 食品：店舗リスト取得 (取得数:0, 重複数：1560)\n",
            "2023-04-19 14:44:29,982 [DEBUG] main: 食品：店舗リスト取得 (取得数:0, 重複数：1590)\n",
            "2023-04-19 14:44:34,277 [DEBUG] main: 食品：店舗リスト取得 (取得数:0, 重複数：1620)\n",
            "2023-04-19 14:44:38,580 [DEBUG] main: 食品：店舗リスト取得 (取得数:0, 重複数：1650)\n",
            "2023-04-19 14:44:42,784 [DEBUG] main: 食品：店舗リスト取得 (取得数:0, 重複数：1680)\n",
            "2023-04-19 14:44:46,774 [DEBUG] main: 食品：店舗リスト取得 (取得数:0, 重複数：1710)\n"
          ]
        },
        {
          "output_type": "error",
          "ename": "KeyboardInterrupt",
          "evalue": "ignored",
          "traceback": [
            "\u001b[0;31m---------------------------------------------------------------------------\u001b[0m",
            "\u001b[0;31mKeyboardInterrupt\u001b[0m                         Traceback (most recent call last)",
            "\u001b[0;32m<ipython-input-88-1eabcdcc7707>\u001b[0m in \u001b[0;36m<cell line: 16>\u001b[0;34m()\u001b[0m\n\u001b[1;32m     21\u001b[0m   \u001b[0;32mwhile\u001b[0m \u001b[0mlen\u001b[0m\u001b[0;34m(\u001b[0m\u001b[0mstore_urls\u001b[0m\u001b[0;34m)\u001b[0m \u001b[0;34m<\u001b[0m \u001b[0mNUM_TO_FETCH\u001b[0m\u001b[0;34m:\u001b[0m\u001b[0;34m\u001b[0m\u001b[0;34m\u001b[0m\u001b[0m\n\u001b[1;32m     22\u001b[0m     \u001b[0mstart\u001b[0m \u001b[0;34m=\u001b[0m \u001b[0;36m30\u001b[0m \u001b[0;34m*\u001b[0m \u001b[0mcount\u001b[0m \u001b[0;32mif\u001b[0m \u001b[0mcount\u001b[0m \u001b[0;34m!=\u001b[0m \u001b[0;36m0\u001b[0m \u001b[0;32melse\u001b[0m \u001b[0;36m0\u001b[0m\u001b[0;34m\u001b[0m\u001b[0;34m\u001b[0m\u001b[0m\n\u001b[0;32m---> 23\u001b[0;31m     \u001b[0mscroll_page\u001b[0m\u001b[0;34m(\u001b[0m\u001b[0mdriver\u001b[0m\u001b[0;34m)\u001b[0m\u001b[0;34m\u001b[0m\u001b[0;34m\u001b[0m\u001b[0m\n\u001b[0m\u001b[1;32m     24\u001b[0m     \u001b[0mdiv_elements\u001b[0m \u001b[0;34m=\u001b[0m \u001b[0mdriver\u001b[0m\u001b[0;34m.\u001b[0m\u001b[0mfind_elements\u001b[0m\u001b[0;34m(\u001b[0m\u001b[0mBy\u001b[0m\u001b[0;34m.\u001b[0m\u001b[0mCSS_SELECTOR\u001b[0m\u001b[0;34m,\u001b[0m\u001b[0;34m\".SearchResult_SearchResult__storeRow__tXYSC a\"\u001b[0m\u001b[0;34m)\u001b[0m\u001b[0;34m\u001b[0m\u001b[0;34m\u001b[0m\u001b[0m\n\u001b[1;32m     25\u001b[0m     \u001b[0mdiv_elements\u001b[0m \u001b[0;34m=\u001b[0m \u001b[0mdiv_elements\u001b[0m\u001b[0;34m[\u001b[0m\u001b[0mstart\u001b[0m\u001b[0;34m:\u001b[0m\u001b[0;34m]\u001b[0m\u001b[0;34m\u001b[0m\u001b[0;34m\u001b[0m\u001b[0m\n",
            "\u001b[0;32m<ipython-input-85-de5b85213f3c>\u001b[0m in \u001b[0;36mscroll_page\u001b[0;34m(driver)\u001b[0m\n\u001b[1;32m     19\u001b[0m     \u001b[0;32mwhile\u001b[0m \u001b[0mattempts\u001b[0m \u001b[0;34m<\u001b[0m \u001b[0mMAX_SCROLL_ATTEMPTS\u001b[0m\u001b[0;34m:\u001b[0m\u001b[0;34m\u001b[0m\u001b[0;34m\u001b[0m\u001b[0m\n\u001b[1;32m     20\u001b[0m         \u001b[0mdriver\u001b[0m\u001b[0;34m.\u001b[0m\u001b[0mexecute_script\u001b[0m\u001b[0;34m(\u001b[0m\u001b[0;34m\"window.scrollTo(0, document.body.scrollHeight);\"\u001b[0m\u001b[0;34m)\u001b[0m\u001b[0;34m\u001b[0m\u001b[0;34m\u001b[0m\u001b[0m\n\u001b[0;32m---> 21\u001b[0;31m         \u001b[0mtime\u001b[0m\u001b[0;34m.\u001b[0m\u001b[0msleep\u001b[0m\u001b[0;34m(\u001b[0m\u001b[0mSCROLL_PAUSE_TIME\u001b[0m\u001b[0;34m)\u001b[0m\u001b[0;34m\u001b[0m\u001b[0;34m\u001b[0m\u001b[0m\n\u001b[0m\u001b[1;32m     22\u001b[0m         \u001b[0mnew_height\u001b[0m \u001b[0;34m=\u001b[0m \u001b[0mdriver\u001b[0m\u001b[0;34m.\u001b[0m\u001b[0mexecute_script\u001b[0m\u001b[0;34m(\u001b[0m\u001b[0;34m\"return document.body.scrollHeight\"\u001b[0m\u001b[0;34m)\u001b[0m\u001b[0;34m\u001b[0m\u001b[0;34m\u001b[0m\u001b[0m\n\u001b[1;32m     23\u001b[0m         \u001b[0;32mif\u001b[0m \u001b[0mnew_height\u001b[0m \u001b[0;34m==\u001b[0m \u001b[0mlast_height\u001b[0m\u001b[0;34m:\u001b[0m\u001b[0;34m\u001b[0m\u001b[0;34m\u001b[0m\u001b[0m\n",
            "\u001b[0;31mKeyboardInterrupt\u001b[0m: "
          ]
        }
      ],
      "source": [
        "#店舗リストの全ページ数を導出\n",
        "p_element = driver.find_element(By.CSS_SELECTOR,\".SearchResultsDisplayOptions_SearchResultsDisplayOptions__count__WBsPf\")\n",
        "num_all_stores = int(p_element.text.replace(',','')[:-1])\n",
        "num_all_pages = math.ceil(num_all_stores / STORES_PER_PAGE)\n",
        "\n",
        "\n",
        "#積み上げリストから既存取得の店舗URLを抽出\n",
        "try:\n",
        "  df_accu = pd.read_csv(ACCU_LIST_PATH, usecols=[2])\n",
        "  accu_list = df_accu.iloc[:, 0].values.tolist()\n",
        "  accu_set = set(accu_list)\n",
        "except FileNotFoundError:\n",
        "  accu_set = set()\n",
        "\n",
        "# 目標件数を満たすまでstore_urlを取得\n",
        "try:\n",
        "  store_urls = []\n",
        "  store_names = []\n",
        "  count = 0\n",
        "  count_skip = 0\n",
        "  while len(store_urls) < NUM_TO_FETCH:\n",
        "    start = 30 * count if count != 0 else 0\n",
        "    scroll_page(driver)\n",
        "    div_elements = driver.find_elements(By.CSS_SELECTOR,\".SearchResult_SearchResult__storeRow__tXYSC a\")\n",
        "    div_elements = div_elements[start:]\n",
        "    #ページ末尾までクロールが終了した場合、次のページへ遷移\n",
        "    if len(div_elements) == 0:\n",
        "      try:\n",
        "        page_elements = driver.find_elements(By.CSS_SELECTOR, \".Pager_Pager__lbzCH\")\n",
        "        page_element = page_elements[-1]\n",
        "        a_element = page_element.find_element(By.CSS_SELECTOR, \"div:nth-child(3) a\")\n",
        "        page_url = a_element.get_attribute('href')\n",
        "        driver.get(page_url)\n",
        "        scroll_page(driver)\n",
        "        count = 0\n",
        "        start = 0\n",
        "        div_elements = driver.find_elements(By.CSS_SELECTOR,\".SearchResult_SearchResult__storeRow__tXYSC a\")\n",
        "        div_elements = div_elements[start:]\n",
        "        logger.debug(f'{TARGET}：次の店舗一覧ページへ遷移しました)')\n",
        "      except:\n",
        "        logger.debug(f'{TARGET}：次の店舗一覧ページへ遷移出来ませんでした)')\n",
        "    store_urls, store_names, count_skip = add_store_url(div_elements, store_urls, store_names, count_skip)\n",
        "    logger.debug(f'{TARGET}：店舗リスト取得 (取得数:{len(store_urls)}, 重複数：{count_skip})')\n",
        "    count += 1\n",
        "except  Exception as e:\n",
        "  logger.error(f'{TARGET}：店舗リストへ移動出来ませんでした: [e]')\n",
        "  raise\n",
        "\n",
        "logger.info(f'{TARGET}：店舗URL取得完了:{len(store_urls)}個')  \n",
        "print(store_urls)\n",
        "print(store_names)"
      ]
    },
    {
      "cell_type": "code",
      "execution_count": null,
      "metadata": {
        "id": "6tepBpPEuZd-"
      },
      "outputs": [],
      "source": [
        "page_num = 0\n",
        "#店舗個別ページにて情報取得\n",
        "for store_url in store_urls:   \n",
        "    name_store = \"-\"\n",
        "    address_store = \"-\"\n",
        "    store_store = \"-\"\n",
        "    name_contact = \"-\"\n",
        "    address_contact = \"-\"\n",
        "    tel_contact = \"-\"\n",
        "    mail_contact = \"-\"\n",
        "    try:\n",
        "        driver.get(store_url)\n",
        "        page_num += 1\n",
        "        store_store = store_names[page_num - 1]\n",
        "        logger.debug(f'{TARGET}：店舗ページ{page_num}へ移動しました')\n",
        "\n",
        "        #店舗情報ページURLを取得\n",
        "        info_urls = driver.find_elements(By.CSS_SELECTOR,\".elInfoItemLink\")\n",
        "        if not info_urls:\n",
        "          info_urls = driver.find_elements(By.CSS_SELECTOR,\".styles_infoItemLink__m2ij_\")\n",
        "        info_url = info_urls[0].get_attribute('href')\n",
        "        print(info_url)\n",
        "        driver.get(info_url)\n",
        "        logger.debug(f'{TARGET}：店舗情報ページ{page_num}へ移動しました')\n",
        "        name_store = driver.find_element(By.CSS_SELECTOR, \".elSectionContent .elRow:nth-child(1) .elRowContent .elRowContentText\").text\n",
        "        address_store = driver.find_element(By.CSS_SELECTOR, \".elSectionContent .elRow:nth-child(3) .elRowContent .elRowContentText\").text\n",
        "        div_elements =  driver.find_elements(By.CSS_SELECTOR, \".mdInformationTable\")\n",
        "        div_element = div_elements[1]\n",
        "        name_contact = div_element.find_element(By.CSS_SELECTOR, \".elRows .elRow:nth-child(1) .elRowContentText\").text\n",
        "        address_contact = div_element.find_element(By.CSS_SELECTOR, \".elRows .elRow:nth-child(3) .elRowContentText\").text\n",
        "        tel_contact = div_element.find_element(By.CSS_SELECTOR, \".elRows .elRow:nth-child(4) .elRowContentText\").text\n",
        "        mail_contact = div_element.find_element(By.CSS_SELECTOR, \".elRows .elRow:nth-child(5) .elRowContentText\").text\n",
        "        if is_japanese_phone_number(mail_contact):\n",
        "          mail_contact = div_element.find_element(By.CSS_SELECTOR, \".elRows .elRow:nth-child(6) .elRowContentText\").text\n",
        "    except Exception as e:\n",
        "        logger.error(f'{TARGET}：会社概要ページがありませんでした。: [{store_store, store_url}]')\n",
        "    finally:\n",
        "      result_dict['会社名(ストア情報)'].append(name_store)\n",
        "      result_dict['住所(ストア情報)'].append(address_store)\n",
        "      result_dict['ストア名(ストア情報)'].append(store_store)\n",
        "      result_dict['運営責任者(問い合わせ情報)'].append(name_contact)\n",
        "      result_dict['住所(問い合わせ情報)'].append(address_contact)\n",
        "      result_dict['電話番号(問い合わせ情報)'].append(tel_contact)\n",
        "      result_dict['メールアドレス(問い合わせ情報)'].append(mail_contact)\n",
        "      result_dict['URL'].append(store_url)\n",
        "\n",
        "df_result = pd.DataFrame(result_dict)\n",
        "df_result"
      ]
    },
    {
      "cell_type": "code",
      "execution_count": null,
      "metadata": {
        "id": "R_dbbkpcvb0b"
      },
      "outputs": [],
      "source": [
        "# 提出ファイル用出力\n",
        "if not os.path.isfile(SUBMIT_FILE_PATH):\n",
        "    df_result.to_excel(SUBMIT_FILE_PATH, header=True, index=False)\n",
        "else:\n",
        "  with pd.ExcelWriter(SUBMIT_FILE_PATH, mode='a', if_sheet_exists='new') as writer:\n",
        "    df_result.to_excel(writer)\n",
        "\n",
        "# 積み上げリスト保存用出力\n",
        "df_result.to_csv(ACCU_LIST_PATH, mode='a', header=True, index=False)"
      ]
    },
    {
      "cell_type": "code",
      "execution_count": null,
      "metadata": {
        "id": "MQTPApCgvd0x"
      },
      "outputs": [],
      "source": [
        "# 積み上げリスト確認\n",
        "df_accu = pd.read_csv(ACCU_LIST_PATH)\n",
        "df_accu"
      ]
    },
    {
      "cell_type": "code",
      "execution_count": null,
      "metadata": {
        "id": "qcf6nXrryt_c"
      },
      "outputs": [],
      "source": [
        "\n"
      ]
    }
  ],
  "metadata": {
    "colab": {
      "provenance": [],
      "include_colab_link": true
    },
    "kernelspec": {
      "display_name": "Python 3",
      "name": "python3"
    },
    "language_info": {
      "name": "python"
    }
  },
  "nbformat": 4,
  "nbformat_minor": 0
}