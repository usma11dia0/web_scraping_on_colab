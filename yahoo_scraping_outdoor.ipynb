{
  "cells": [
    {
      "cell_type": "markdown",
      "metadata": {
        "id": "view-in-github",
        "colab_type": "text"
      },
      "source": [
        "<a href=\"https://colab.research.google.com/github/usma11dia0/web_scraping_on_colab/blob/main/yahoo_scraping_outdoor.ipynb\" target=\"_parent\"><img src=\"https://colab.research.google.com/assets/colab-badge.svg\" alt=\"Open In Colab\"/></a>"
      ]
    },
    {
      "cell_type": "code",
      "execution_count": 19,
      "metadata": {
        "colab": {
          "base_uri": "https://localhost:8080/"
        },
        "id": "1e99NSupmvQv",
        "outputId": "c327205a-8a2b-48b8-bf94-4a761b8463f6"
      },
      "outputs": [
        {
          "output_type": "stream",
          "name": "stdout",
          "text": [
            "Executing: /tmp/apt-key-gpghome.SPU53CPL3c/gpg.1.sh --keyserver keyserver.ubuntu.com --recv-keys DCC9EFBF77E11517\n",
            "gpg: key DCC9EFBF77E11517: \"Debian Stable Release Key (10/buster) <debian-release@lists.debian.org>\" not changed\n",
            "gpg: Total number processed: 1\n",
            "gpg:              unchanged: 1\n",
            "Executing: /tmp/apt-key-gpghome.kzcupb4aFx/gpg.1.sh --keyserver keyserver.ubuntu.com --recv-keys 648ACFD622F3D138\n",
            "gpg: key DC30D7C23CBBABEE: \"Debian Archive Automatic Signing Key (10/buster) <ftpmaster@debian.org>\" not changed\n",
            "gpg: Total number processed: 1\n",
            "gpg:              unchanged: 1\n",
            "Executing: /tmp/apt-key-gpghome.uCbt6oDiR0/gpg.1.sh --keyserver keyserver.ubuntu.com --recv-keys 112695A0E562B32A\n",
            "gpg: key 4DFAB270CAA96DFA: \"Debian Security Archive Automatic Signing Key (10/buster) <ftpmaster@debian.org>\" not changed\n",
            "gpg: Total number processed: 1\n",
            "gpg:              unchanged: 1\n",
            "gpg: cannot open '/dev/tty': No such device or address\n",
            "Warning: apt-key output should not be parsed (stdout is not a terminal)\n",
            "gpg: [stdout]: write error: Broken pipe\n",
            "gpg: filter_flush failed on close: Broken pipe\n",
            "gpg: cannot open '/dev/tty': No such device or address\n",
            "Warning: apt-key output should not be parsed (stdout is not a terminal)\n",
            "gpg: [stdout]: write error: Broken pipe\n",
            "gpg: filter_flush failed on close: Broken pipe\n",
            "gpg: cannot open '/dev/tty': No such device or address\n",
            "Warning: apt-key output should not be parsed (stdout is not a terminal)\n",
            "gpg: [stdout]: write error: Broken pipe\n",
            "gpg: filter_flush failed on close: Broken pipe\n",
            "Hit:1 http://deb.debian.org/debian buster InRelease\n",
            "Hit:2 http://deb.debian.org/debian buster-updates InRelease\n",
            "Hit:3 http://deb.debian.org/debian-security buster/updates InRelease\n",
            "Hit:4 https://developer.download.nvidia.com/compute/cuda/repos/ubuntu2004/x86_64  InRelease\n",
            "Hit:5 https://cloud.r-project.org/bin/linux/ubuntu focal-cran40/ InRelease\n",
            "Get:6 http://security.ubuntu.com/ubuntu focal-security InRelease [114 kB]\n",
            "Hit:7 http://ppa.launchpad.net/c2d4u.team/c2d4u4.0+/ubuntu focal InRelease\n",
            "Hit:8 http://archive.ubuntu.com/ubuntu focal InRelease\n",
            "Get:9 http://archive.ubuntu.com/ubuntu focal-updates InRelease [114 kB]\n",
            "Hit:10 http://ppa.launchpad.net/cran/libgit2/ubuntu focal InRelease\n",
            "Hit:11 http://ppa.launchpad.net/deadsnakes/ppa/ubuntu focal InRelease\n",
            "Get:12 http://archive.ubuntu.com/ubuntu focal-backports InRelease [108 kB]\n",
            "Hit:13 http://ppa.launchpad.net/graphics-drivers/ppa/ubuntu focal InRelease\n",
            "Hit:14 http://ppa.launchpad.net/ubuntugis/ppa/ubuntu focal InRelease\n",
            "Fetched 336 kB in 2s (174 kB/s)\n",
            "Reading package lists... Done\n",
            "Reading package lists... Done\n",
            "Building dependency tree       \n",
            "Reading state information... Done\n",
            "chromium is already the newest version (90.0.4430.212-1~deb10u1).\n",
            "chromium-driver is already the newest version (90.0.4430.212-1~deb10u1).\n",
            "0 upgraded, 0 newly installed, 0 to remove and 32 not upgraded.\n",
            "Looking in indexes: https://pypi.org/simple, https://us-python.pkg.dev/colab-wheels/public/simple/\n",
            "Requirement already satisfied: selenium in /usr/local/lib/python3.10/dist-packages (4.9.1)\n",
            "Requirement already satisfied: urllib3[socks]<3,>=1.26 in /usr/local/lib/python3.10/dist-packages (from selenium) (1.26.15)\n",
            "Requirement already satisfied: trio~=0.17 in /usr/local/lib/python3.10/dist-packages (from selenium) (0.22.0)\n",
            "Requirement already satisfied: trio-websocket~=0.9 in /usr/local/lib/python3.10/dist-packages (from selenium) (0.10.2)\n",
            "Requirement already satisfied: certifi>=2021.10.8 in /usr/local/lib/python3.10/dist-packages (from selenium) (2022.12.7)\n",
            "Requirement already satisfied: attrs>=19.2.0 in /usr/local/lib/python3.10/dist-packages (from trio~=0.17->selenium) (23.1.0)\n",
            "Requirement already satisfied: sortedcontainers in /usr/local/lib/python3.10/dist-packages (from trio~=0.17->selenium) (2.4.0)\n",
            "Requirement already satisfied: async-generator>=1.9 in /usr/local/lib/python3.10/dist-packages (from trio~=0.17->selenium) (1.10)\n",
            "Requirement already satisfied: idna in /usr/local/lib/python3.10/dist-packages (from trio~=0.17->selenium) (3.4)\n",
            "Requirement already satisfied: outcome in /usr/local/lib/python3.10/dist-packages (from trio~=0.17->selenium) (1.2.0)\n",
            "Requirement already satisfied: sniffio in /usr/local/lib/python3.10/dist-packages (from trio~=0.17->selenium) (1.3.0)\n",
            "Requirement already satisfied: exceptiongroup>=1.0.0rc9 in /usr/local/lib/python3.10/dist-packages (from trio~=0.17->selenium) (1.1.1)\n",
            "Requirement already satisfied: wsproto>=0.14 in /usr/local/lib/python3.10/dist-packages (from trio-websocket~=0.9->selenium) (1.2.0)\n",
            "Requirement already satisfied: PySocks!=1.5.7,<2.0,>=1.5.6 in /usr/local/lib/python3.10/dist-packages (from urllib3[socks]<3,>=1.26->selenium) (1.7.1)\n",
            "Requirement already satisfied: h11<1,>=0.9.0 in /usr/local/lib/python3.10/dist-packages (from wsproto>=0.14->trio-websocket~=0.9->selenium) (0.14.0)\n"
          ]
        },
        {
          "output_type": "execute_result",
          "data": {
            "text/plain": []
          },
          "metadata": {},
          "execution_count": 19
        }
      ],
      "source": [
        "%%shell\n",
        "# Ubuntu no longer distributes chromium-browser outside of snap\n",
        "#\n",
        "# Proposed solution: https://askubuntu.com/questions/1204571/how-to-install-chromium-without-snap\n",
        "\n",
        "# Add debian buster\n",
        "cat > /etc/apt/sources.list.d/debian.list <<'EOF'\n",
        "deb [arch=amd64 signed-by=/usr/share/keyrings/debian-buster.gpg] http://deb.debian.org/debian buster main\n",
        "deb [arch=amd64 signed-by=/usr/share/keyrings/debian-buster-updates.gpg] http://deb.debian.org/debian buster-updates main\n",
        "deb [arch=amd64 signed-by=/usr/share/keyrings/debian-security-buster.gpg] http://deb.debian.org/debian-security buster/updates main\n",
        "EOF\n",
        "\n",
        "# Add keys\n",
        "apt-key adv --keyserver keyserver.ubuntu.com --recv-keys DCC9EFBF77E11517\n",
        "apt-key adv --keyserver keyserver.ubuntu.com --recv-keys 648ACFD622F3D138\n",
        "apt-key adv --keyserver keyserver.ubuntu.com --recv-keys 112695A0E562B32A\n",
        "\n",
        "apt-key export 77E11517 | gpg --dearmour -o /usr/share/keyrings/debian-buster.gpg\n",
        "apt-key export 22F3D138 | gpg --dearmour -o /usr/share/keyrings/debian-buster-updates.gpg\n",
        "apt-key export E562B32A | gpg --dearmour -o /usr/share/keyrings/debian-security-buster.gpg\n",
        "\n",
        "# Prefer debian repo for chromium* packages only\n",
        "# Note the double-blank lines between entries\n",
        "cat > /etc/apt/preferences.d/chromium.pref << 'EOF'\n",
        "Package: *\n",
        "Pin: release a=eoan\n",
        "Pin-Priority: 500\n",
        "\n",
        "\n",
        "Package: *\n",
        "Pin: origin \"deb.debian.org\"\n",
        "Pin-Priority: 300\n",
        "\n",
        "\n",
        "Package: chromium*\n",
        "Pin: origin \"deb.debian.org\"\n",
        "Pin-Priority: 700\n",
        "EOF\n",
        "\n",
        "# Install chromium and chromium-driver\n",
        "apt-get update\n",
        "apt-get install chromium chromium-driver\n",
        "\n",
        "# Install selenium\n",
        "pip install selenium"
      ]
    },
    {
      "cell_type": "code",
      "execution_count": 20,
      "metadata": {
        "id": "vQmuzCB5mvNs"
      },
      "outputs": [],
      "source": [
        "#環境変数設定\n",
        "TARGET = 'アウトドア'\n",
        "TARGET_URL = 'https://shopping.yahoo.co.jp/category/2513/2522/list?sc_i=shp_pc_cateranking_rankingTab&b=1&view=grid'\n",
        "\n",
        "NUM_TO_FETCH = 200\n",
        "STORES_PER_PAGE = 30\n",
        "DRIVER_WAIT_TIME = 2\n",
        "SCROLL_PAUSE_TIME = 3\n",
        "MAX_SCROLL_ATTEMPTS = 5\n",
        "\n",
        "# 各種ファイル保存先\n",
        "ACCU_LIST_PATH = '/content/drive/MyDrive/Colab Notebooks/dev/web_scraping_yahoo/accumulated_list_yahoo_outdoor.csv'\n",
        "SUBMIT_FILE_PATH ='/content/drive/MyDrive/Colab Notebooks/dev/web_scraping_yahoo/result_list_yahoo_outdoor.xlsx'\n",
        "\n",
        "#取得データ格納先\n",
        "result_dict = { \n",
        "    '会社名(ストア情報)': [],\n",
        "    '住所(ストア情報)': [],\n",
        "    'ストア名(ストア情報)':[],\n",
        "    '運営責任者(問い合わせ情報)':[],\n",
        "    '住所(問い合わせ情報)':[],\n",
        "    '電話番号(問い合わせ情報)':[],\n",
        "    'メールアドレス(問い合わせ情報)':[],\n",
        "    'URL':[],\n",
        "}"
      ]
    },
    {
      "cell_type": "code",
      "execution_count": 21,
      "metadata": {
        "colab": {
          "base_uri": "https://localhost:8080/"
        },
        "id": "3wRg2k2QmvKz",
        "outputId": "0c24d6bc-2a73-49e6-f737-be2715daee14"
      },
      "outputs": [
        {
          "output_type": "stream",
          "name": "stdout",
          "text": [
            "Drive already mounted at /content/drive; to attempt to forcibly remount, call drive.mount(\"/content/drive\", force_remount=True).\n"
          ]
        }
      ],
      "source": [
        "#標準ライブラリ\n",
        "import os\n",
        "import math\n",
        "import json\n",
        "import re\n",
        "import time\n",
        "\n",
        "#サードパーティライブラリ\n",
        "import pandas as pd\n",
        "from google.colab import drive\n",
        "from selenium import webdriver\n",
        "from selenium.webdriver.common.by import By\n",
        "from selenium.webdriver.support.ui import WebDriverWait\n",
        "from selenium.webdriver.support import expected_conditions as EC\n",
        "from logging import (\n",
        "    getLogger, \n",
        "    StreamHandler, \n",
        "    DEBUG, \n",
        "    INFO, \n",
        "    Formatter, \n",
        "    config,\n",
        ")\n",
        "drive.mount('/content/drive')"
      ]
    },
    {
      "cell_type": "code",
      "execution_count": 22,
      "metadata": {
        "id": "ofivGvbMmvEQ"
      },
      "outputs": [],
      "source": [
        "#関数定義\n",
        "def add_store_url(elements, store_urls, store_names, count_skip):\n",
        "    skip_all = 0\n",
        "    for i, element in enumerate(elements, start = 0):\n",
        "        if i > 29:\n",
        "          break\n",
        "        store_name = element.text\n",
        "        store_url = element.get_attribute('href')\n",
        "        if store_name not in accu_set and store_name not in store_names:\n",
        "            store_urls.append(store_url)\n",
        "            store_names.append(store_name)\n",
        "        else:\n",
        "            count_skip += 1\n",
        "            skip_all += 1\n",
        "    return store_urls, store_names, count_skip, skip_all\n",
        "\n",
        "#スクロールしてページを更新\n",
        "def scroll_page(driver):\n",
        "    last_height = driver.execute_script(\"return document.body.scrollHeight\")\n",
        "    attempts = 0\n",
        "    while attempts < MAX_SCROLL_ATTEMPTS:\n",
        "        driver.execute_script(\"window.scrollTo(0, document.body.scrollHeight);\")\n",
        "        time.sleep(SCROLL_PAUSE_TIME)\n",
        "        new_height = driver.execute_script(\"return document.body.scrollHeight\")\n",
        "        if new_height == last_height:\n",
        "            break\n",
        "        last_height = new_height\n",
        "        attempts += 1\n",
        "\n",
        "def is_japanese_phone_number(phone_number):\n",
        "    # 固定電話のパターン\n",
        "    landline_pattern = r'^0\\d{1,4}-\\d{1,4}-\\d{3,4}$'\n",
        "    # 携帯電話のパターン\n",
        "    mobile_pattern = r'^0[789]0-\\d{4}-\\d{4}$'\n",
        "\n",
        "    return bool(re.match(landline_pattern, phone_number) or re.match(mobile_pattern, phone_number))"
      ]
    },
    {
      "cell_type": "code",
      "execution_count": 23,
      "metadata": {
        "id": "dw-mNE7nmu5D"
      },
      "outputs": [],
      "source": [
        "options = webdriver.ChromeOptions()\n",
        "options.add_argument('--no-sandbox')\n",
        "options.add_argument('--headless')\n",
        "options.add_argument('--disable-gpu')\n",
        "options.add_argument('--disable-dev-shm-usage')\n",
        "options.add_argument('--ignore-certificate-errors')\n",
        "options.add_argument(\"--disable-extensions\")\n",
        "options.add_argument(\"--disable-popup-blocking\")\n",
        "options.add_argument(\n",
        "       \"user-agent=Mozilla/5.0 (X11; Linux x86_64; rv:93.0) Gecko/20100101 Firefox/93.0\"\n",
        "    )\n",
        "options.add_experimental_option(\"prefs\", {\n",
        "    \"profile.managed_default_content_settings.images\": 2,  # 画像の無効化\n",
        "    \"profile.managed_default_content_settings.plugins\": 2,  # プラグインの無効化\n",
        "})\n",
        "\n",
        "driver = webdriver.Chrome('chromedriver', options=options)\n",
        "driver.implicitly_wait(DRIVER_WAIT_TIME)"
      ]
    },
    {
      "cell_type": "code",
      "execution_count": 24,
      "metadata": {
        "colab": {
          "base_uri": "https://localhost:8080/"
        },
        "id": "AVkknEHamule",
        "outputId": "e81237bb-b053-4319-d352-c87bd40768d8"
      },
      "outputs": [
        {
          "output_type": "stream",
          "name": "stdout",
          "text": [
            "2023-05-16 23:05:52,019 [DEBUG] main: アウトドア：トップページへ移動しました\n"
          ]
        }
      ],
      "source": [
        "#ロガーの設定\n",
        "with open('/content/drive/MyDrive/Colab Notebooks/dev/web_scraping_yahoo/logging_config.json', 'r') as f:\n",
        "    logger_config = json.load(f)\n",
        "config.dictConfig(logger_config)\n",
        "logger = getLogger('main')\n",
        "\n",
        "try:\n",
        "      driver.get(TARGET_URL)\n",
        "      logger.debug(f'{TARGET}：トップページへ移動しました')\n",
        "except Exception as e:\n",
        "      logger.error(f'{TARGET}：トップページへ移動出来ませんでした: [e]')\n",
        "      raise"
      ]
    },
    {
      "cell_type": "code",
      "execution_count": 25,
      "metadata": {
        "colab": {
          "base_uri": "https://localhost:8080/",
          "height": 1000
        },
        "id": "zrk9OljutNIQ",
        "outputId": "3c633a0e-f793-4da4-ae39-8aa6c59bb903"
      },
      "outputs": [
        {
          "output_type": "stream",
          "name": "stdout",
          "text": [
            "2023-05-16 23:06:17,041 [DEBUG] main: アウトドア：店舗リスト取得 (取得数:0, 重複数：30)\n",
            "2023-05-16 23:06:46,051 [DEBUG] main: アウトドア：店舗リスト取得 (取得数:0, 重複数：60)\n",
            "2023-05-16 23:07:25,325 [DEBUG] main: アウトドア：店舗リスト取得 (取得数:2, 重複数：88)\n",
            "2023-05-16 23:08:15,053 [DEBUG] main: アウトドア：店舗リスト取得 (取得数:2, 重複数：118)\n",
            "2023-05-16 23:08:19,237 [DEBUG] main: アウトドア：店舗リスト取得 (取得数:2, 重複数：148)\n",
            "2023-05-16 23:08:23,557 [DEBUG] main: アウトドア：店舗リスト取得 (取得数:2, 重複数：178)\n",
            "2023-05-16 23:08:27,834 [DEBUG] main: アウトドア：店舗リスト取得 (取得数:2, 重複数：208)\n",
            "2023-05-16 23:08:31,745 [DEBUG] main: アウトドア：店舗リスト取得 (取得数:2, 重複数：238)\n",
            "2023-05-16 23:08:35,652 [DEBUG] main: アウトドア：店舗リスト取得 (取得数:3, 重複数：267)\n",
            "2023-05-16 23:08:39,588 [DEBUG] main: アウトドア：店舗リスト取得 (取得数:3, 重複数：297)\n",
            "2023-05-16 23:08:43,995 [DEBUG] main: アウトドア：店舗リスト取得 (取得数:3, 重複数：327)\n",
            "2023-05-16 23:08:48,382 [DEBUG] main: アウトドア：店舗リスト取得 (取得数:3, 重複数：357)\n",
            "2023-05-16 23:08:52,744 [DEBUG] main: アウトドア：店舗リスト取得 (取得数:3, 重複数：387)\n",
            "2023-05-16 23:08:56,738 [DEBUG] main: アウトドア：店舗リスト取得 (取得数:3, 重複数：417)\n",
            "2023-05-16 23:09:00,737 [DEBUG] main: アウトドア：店舗リスト取得 (取得数:4, 重複数：446)\n",
            "2023-05-16 23:09:05,149 [DEBUG] main: アウトドア：店舗リスト取得 (取得数:4, 重複数：476)\n",
            "2023-05-16 23:09:09,586 [DEBUG] main: アウトドア：店舗リスト取得 (取得数:4, 重複数：506)\n",
            "2023-05-16 23:09:14,053 [DEBUG] main: アウトドア：店舗リスト取得 (取得数:4, 重複数：536)\n",
            "2023-05-16 23:09:18,297 [DEBUG] main: アウトドア：店舗リスト取得 (取得数:4, 重複数：566)\n",
            "2023-05-16 23:09:22,340 [DEBUG] main: アウトドア：店舗リスト取得 (取得数:4, 重複数：596)\n",
            "2023-05-16 23:09:26,817 [DEBUG] main: アウトドア：店舗リスト取得 (取得数:4, 重複数：626)\n",
            "2023-05-16 23:09:31,314 [DEBUG] main: アウトドア：店舗リスト取得 (取得数:4, 重複数：656)\n",
            "2023-05-16 23:09:35,851 [DEBUG] main: アウトドア：店舗リスト取得 (取得数:4, 重複数：686)\n",
            "2023-05-16 23:09:39,943 [DEBUG] main: アウトドア：店舗リスト取得 (取得数:5, 重複数：715)\n",
            "2023-05-16 23:09:44,046 [DEBUG] main: アウトドア：店舗リスト取得 (取得数:6, 重複数：744)\n",
            "2023-05-16 23:09:47,754 [DEBUG] main: アウトドア：店舗リスト取得 (取得数:7, 重複数：760)\n",
            "2023-05-16 23:10:17,136 [DEBUG] main: アウトドア：次の店舗一覧ページへ遷移しました)\n",
            "https://shopping.yahoo.co.jp/category/2513/2522/list?sc_i=shp_pc_cateranking_rankingTab&prom=1&b=631&view=grid\n",
            "2023-05-16 23:10:19,149 [DEBUG] main: アウトドア：店舗リスト取得 (取得数:7, 重複数：790)\n",
            "2023-05-16 23:10:45,530 [DEBUG] main: アウトドア：店舗リスト取得 (取得数:7, 重複数：820)\n",
            "2023-05-16 23:11:21,706 [DEBUG] main: アウトドア：店舗リスト取得 (取得数:7, 重複数：850)\n",
            "2023-05-16 23:11:31,593 [DEBUG] main: アウトドア：店舗リスト取得 (取得数:9, 重複数：878)\n",
            "2023-05-16 23:12:00,460 [DEBUG] main: アウトドア：店舗リスト取得 (取得数:10, 重複数：907)\n",
            "2023-05-16 23:12:09,577 [DEBUG] main: アウトドア：店舗リスト取得 (取得数:11, 重複数：936)\n",
            "2023-05-16 23:12:13,914 [DEBUG] main: アウトドア：店舗リスト取得 (取得数:12, 重複数：965)\n",
            "2023-05-16 23:12:18,537 [DEBUG] main: アウトドア：店舗リスト取得 (取得数:12, 重複数：995)\n"
          ]
        },
        {
          "output_type": "error",
          "ename": "KeyboardInterrupt",
          "evalue": "ignored",
          "traceback": [
            "\u001b[0;31m---------------------------------------------------------------------------\u001b[0m",
            "\u001b[0;31mKeyboardInterrupt\u001b[0m                         Traceback (most recent call last)",
            "\u001b[0;32m<ipython-input-25-2c0e89ab4fdf>\u001b[0m in \u001b[0;36m<cell line: 16>\u001b[0;34m()\u001b[0m\n\u001b[1;32m     22\u001b[0m   \u001b[0;32mwhile\u001b[0m \u001b[0mlen\u001b[0m\u001b[0;34m(\u001b[0m\u001b[0mstore_urls\u001b[0m\u001b[0;34m)\u001b[0m \u001b[0;34m<\u001b[0m \u001b[0mNUM_TO_FETCH\u001b[0m \u001b[0;32mor\u001b[0m \u001b[0mskip_all_count\u001b[0m \u001b[0;34m==\u001b[0m \u001b[0;36m5\u001b[0m\u001b[0;34m:\u001b[0m\u001b[0;34m\u001b[0m\u001b[0;34m\u001b[0m\u001b[0m\n\u001b[1;32m     23\u001b[0m     \u001b[0mstart\u001b[0m \u001b[0;34m=\u001b[0m \u001b[0;36m30\u001b[0m \u001b[0;34m*\u001b[0m \u001b[0mcount\u001b[0m \u001b[0;32mif\u001b[0m \u001b[0mcount\u001b[0m \u001b[0;34m!=\u001b[0m \u001b[0;36m0\u001b[0m \u001b[0;32melse\u001b[0m \u001b[0;36m0\u001b[0m\u001b[0;34m\u001b[0m\u001b[0;34m\u001b[0m\u001b[0m\n\u001b[0;32m---> 24\u001b[0;31m     \u001b[0mscroll_page\u001b[0m\u001b[0;34m(\u001b[0m\u001b[0mdriver\u001b[0m\u001b[0;34m)\u001b[0m\u001b[0;34m\u001b[0m\u001b[0;34m\u001b[0m\u001b[0m\n\u001b[0m\u001b[1;32m     25\u001b[0m     \u001b[0mdiv_elements\u001b[0m \u001b[0;34m=\u001b[0m \u001b[0mdriver\u001b[0m\u001b[0;34m.\u001b[0m\u001b[0mfind_elements\u001b[0m\u001b[0;34m(\u001b[0m\u001b[0mBy\u001b[0m\u001b[0;34m.\u001b[0m\u001b[0mCSS_SELECTOR\u001b[0m\u001b[0;34m,\u001b[0m\u001b[0;34m\".SearchResult_SearchResult__storeRow__tXYSC a\"\u001b[0m\u001b[0;34m)\u001b[0m\u001b[0;34m\u001b[0m\u001b[0;34m\u001b[0m\u001b[0m\n\u001b[1;32m     26\u001b[0m     \u001b[0mdiv_elements\u001b[0m \u001b[0;34m=\u001b[0m \u001b[0mdiv_elements\u001b[0m\u001b[0;34m[\u001b[0m\u001b[0mstart\u001b[0m\u001b[0;34m:\u001b[0m\u001b[0;34m]\u001b[0m\u001b[0;34m\u001b[0m\u001b[0;34m\u001b[0m\u001b[0m\n",
            "\u001b[0;32m<ipython-input-22-d80a81ed1758>\u001b[0m in \u001b[0;36mscroll_page\u001b[0;34m(driver)\u001b[0m\n\u001b[1;32m     21\u001b[0m     \u001b[0;32mwhile\u001b[0m \u001b[0mattempts\u001b[0m \u001b[0;34m<\u001b[0m \u001b[0mMAX_SCROLL_ATTEMPTS\u001b[0m\u001b[0;34m:\u001b[0m\u001b[0;34m\u001b[0m\u001b[0;34m\u001b[0m\u001b[0m\n\u001b[1;32m     22\u001b[0m         \u001b[0mdriver\u001b[0m\u001b[0;34m.\u001b[0m\u001b[0mexecute_script\u001b[0m\u001b[0;34m(\u001b[0m\u001b[0;34m\"window.scrollTo(0, document.body.scrollHeight);\"\u001b[0m\u001b[0;34m)\u001b[0m\u001b[0;34m\u001b[0m\u001b[0;34m\u001b[0m\u001b[0m\n\u001b[0;32m---> 23\u001b[0;31m         \u001b[0mtime\u001b[0m\u001b[0;34m.\u001b[0m\u001b[0msleep\u001b[0m\u001b[0;34m(\u001b[0m\u001b[0mSCROLL_PAUSE_TIME\u001b[0m\u001b[0;34m)\u001b[0m\u001b[0;34m\u001b[0m\u001b[0;34m\u001b[0m\u001b[0m\n\u001b[0m\u001b[1;32m     24\u001b[0m         \u001b[0mnew_height\u001b[0m \u001b[0;34m=\u001b[0m \u001b[0mdriver\u001b[0m\u001b[0;34m.\u001b[0m\u001b[0mexecute_script\u001b[0m\u001b[0;34m(\u001b[0m\u001b[0;34m\"return document.body.scrollHeight\"\u001b[0m\u001b[0;34m)\u001b[0m\u001b[0;34m\u001b[0m\u001b[0;34m\u001b[0m\u001b[0m\n\u001b[1;32m     25\u001b[0m         \u001b[0;32mif\u001b[0m \u001b[0mnew_height\u001b[0m \u001b[0;34m==\u001b[0m \u001b[0mlast_height\u001b[0m\u001b[0;34m:\u001b[0m\u001b[0;34m\u001b[0m\u001b[0;34m\u001b[0m\u001b[0m\n",
            "\u001b[0;31mKeyboardInterrupt\u001b[0m: "
          ]
        }
      ],
      "source": [
        "#店舗リストの全ページ数を導出\n",
        "p_element = driver.find_element(By.CSS_SELECTOR,\".SearchResultsDisplayOptions_SearchResultsDisplayOptions__count__WBsPf\")\n",
        "num_all_stores = int(p_element.text.replace(',','')[:-1])\n",
        "num_all_pages = math.ceil(num_all_stores / STORES_PER_PAGE)\n",
        "\n",
        "\n",
        "#積み上げリストから既存取得の店舗URLを抽出\n",
        "try:\n",
        "  df_accu = pd.read_csv(ACCU_LIST_PATH, usecols=[2])\n",
        "  accu_list = df_accu.iloc[:, 0].values.tolist()\n",
        "  accu_set = set(accu_list)\n",
        "except FileNotFoundError:\n",
        "  accu_set = set()\n",
        "\n",
        "# 目標件数を満たすまでstore_urlを取得\n",
        "try:\n",
        "  store_urls = []\n",
        "  store_names = []\n",
        "  count = 0\n",
        "  count_skip = 0\n",
        "  skip_all_count = 0\n",
        "  while len(store_urls) < NUM_TO_FETCH or skip_all_count < 5:\n",
        "    start = 30 * count if count != 0 else 0\n",
        "    scroll_page(driver)\n",
        "    div_elements = driver.find_elements(By.CSS_SELECTOR,\".SearchResult_SearchResult__storeRow__tXYSC a\")\n",
        "    div_elements = div_elements[start:]\n",
        "    #ページ末尾までクロールが終了した場合、次のページへ遷移\n",
        "    if len(div_elements) == 0:\n",
        "      try:\n",
        "        page_elements = driver.find_elements(By.CSS_SELECTOR, \".Pager_Pager__lbzCH\")\n",
        "        page_element = page_elements[-1]\n",
        "        a_element = page_element.find_element(By.CSS_SELECTOR, \"div:nth-child(3) a\")\n",
        "        page_url = a_element.get_attribute('href')\n",
        "        driver.get(page_url)\n",
        "        scroll_page(driver)\n",
        "        count = 0\n",
        "        start = 0\n",
        "        div_elements = driver.find_elements(By.CSS_SELECTOR,\".SearchResult_SearchResult__storeRow__tXYSC a\")\n",
        "        div_elements = div_elements[start:]\n",
        "        logger.debug(f'{TARGET}：次の店舗一覧ページへ遷移しました)')\n",
        "        print(page_url)\n",
        "      except:\n",
        "        logger.debug(f'{TARGET}：次の店舗一覧ページへ遷移出来ませんでした)')\n",
        "    store_urls, store_names, count_skip, skip_all = add_store_url(div_elements, store_urls, store_names, count_skip)\n",
        "    logger.debug(f'{TARGET}：店舗リスト取得 (取得数:{len(store_urls)}, 重複数：{count_skip})')\n",
        "    count += 1\n",
        "    if skip_all == 30:\n",
        "      skip_all_count += 1\n",
        "except  Exception as e:\n",
        "  logger.error(f'{TARGET}：店舗リストへ移動出来ませんでした: [e]')\n",
        "  raise\n",
        "\n",
        "logger.info(f'{TARGET}：店舗URL取得完了:{len(store_urls)}個')  \n",
        "print(store_urls)\n",
        "print(store_names)"
      ]
    },
    {
      "cell_type": "code",
      "execution_count": null,
      "metadata": {
        "id": "6tepBpPEuZd-"
      },
      "outputs": [],
      "source": [
        "page_num = 0\n",
        "#店舗個別ページにて情報取得\n",
        "for store_url in store_urls:   \n",
        "    name_store = \"-\"\n",
        "    address_store = \"-\"\n",
        "    store_store = \"-\"\n",
        "    name_contact = \"-\"\n",
        "    address_contact = \"-\"\n",
        "    tel_contact = \"-\"\n",
        "    mail_contact = \"-\"\n",
        "    try:\n",
        "        driver.get(store_url)\n",
        "        page_num += 1\n",
        "        store_store = store_names[page_num - 1]\n",
        "        logger.debug(f'{TARGET}：店舗ページ{page_num}へ移動しました')\n",
        "\n",
        "        #店舗情報ページURLを取得\n",
        "        info_urls = driver.find_elements(By.CSS_SELECTOR,\".elInfoItemLink\")\n",
        "        if not info_urls:\n",
        "          info_urls = driver.find_elements(By.CSS_SELECTOR,\".styles_infoItemLink__m2ij_\")\n",
        "        info_url = info_urls[0].get_attribute('href')\n",
        "        print(info_url)\n",
        "        driver.get(info_url)\n",
        "        logger.debug(f'{TARGET}：店舗情報ページ{page_num}へ移動しました')\n",
        "        name_store = driver.find_element(By.CSS_SELECTOR, \".elSectionContent .elRow:nth-child(1) .elRowContent .elRowContentText\").text\n",
        "        address_store = driver.find_element(By.CSS_SELECTOR, \".elSectionContent .elRow:nth-child(3) .elRowContent .elRowContentText\").text\n",
        "        div_elements =  driver.find_elements(By.CSS_SELECTOR, \".mdInformationTable\")\n",
        "        div_element = div_elements[1]\n",
        "        name_contact = div_element.find_element(By.CSS_SELECTOR, \".elRows .elRow:nth-child(1) .elRowContentText\").text\n",
        "        address_contact = div_element.find_element(By.CSS_SELECTOR, \".elRows .elRow:nth-child(3) .elRowContentText\").text\n",
        "        tel_contact = div_element.find_element(By.CSS_SELECTOR, \".elRows .elRow:nth-child(4) .elRowContentText\").text\n",
        "        mail_contact = div_element.find_element(By.CSS_SELECTOR, \".elRows .elRow:nth-child(5) .elRowContentText\").text\n",
        "        if is_japanese_phone_number(mail_contact):\n",
        "          mail_contact = div_element.find_element(By.CSS_SELECTOR, \".elRows .elRow:nth-child(6) .elRowContentText\").text\n",
        "    except Exception as e:\n",
        "        logger.error(f'{TARGET}：会社概要ページがありませんでした。: [{store_store, store_url}]')\n",
        "    finally:\n",
        "      result_dict['会社名(ストア情報)'].append(name_store)\n",
        "      result_dict['住所(ストア情報)'].append(address_store)\n",
        "      result_dict['ストア名(ストア情報)'].append(store_store)\n",
        "      result_dict['運営責任者(問い合わせ情報)'].append(name_contact)\n",
        "      result_dict['住所(問い合わせ情報)'].append(address_contact)\n",
        "      result_dict['電話番号(問い合わせ情報)'].append(tel_contact)\n",
        "      result_dict['メールアドレス(問い合わせ情報)'].append(mail_contact)\n",
        "      result_dict['URL'].append(store_url)\n",
        "\n",
        "df_result = pd.DataFrame(result_dict)\n",
        "df_result"
      ]
    },
    {
      "cell_type": "code",
      "execution_count": null,
      "metadata": {
        "id": "R_dbbkpcvb0b"
      },
      "outputs": [],
      "source": [
        "# 提出ファイル用出力\n",
        "if not os.path.isfile(SUBMIT_FILE_PATH):\n",
        "    df_result.to_excel(SUBMIT_FILE_PATH, header=True, index=False)\n",
        "else:\n",
        "  with pd.ExcelWriter(SUBMIT_FILE_PATH, mode='a', if_sheet_exists='new') as writer:\n",
        "    df_result.to_excel(writer)\n",
        "\n",
        "# 積み上げリスト保存用出力\n",
        "df_result.to_csv(ACCU_LIST_PATH, mode='a', header=True, index=False)"
      ]
    },
    {
      "cell_type": "code",
      "execution_count": null,
      "metadata": {
        "id": "MQTPApCgvd0x"
      },
      "outputs": [],
      "source": [
        "# 積み上げリスト確認\n",
        "df_accu = pd.read_csv(ACCU_LIST_PATH)\n",
        "df_accu"
      ]
    },
    {
      "cell_type": "code",
      "execution_count": null,
      "metadata": {
        "id": "qcf6nXrryt_c"
      },
      "outputs": [],
      "source": [
        "\n"
      ]
    }
  ],
  "metadata": {
    "colab": {
      "provenance": [],
      "include_colab_link": true
    },
    "kernelspec": {
      "display_name": "Python 3",
      "name": "python3"
    },
    "language_info": {
      "name": "python"
    }
  },
  "nbformat": 4,
  "nbformat_minor": 0
}