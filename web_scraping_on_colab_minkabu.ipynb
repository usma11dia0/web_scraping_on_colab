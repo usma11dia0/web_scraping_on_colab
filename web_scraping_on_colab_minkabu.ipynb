{
  "nbformat": 4,
  "nbformat_minor": 0,
  "metadata": {
    "colab": {
      "provenance": [],
      "include_colab_link": true
    },
    "kernelspec": {
      "name": "python3",
      "display_name": "Python 3"
    },
    "language_info": {
      "name": "python"
    }
  },
  "cells": [
    {
      "cell_type": "markdown",
      "metadata": {
        "id": "view-in-github",
        "colab_type": "text"
      },
      "source": [
        "<a href=\"https://colab.research.google.com/github/usma11dia0/web_scraping_on_colab/blob/main/web_scraping_on_colab_minkabu.ipynb\" target=\"_parent\"><img src=\"https://colab.research.google.com/assets/colab-badge.svg\" alt=\"Open In Colab\"/></a>"
      ]
    },
    {
      "cell_type": "code",
      "source": [
        "from google.colab import drive\n",
        "drive.mount('/content/drive')"
      ],
      "metadata": {
        "id": "8ojCDuOAyb1e",
        "colab": {
          "base_uri": "https://localhost:8080/"
        },
        "outputId": "f891bc0e-1731-4d87-c256-4f0e665fe88e"
      },
      "execution_count": 1,
      "outputs": [
        {
          "output_type": "stream",
          "name": "stdout",
          "text": [
            "Mounted at /content/drive\n"
          ]
        }
      ]
    },
    {
      "cell_type": "code",
      "source": [
        "# GoogleColab上にあるデフォルトパッケージの依存関係を整理\n",
        "import pkg_resources\n",
        "import importlib\n",
        "\n",
        "importlib.reload(pkg_resources)"
      ],
      "metadata": {
        "colab": {
          "base_uri": "https://localhost:8080/"
        },
        "id": "Shk7Vqtz7IMC",
        "outputId": "e76c72c0-c299-49d4-ce8f-6b92469d52c4"
      },
      "execution_count": 2,
      "outputs": [
        {
          "output_type": "execute_result",
          "data": {
            "text/plain": [
              "<module 'pkg_resources' from '/usr/local/lib/python3.10/dist-packages/pkg_resources/__init__.py'>"
            ]
          },
          "metadata": {},
          "execution_count": 2
        }
      ]
    },
    {
      "cell_type": "code",
      "source": [
        "# 環境構築 (スクレイピング)\n",
        "%pip install -q google-colab-selenium\n",
        "\n",
        "# 環境構築 (形態素解析)\n",
        "import numpy\n",
        "!pip install ginza==5.1.3 ja_ginza_electra==5.1.3 https://github.com/megagonlabs/ginza/releases/download/v5.1.3/ja_ginza_electra-5.1.3-with-model.tar.gz\n",
        "!pip install \"spacy>=3.2.0,<3.7.0\"\n",
        "!pip install \"spacy[cuda117]\"\n",
        "!pip install fastapi==0.109.2 kaleido==0.2.1 python-multipart==0.0.9 uvicorn==0.27.1\n",
        "!pip install japanize-matplotlib==1.1.3\n",
        "!pip install pyvis==0.3.2\n"
      ],
      "metadata": {
        "id": "Jnl1ReNfmfd5",
        "colab": {
          "base_uri": "https://localhost:8080/"
        },
        "outputId": "d22d317e-0503-4351-f060-2a81b7eb5346"
      },
      "execution_count": null,
      "outputs": [
        {
          "output_type": "stream",
          "name": "stdout",
          "text": [
            "\u001b[?25l     \u001b[90m━━━━━━━━━━━━━━━━━━━━━━━━━━━━━━━━━━━━━━━━\u001b[0m \u001b[32m0.0/9.9 MB\u001b[0m \u001b[31m?\u001b[0m eta \u001b[36m-:--:--\u001b[0m\r\u001b[2K     \u001b[91m╸\u001b[0m\u001b[90m━━━━━━━━━━━━━━━━━━━━━━━━━━━━━━━━━━━━━━━\u001b[0m \u001b[32m0.2/9.9 MB\u001b[0m \u001b[31m5.7 MB/s\u001b[0m eta \u001b[36m0:00:02\u001b[0m\r\u001b[2K     \u001b[91m━━\u001b[0m\u001b[90m╺\u001b[0m\u001b[90m━━━━━━━━━━━━━━━━━━━━━━━━━━━━━━━━━━━━━\u001b[0m \u001b[32m0.6/9.9 MB\u001b[0m \u001b[31m8.6 MB/s\u001b[0m eta \u001b[36m0:00:02\u001b[0m\r\u001b[2K     \u001b[91m━━━━\u001b[0m\u001b[90m╺\u001b[0m\u001b[90m━━━━━━━━━━━━━━━━━━━━━━━━━━━━━━━━━━━\u001b[0m \u001b[32m1.1/9.9 MB\u001b[0m \u001b[31m10.0 MB/s\u001b[0m eta \u001b[36m0:00:01\u001b[0m\r\u001b[2K     \u001b[91m━━━━━━\u001b[0m\u001b[90m╺\u001b[0m\u001b[90m━━━━━━━━━━━━━━━━━━━━━━━━━━━━━━━━━\u001b[0m \u001b[32m1.6/9.9 MB\u001b[0m \u001b[31m11.3 MB/s\u001b[0m eta \u001b[36m0:00:01\u001b[0m\r\u001b[2K     \u001b[91m━━━━━━━━\u001b[0m\u001b[91m╸\u001b[0m\u001b[90m━━━━━━━━━━━━━━━━━━━━━━━━━━━━━━━\u001b[0m \u001b[32m2.2/9.9 MB\u001b[0m \u001b[31m12.3 MB/s\u001b[0m eta \u001b[36m0:00:01\u001b[0m\r\u001b[2K     \u001b[91m━━━━━━━━━━━\u001b[0m\u001b[91m╸\u001b[0m\u001b[90m━━━━━━━━━━━━━━━━━━━━━━━━━━━━\u001b[0m \u001b[32m2.9/9.9 MB\u001b[0m \u001b[31m13.5 MB/s\u001b[0m eta \u001b[36m0:00:01\u001b[0m\r\u001b[2K     \u001b[91m━━━━━━━━━━━━━━\u001b[0m\u001b[91m╸\u001b[0m\u001b[90m━━━━━━━━━━━━━━━━━━━━━━━━━\u001b[0m \u001b[32m3.7/9.9 MB\u001b[0m \u001b[31m14.8 MB/s\u001b[0m eta \u001b[36m0:00:01\u001b[0m"
          ]
        }
      ]
    },
    {
      "cell_type": "code",
      "source": [
        "# python検索パスを追加\n",
        "import sys\n",
        "\n",
        "# 追加したいパス\n",
        "paths_to_add = [\n",
        "    '/content/drive/MyDrive/Colab Notebooks/dev/web_scraping_crownstrategy/financial_service_agency/'\n",
        "]\n",
        "\n",
        "for path in paths_to_add:\n",
        "    if path not in sys.path:\n",
        "        sys.path.append(path)"
      ],
      "metadata": {
        "id": "LUWWWP7hj9h8"
      },
      "execution_count": 4,
      "outputs": []
    },
    {
      "cell_type": "code",
      "source": [
        "#環境依存値設定\n",
        "import os\n",
        "os.environ['ENV'] = 'local'\n",
        "os.environ['TARGET'] = 'みんかぶ'\n",
        "os.environ['COMPANY'] = 'さくらインターネット'\n",
        "\n",
        "print(sys.path)"
      ],
      "metadata": {
        "id": "NKeZVa513Swx",
        "colab": {
          "base_uri": "https://localhost:8080/"
        },
        "outputId": "f609381b-ecba-4ac6-841e-7d854a37c05b"
      },
      "execution_count": 5,
      "outputs": [
        {
          "output_type": "stream",
          "name": "stdout",
          "text": [
            "['/content', '/env/python', '/usr/lib/python310.zip', '/usr/lib/python3.10', '/usr/lib/python3.10/lib-dynload', '', '/usr/local/lib/python3.10/dist-packages', '/usr/lib/python3/dist-packages', '/usr/local/lib/python3.10/dist-packages/IPython/extensions', '/root/.ipython', '/content/drive/MyDrive/Colab Notebooks/dev/web_scraping_crownstrategy/financial_service_agency/']\n"
          ]
        }
      ]
    },
    {
      "cell_type": "code",
      "source": [
        "#標準ライブラリ\n",
        "import os\n",
        "import math\n",
        "import json\n",
        "import re\n",
        "import time\n",
        "from datetime import datetime\n",
        "\n",
        "#内部ライブラリ\n",
        "from path_config import WORKING_DIR\n",
        "from env.get_env import APP_ENV\n",
        "from config.get_config import APP_CONFIG\n",
        "from utils.scraping_functions import scroll_page\n",
        "from utils.nlp_utils import extract_trend_comment, classify_trend_word\n",
        "\n",
        "#サードパーティライブラリ\n",
        "import spacy\n",
        "import pandas as pd\n",
        "import google_colab_selenium as gs\n",
        "from selenium.webdriver.chrome.options import Options\n",
        "from selenium.webdriver.common.by import By\n",
        "from logging import (\n",
        "    getLogger,\n",
        "    StreamHandler,\n",
        "    DEBUG,\n",
        "    INFO,\n",
        "    Formatter,\n",
        "    config\n",
        ")"
      ],
      "metadata": {
        "id": "_GPPCAzOj-mG"
      },
      "execution_count": 6,
      "outputs": []
    },
    {
      "cell_type": "code",
      "source": [
        "#環境値読み込み\n",
        "TARGET_URL = APP_CONFIG['URL'][os.environ['TARGET']]\n",
        "\n",
        "# 一時対応\n",
        "STOCK_URL = TARGET_URL + '/stock/3778/pick'\n",
        "\n",
        "SAVE_FILE_NAME =  APP_CONFIG['SAVE_FILE_NAME'][os.environ['TARGET']]\n",
        "DRIVER_WAIT_TIME = APP_CONFIG['DRIVER_WAIT_TIME']\n",
        "MAX_SCROLL_ATTEMPTS = APP_CONFIG['MAX_SCROLL_ATTEMPTS']\n",
        "SCROLL_PAUSE_TIME = APP_CONFIG['SCROLL_PAUSE_TIME']\n",
        "result_dict = APP_CONFIG['RESULT_DICT']\n",
        "\n",
        "#環境依存値読み込み\n",
        "SUBMIT_FILE_PATH = APP_ENV['SUBMIT_FILE_PATH']"
      ],
      "metadata": {
        "id": "vnDanRiB3AFa"
      },
      "execution_count": 7,
      "outputs": []
    },
    {
      "cell_type": "code",
      "source": [
        "# driver設定\n",
        "options = Options()\n",
        "options.add_argument('--no-sandbox')\n",
        "options.add_argument('--headless')\n",
        "options.add_argument('--disable-gpu')\n",
        "options.add_argument('--disable-dev-shm-usage')\n",
        "options.add_argument('--ignore-certificate-errors')\n",
        "options.add_argument(\"--disable-extensions\")\n",
        "options.add_argument(\"--disable-popup-blocking\")\n",
        "options.add_argument(\n",
        "       \"user-agent=Mozilla/5.0 (X11; Linux x86_64; rv:93.0) Gecko/20100101 Firefox/93.0\"\n",
        "    )\n",
        "options.add_experimental_option(\"prefs\", {\n",
        "    \"profile.managed_default_content_settings.images\": 2,  # 画像の無効化\n",
        "})\n",
        "\n",
        "driver = gs.Chrome(options=options)\n",
        "driver.implicitly_wait(DRIVER_WAIT_TIME)"
      ],
      "metadata": {
        "id": "57b1d-X0D-iN",
        "colab": {
          "base_uri": "https://localhost:8080/",
          "height": 80
        },
        "outputId": "8f72d884-afc9-4e94-cff4-ffb0dc10db61"
      },
      "execution_count": 8,
      "outputs": [
        {
          "output_type": "display_data",
          "data": {
            "text/plain": [
              "<IPython.core.display.HTML object>"
            ],
            "text/html": [
              "\n",
              "            <div class=\"spinner-container\">\n",
              "                <div class=\"spinner\" id=\"6cc315ee-3bca-43f5-bef4-1cfcae3f3875-circle\"></div>\n",
              "                <div class=\"spinner-text\" id=\"6cc315ee-3bca-43f5-bef4-1cfcae3f3875-text\">Updating and upgrading APT</div>\n",
              "            </div>\n",
              "            <style>\n",
              "                @keyframes spin {\n",
              "                    from { transform: rotate(0deg); }\n",
              "                    to { transform: rotate(360deg); }\n",
              "                }\n",
              "\n",
              "                .spinner-container {\n",
              "                    display: flex;\n",
              "                    align-items: center;\n",
              "                    margin-bottom: 3px;\n",
              "                }\n",
              "\n",
              "                .spinner {\n",
              "                    border: 3px solid rgba(0, 0, 0, 0.1);\n",
              "                    border-left-color: lightblue;\n",
              "                    border-radius: 50%;\n",
              "                    width: 12px;\n",
              "                    height: 12px;\n",
              "                    animation: spin 1s linear infinite;\n",
              "                }\n",
              "\n",
              "                .spinner-text {\n",
              "                    padding-left: 6px;\n",
              "                }\n",
              "            </style>\n",
              "        "
            ]
          },
          "metadata": {}
        },
        {
          "output_type": "display_data",
          "data": {
            "text/plain": [
              "<IPython.core.display.Javascript object>"
            ],
            "application/javascript": [
              "\n",
              "            const element = document.getElementById(\"6cc315ee-3bca-43f5-bef4-1cfcae3f3875-circle\");\n",
              "            element.style.border = \"3px solid limegreen\";\n",
              "            element.style.animation = \"none\";\n",
              "\n",
              "            const text = document.getElementById(\"6cc315ee-3bca-43f5-bef4-1cfcae3f3875-text\");\n",
              "            text.innerText = \"Updated and upgraded APT\";\n",
              "        "
            ]
          },
          "metadata": {}
        },
        {
          "output_type": "display_data",
          "data": {
            "text/plain": [
              "<IPython.core.display.HTML object>"
            ],
            "text/html": [
              "\n",
              "            <div class=\"spinner-container\">\n",
              "                <div class=\"spinner\" id=\"2dbe580e-3636-4f15-960d-132c3fb81723-circle\"></div>\n",
              "                <div class=\"spinner-text\" id=\"2dbe580e-3636-4f15-960d-132c3fb81723-text\">Downloading Google Chrome</div>\n",
              "            </div>\n",
              "            <style>\n",
              "                @keyframes spin {\n",
              "                    from { transform: rotate(0deg); }\n",
              "                    to { transform: rotate(360deg); }\n",
              "                }\n",
              "\n",
              "                .spinner-container {\n",
              "                    display: flex;\n",
              "                    align-items: center;\n",
              "                    margin-bottom: 3px;\n",
              "                }\n",
              "\n",
              "                .spinner {\n",
              "                    border: 3px solid rgba(0, 0, 0, 0.1);\n",
              "                    border-left-color: lightblue;\n",
              "                    border-radius: 50%;\n",
              "                    width: 12px;\n",
              "                    height: 12px;\n",
              "                    animation: spin 1s linear infinite;\n",
              "                }\n",
              "\n",
              "                .spinner-text {\n",
              "                    padding-left: 6px;\n",
              "                }\n",
              "            </style>\n",
              "        "
            ]
          },
          "metadata": {}
        },
        {
          "output_type": "display_data",
          "data": {
            "text/plain": [
              "<IPython.core.display.Javascript object>"
            ],
            "application/javascript": [
              "\n",
              "            const element = document.getElementById(\"2dbe580e-3636-4f15-960d-132c3fb81723-circle\");\n",
              "            element.style.border = \"3px solid limegreen\";\n",
              "            element.style.animation = \"none\";\n",
              "\n",
              "            const text = document.getElementById(\"2dbe580e-3636-4f15-960d-132c3fb81723-text\");\n",
              "            text.innerText = \"Downloaded Google Chrome\";\n",
              "        "
            ]
          },
          "metadata": {}
        },
        {
          "output_type": "display_data",
          "data": {
            "text/plain": [
              "<IPython.core.display.HTML object>"
            ],
            "text/html": [
              "\n",
              "            <div class=\"spinner-container\">\n",
              "                <div class=\"spinner\" id=\"5e02a067-d301-4934-b556-71d0f7533685-circle\"></div>\n",
              "                <div class=\"spinner-text\" id=\"5e02a067-d301-4934-b556-71d0f7533685-text\">Initializing Chromedriver</div>\n",
              "            </div>\n",
              "            <style>\n",
              "                @keyframes spin {\n",
              "                    from { transform: rotate(0deg); }\n",
              "                    to { transform: rotate(360deg); }\n",
              "                }\n",
              "\n",
              "                .spinner-container {\n",
              "                    display: flex;\n",
              "                    align-items: center;\n",
              "                    margin-bottom: 3px;\n",
              "                }\n",
              "\n",
              "                .spinner {\n",
              "                    border: 3px solid rgba(0, 0, 0, 0.1);\n",
              "                    border-left-color: lightblue;\n",
              "                    border-radius: 50%;\n",
              "                    width: 12px;\n",
              "                    height: 12px;\n",
              "                    animation: spin 1s linear infinite;\n",
              "                }\n",
              "\n",
              "                .spinner-text {\n",
              "                    padding-left: 6px;\n",
              "                }\n",
              "            </style>\n",
              "        "
            ]
          },
          "metadata": {}
        },
        {
          "output_type": "display_data",
          "data": {
            "text/plain": [
              "<IPython.core.display.Javascript object>"
            ],
            "application/javascript": [
              "\n",
              "            const element = document.getElementById(\"5e02a067-d301-4934-b556-71d0f7533685-circle\");\n",
              "            element.style.border = \"3px solid limegreen\";\n",
              "            element.style.animation = \"none\";\n",
              "\n",
              "            const text = document.getElementById(\"5e02a067-d301-4934-b556-71d0f7533685-text\");\n",
              "            text.innerText = \"Initialized Chromedriver\";\n",
              "        "
            ]
          },
          "metadata": {}
        }
      ]
    },
    {
      "cell_type": "code",
      "source": [
        "#カスタムロガーの設定\n",
        "with open('/content/drive/MyDrive/Colab Notebooks/dev/web_scraping_crownstrategy/logging_config.json', 'r') as f:\n",
        "    logger_config = json.load(f)\n",
        "config.dictConfig(logger_config)\n",
        "logger = getLogger('main')\n",
        "\n",
        "try:\n",
        "      driver.get(STOCK_URL)\n",
        "      logger.debug(f'{STOCK_URL}：トップページへ移動しました')\n",
        "except Exception as e:\n",
        "      logger.error(f'{STOCK_URL}：トップページへ移動出来ませんでした: [e]')\n",
        "      raise"
      ],
      "metadata": {
        "id": "AqRsVeMiEWe3",
        "colab": {
          "base_uri": "https://localhost:8080/"
        },
        "outputId": "b4e5fc92-f267-4798-e970-315c102884c5"
      },
      "execution_count": 9,
      "outputs": [
        {
          "output_type": "stream",
          "name": "stdout",
          "text": [
            "2024-02-17 16:04:34,925 [DEBUG] main: https://minkabu.jp/stock/3778/pick：トップページへ移動しました\n"
          ]
        }
      ]
    },
    {
      "cell_type": "code",
      "source": [
        "#全ページ数取得\n",
        "span_element = driver.find_element(By.CSS_SELECTOR,\".md_card.md_box .tar\")\n",
        "print(span_element.text)\n",
        "\n",
        "# 正規表現で抽出\n",
        "total_count = 1\n",
        "match = re.search(r'/ 全(\\d+)件', span_element.text)\n",
        "if match:\n",
        "    total_count = int(match.group(1))\n",
        "\n",
        "# ページ数\n",
        "num_pages = math.ceil(total_count / 20)\n",
        "\n",
        "logger.info(f'total_count:{total_count}')\n",
        "logger.info(f'num_pages:{num_pages}')\n"
      ],
      "metadata": {
        "id": "uz7e6uBcjXvI",
        "colab": {
          "base_uri": "https://localhost:8080/"
        },
        "outputId": "6d1b07d9-b204-443a-b5ed-b6a18e795af8"
      },
      "execution_count": 10,
      "outputs": [
        {
          "output_type": "stream",
          "name": "stdout",
          "text": [
            "1～20件 / 全311件\n",
            "2024-02-17 16:04:35,180 [INFO] main: total_count:311\n",
            "2024-02-17 16:04:35,190 [INFO] main: num_pages:16\n"
          ]
        }
      ]
    },
    {
      "cell_type": "code",
      "source": [
        "# 詳細ページリンク先取得\n",
        "page_links = []\n",
        "for page in range(1, num_pages + 1):\n",
        "    TARGET_PAGE_URL = STOCK_URL + '/?page=' + str(page)\n",
        "    try:\n",
        "      driver.get(TARGET_PAGE_URL)\n",
        "      logger.debug(f'{TARGET_PAGE_URL}：ページ{page}へ移動しました')\n",
        "    except Exception as e:\n",
        "        logger.error(f'{TARGET_PAGE_URL}：ページ{page}へ移動出来ませんでした: [{e}]')\n",
        "        continue\n",
        "\n",
        "    script = \"\"\"\n",
        "        var detail_page_links = [];\n",
        "        document.querySelectorAll('.md_table.tline tr').forEach(function(el) {\n",
        "        var urlElements = el.querySelectorAll('a');\n",
        "        if (urlElements.length > 0) {\n",
        "            var url = urlElements[0].href;\n",
        "            detail_page_links.push(url);\n",
        "        }\n",
        "    });\n",
        "    return detail_page_links;\n",
        "    \"\"\"\n",
        "\n",
        "    detail_page_links = driver.execute_script(script)\n",
        "    logger.info(detail_page_links)\n",
        "    page_links.extend(detail_page_links)"
      ],
      "metadata": {
        "id": "ZH7QRmIAm0k-",
        "colab": {
          "base_uri": "https://localhost:8080/"
        },
        "outputId": "249598dd-4a2e-49fa-b9e3-96b8f637c395"
      },
      "execution_count": 11,
      "outputs": [
        {
          "output_type": "stream",
          "name": "stdout",
          "text": [
            "2024-02-17 16:04:39,587 [DEBUG] main: https://minkabu.jp/stock/3778/pick/?page=1：ページ1へ移動しました\n",
            "2024-02-17 16:04:39,707 [INFO] main: ['https://minkabu.jp/stock/3778/pick/10000000002955539', 'https://minkabu.jp/stock/3778/pick/10000000002955139', 'https://minkabu.jp/stock/3778/pick/10000000002955077', 'https://minkabu.jp/stock/3778/pick/10000000002954716', 'https://minkabu.jp/stock/3778/pick/10000000002954595', 'https://minkabu.jp/stock/3778/pick/10000000002954442', 'https://minkabu.jp/stock/3778/pick/10000000002951902', 'https://minkabu.jp/stock/3778/pick/10000000002951358', 'https://minkabu.jp/stock/3778/pick/10000000002951308', 'https://minkabu.jp/stock/3778/pick/10000000002950834', 'https://minkabu.jp/stock/3778/pick/10000000002950050', 'https://minkabu.jp/stock/3778/pick/10000000002949912', 'https://minkabu.jp/stock/3778/pick/10000000002949768', 'https://minkabu.jp/stock/3778/pick/10000000002948918', 'https://minkabu.jp/stock/3778/pick/10000000002948343', 'https://minkabu.jp/stock/3778/pick/10000000002947939', 'https://minkabu.jp/stock/3778/pick/10000000002947755', 'https://minkabu.jp/stock/3778/pick/10000000002947754', 'https://minkabu.jp/stock/3778/pick/10000000002947203', 'https://minkabu.jp/stock/3778/pick/10000000002947153']\n",
            "2024-02-17 16:04:41,803 [DEBUG] main: https://minkabu.jp/stock/3778/pick/?page=2：ページ2へ移動しました\n",
            "2024-02-17 16:04:42,539 [INFO] main: ['https://minkabu.jp/stock/3778/pick/10000000002947129', 'https://minkabu.jp/stock/3778/pick/10000000002947000', 'https://minkabu.jp/stock/3778/pick/10000000002945365', 'https://minkabu.jp/stock/3778/pick/10000000002941212', 'https://minkabu.jp/stock/3778/pick/10000000002937705', 'https://minkabu.jp/stock/3778/pick/10000000002937599', 'https://minkabu.jp/stock/3778/pick/10000000002936865', 'https://minkabu.jp/stock/3778/pick/10000000002936621', 'https://minkabu.jp/stock/3778/pick/10000000002936435', 'https://minkabu.jp/stock/3778/pick/10000000002936335', 'https://minkabu.jp/stock/3778/pick/10000000002935485', 'https://minkabu.jp/stock/3778/pick/10000000002935058', 'https://minkabu.jp/stock/3778/pick/10000000002931405', 'https://minkabu.jp/stock/3778/pick/10000000002927948', 'https://minkabu.jp/stock/3778/pick/10000000002925987', 'https://minkabu.jp/stock/3778/pick/10000000002924715', 'https://minkabu.jp/stock/3778/pick/10000000002923987', 'https://minkabu.jp/stock/3778/pick/10000000002921288', 'https://minkabu.jp/stock/3778/pick/10000000002920595', 'https://minkabu.jp/stock/3778/pick/10000000002918942']\n",
            "2024-02-17 16:04:44,299 [DEBUG] main: https://minkabu.jp/stock/3778/pick/?page=3：ページ3へ移動しました\n",
            "2024-02-17 16:04:44,482 [INFO] main: ['https://minkabu.jp/stock/3778/pick/10000000002918600', 'https://minkabu.jp/stock/3778/pick/10000000002917394', 'https://minkabu.jp/stock/3778/pick/10000000002913348', 'https://minkabu.jp/stock/3778/pick/10000000002910799', 'https://minkabu.jp/stock/3778/pick/10000000002910547', 'https://minkabu.jp/stock/3778/pick/10000000002910536', 'https://minkabu.jp/stock/3778/pick/10000000002902170', 'https://minkabu.jp/stock/3778/pick/10000000002900140', 'https://minkabu.jp/stock/3778/pick/10000000002898624', 'https://minkabu.jp/stock/3778/pick/10000000002898594', 'https://minkabu.jp/stock/3778/pick/10000000002898281', 'https://minkabu.jp/stock/3778/pick/10000000002897905', 'https://minkabu.jp/stock/3778/pick/10000000002897508', 'https://minkabu.jp/stock/3778/pick/10000000002896904', 'https://minkabu.jp/stock/3778/pick/10000000002896724', 'https://minkabu.jp/stock/3778/pick/10000000002896668', 'https://minkabu.jp/stock/3778/pick/10000000002896638', 'https://minkabu.jp/stock/3778/pick/10000000002896566', 'https://minkabu.jp/stock/3778/pick/10000000002896560', 'https://minkabu.jp/stock/3778/pick/10000000002896521']\n",
            "2024-02-17 16:04:46,170 [DEBUG] main: https://minkabu.jp/stock/3778/pick/?page=4：ページ4へ移動しました\n",
            "2024-02-17 16:04:46,233 [INFO] main: ['https://minkabu.jp/stock/3778/pick/10000000002883259', 'https://minkabu.jp/stock/3778/pick/10000000002850255', 'https://minkabu.jp/stock/3778/pick/10000000002751906', 'https://minkabu.jp/stock/3778/pick/10000000002732772', 'https://minkabu.jp/stock/3778/pick/10000000002722210', 'https://minkabu.jp/stock/3778/pick/10000000002717164', 'https://minkabu.jp/stock/3778/pick/10000000002714443', 'https://minkabu.jp/stock/3778/pick/10000000002706078', 'https://minkabu.jp/stock/3778/pick/10000000002693213', 'https://minkabu.jp/stock/3778/pick/10000000002634673', 'https://minkabu.jp/stock/3778/pick/10000000002628631', 'https://minkabu.jp/stock/3778/pick/10000000002618003', 'https://minkabu.jp/stock/3778/pick/10000000002615749', 'https://minkabu.jp/stock/3778/pick/10000000002614948', 'https://minkabu.jp/stock/3778/pick/10000000002613577', 'https://minkabu.jp/stock/3778/pick/10000000002606242', 'https://minkabu.jp/stock/3778/pick/10000000002606077', 'https://minkabu.jp/stock/3778/pick/10000000002601282', 'https://minkabu.jp/stock/3778/pick/10000000002582193', 'https://minkabu.jp/stock/3778/pick/10000000002567562']\n",
            "2024-02-17 16:04:48,906 [DEBUG] main: https://minkabu.jp/stock/3778/pick/?page=5：ページ5へ移動しました\n",
            "2024-02-17 16:04:48,937 [INFO] main: ['https://minkabu.jp/stock/3778/pick/10000000002548062', 'https://minkabu.jp/stock/3778/pick/10000000002547814', 'https://minkabu.jp/stock/3778/pick/10000000002540739', 'https://minkabu.jp/stock/3778/pick/10000000002534971', 'https://minkabu.jp/stock/3778/pick/10000000002494117', 'https://minkabu.jp/stock/3778/pick/10000000002493254', 'https://minkabu.jp/stock/3778/pick/10000000002478311', 'https://minkabu.jp/stock/3778/pick/10000000002462960', 'https://minkabu.jp/stock/3778/pick/10000000002456994', 'https://minkabu.jp/stock/3778/pick/10000000002440241', 'https://minkabu.jp/stock/3778/pick/10000000002417451', 'https://minkabu.jp/stock/3778/pick/10000000002408173', 'https://minkabu.jp/stock/3778/pick/10000000002393898', 'https://minkabu.jp/stock/3778/pick/10000000002382218', 'https://minkabu.jp/stock/3778/pick/10000000002353951', 'https://minkabu.jp/stock/3778/pick/10000000002353309', 'https://minkabu.jp/stock/3778/pick/10000000002353237', 'https://minkabu.jp/stock/3778/pick/10000000002350671', 'https://minkabu.jp/stock/3778/pick/10000000002297560', 'https://minkabu.jp/stock/3778/pick/10000000002282751']\n",
            "2024-02-17 16:04:51,157 [DEBUG] main: https://minkabu.jp/stock/3778/pick/?page=6：ページ6へ移動しました\n",
            "2024-02-17 16:04:51,353 [INFO] main: ['https://minkabu.jp/stock/3778/pick/10000000002281067', 'https://minkabu.jp/stock/3778/pick/10000000002279416', 'https://minkabu.jp/stock/3778/pick/10000000002229611', 'https://minkabu.jp/stock/3778/pick/10000000002226744', 'https://minkabu.jp/stock/3778/pick/10000000002211026', 'https://minkabu.jp/stock/3778/pick/10000000002195758', 'https://minkabu.jp/stock/3778/pick/10000000002171294', 'https://minkabu.jp/stock/3778/pick/10000000002144908', 'https://minkabu.jp/stock/3778/pick/10000000002118398', 'https://minkabu.jp/stock/3778/pick/10000000002111603', 'https://minkabu.jp/stock/3778/pick/10000000002109144', 'https://minkabu.jp/stock/3778/pick/10000000002085730', 'https://minkabu.jp/stock/3778/pick/10000000002072523', 'https://minkabu.jp/stock/3778/pick/10000000002065558', 'https://minkabu.jp/stock/3778/pick/10000000002065341', 'https://minkabu.jp/stock/3778/pick/10000000002064923', 'https://minkabu.jp/stock/3778/pick/10000000002047235', 'https://minkabu.jp/stock/3778/pick/10000000002032048', 'https://minkabu.jp/stock/3778/pick/10000000002028216', 'https://minkabu.jp/stock/3778/pick/10000000002014997']\n",
            "2024-02-17 16:04:54,616 [DEBUG] main: https://minkabu.jp/stock/3778/pick/?page=7：ページ7へ移動しました\n",
            "2024-02-17 16:04:55,166 [INFO] main: ['https://minkabu.jp/stock/3778/pick/10000000002001252', 'https://minkabu.jp/stock/3778/pick/10000000001992075', 'https://minkabu.jp/stock/3778/pick/10000000001990336', 'https://minkabu.jp/stock/3778/pick/10000000001979304', 'https://minkabu.jp/stock/3778/pick/10000000001970569', 'https://minkabu.jp/stock/3778/pick/10000000001962192', 'https://minkabu.jp/stock/3778/pick/10000000001956092', 'https://minkabu.jp/stock/3778/pick/10000000001944963', 'https://minkabu.jp/stock/3778/pick/10000000001939713', 'https://minkabu.jp/stock/3778/pick/10000000001936573', 'https://minkabu.jp/stock/3778/pick/10000000001935414', 'https://minkabu.jp/stock/3778/pick/10000000001935372', 'https://minkabu.jp/stock/3778/pick/10000000001935258', 'https://minkabu.jp/stock/3778/pick/10000000001935202', 'https://minkabu.jp/stock/3778/pick/10000000001933316', 'https://minkabu.jp/stock/3778/pick/10000000001932971', 'https://minkabu.jp/stock/3778/pick/10000000001932918', 'https://minkabu.jp/stock/3778/pick/10000000001932903', 'https://minkabu.jp/stock/3778/pick/10000000001932608', 'https://minkabu.jp/stock/3778/pick/10000000001931815']\n",
            "2024-02-17 16:04:58,303 [DEBUG] main: https://minkabu.jp/stock/3778/pick/?page=8：ページ8へ移動しました\n",
            "2024-02-17 16:04:58,420 [INFO] main: ['https://minkabu.jp/stock/3778/pick/10000000001931650', 'https://minkabu.jp/stock/3778/pick/10000000001931533', 'https://minkabu.jp/stock/3778/pick/10000000001928338', 'https://minkabu.jp/stock/3778/pick/10000000001911894', 'https://minkabu.jp/stock/3778/pick/10000000001900626', 'https://minkabu.jp/stock/3778/pick/10000000001865746', 'https://minkabu.jp/stock/3778/pick/10000000001858289', 'https://minkabu.jp/stock/3778/pick/10000000001846003', 'https://minkabu.jp/stock/3778/pick/10000000001828143', 'https://minkabu.jp/stock/3778/pick/10000000001823554', 'https://minkabu.jp/stock/3778/pick/10000000001816585', 'https://minkabu.jp/stock/3778/pick/10000000001813518', 'https://minkabu.jp/stock/3778/pick/10000000001811056', 'https://minkabu.jp/stock/3778/pick/10000000001795396', 'https://minkabu.jp/stock/3778/pick/10000000001793454', 'https://minkabu.jp/stock/3778/pick/10000000001789222', 'https://minkabu.jp/stock/3778/pick/10000000001787644', 'https://minkabu.jp/stock/3778/pick/10000000001784177', 'https://minkabu.jp/stock/3778/pick/10000000001778932', 'https://minkabu.jp/stock/3778/pick/10000000001771705']\n",
            "2024-02-17 16:05:00,830 [DEBUG] main: https://minkabu.jp/stock/3778/pick/?page=9：ページ9へ移動しました\n",
            "2024-02-17 16:05:01,170 [INFO] main: ['https://minkabu.jp/stock/3778/pick/10000000001770045', 'https://minkabu.jp/stock/3778/pick/10000000001769545', 'https://minkabu.jp/stock/3778/pick/10000000001769482', 'https://minkabu.jp/stock/3778/pick/10000000001768154', 'https://minkabu.jp/stock/3778/pick/10000000001767935', 'https://minkabu.jp/stock/3778/pick/10000000001764673', 'https://minkabu.jp/stock/3778/pick/10000000001763881', 'https://minkabu.jp/stock/3778/pick/10000000001753865', 'https://minkabu.jp/stock/3778/pick/10000000001753780', 'https://minkabu.jp/stock/3778/pick/10000000001753037', 'https://minkabu.jp/stock/3778/pick/10000000001752524', 'https://minkabu.jp/stock/3778/pick/10000000001751111', 'https://minkabu.jp/stock/3778/pick/10000000001745172', 'https://minkabu.jp/stock/3778/pick/10000000001744020', 'https://minkabu.jp/stock/3778/pick/10000000001742458', 'https://minkabu.jp/stock/3778/pick/10000000001740866', 'https://minkabu.jp/stock/3778/pick/10000000001738997', 'https://minkabu.jp/stock/3778/pick/10000000001737626', 'https://minkabu.jp/stock/3778/pick/10000000001734570', 'https://minkabu.jp/stock/3778/pick/10000000001733869']\n",
            "2024-02-17 16:05:02,510 [DEBUG] main: https://minkabu.jp/stock/3778/pick/?page=10：ページ10へ移動しました\n",
            "2024-02-17 16:05:02,618 [INFO] main: ['https://minkabu.jp/stock/3778/pick/10000000001733234', 'https://minkabu.jp/stock/3778/pick/10000000001731915', 'https://minkabu.jp/stock/3778/pick/10000000001727251', 'https://minkabu.jp/stock/3778/pick/10000000001727169', 'https://minkabu.jp/stock/3778/pick/10000000001727091', 'https://minkabu.jp/stock/3778/pick/10000000001726886', 'https://minkabu.jp/stock/3778/pick/10000000001725095', 'https://minkabu.jp/stock/3778/pick/10000000001725066', 'https://minkabu.jp/stock/3778/pick/10000000001725021', 'https://minkabu.jp/stock/3778/pick/10000000001724448', 'https://minkabu.jp/stock/3778/pick/10000000001724235', 'https://minkabu.jp/stock/3778/pick/10000000001724147', 'https://minkabu.jp/stock/3778/pick/10000000001723887', 'https://minkabu.jp/stock/3778/pick/10000000001723773', 'https://minkabu.jp/stock/3778/pick/10000000001723089', 'https://minkabu.jp/stock/3778/pick/10000000001722656', 'https://minkabu.jp/stock/3778/pick/10000000001722253', 'https://minkabu.jp/stock/3778/pick/10000000001722150', 'https://minkabu.jp/stock/3778/pick/10000000001720476', 'https://minkabu.jp/stock/3778/pick/10000000001720325']\n",
            "2024-02-17 16:05:04,758 [DEBUG] main: https://minkabu.jp/stock/3778/pick/?page=11：ページ11へ移動しました\n",
            "2024-02-17 16:05:04,791 [INFO] main: ['https://minkabu.jp/stock/3778/pick/10000000001719706', 'https://minkabu.jp/stock/3778/pick/10000000001719464', 'https://minkabu.jp/stock/3778/pick/10000000001719435', 'https://minkabu.jp/stock/3778/pick/10000000001719340', 'https://minkabu.jp/stock/3778/pick/10000000001719110', 'https://minkabu.jp/stock/3778/pick/10000000001717968', 'https://minkabu.jp/stock/3778/pick/10000000001717372', 'https://minkabu.jp/stock/3778/pick/10000000001717366', 'https://minkabu.jp/stock/3778/pick/10000000001716717', 'https://minkabu.jp/stock/3778/pick/10000000001716544', 'https://minkabu.jp/stock/3778/pick/10000000001716402', 'https://minkabu.jp/stock/3778/pick/10000000001716397', 'https://minkabu.jp/stock/3778/pick/10000000001715733', 'https://minkabu.jp/stock/3778/pick/10000000001715457', 'https://minkabu.jp/stock/3778/pick/10000000001714902', 'https://minkabu.jp/stock/3778/pick/10000000001714556', 'https://minkabu.jp/stock/3778/pick/10000000001712331', 'https://minkabu.jp/stock/3778/pick/10000000001710921', 'https://minkabu.jp/stock/3778/pick/10000000001710877', 'https://minkabu.jp/stock/3778/pick/10000000001710510']\n",
            "2024-02-17 16:05:06,843 [DEBUG] main: https://minkabu.jp/stock/3778/pick/?page=12：ページ12へ移動しました\n",
            "2024-02-17 16:05:06,868 [INFO] main: ['https://minkabu.jp/stock/3778/pick/10000000001710092', 'https://minkabu.jp/stock/3778/pick/10000000001709718', 'https://minkabu.jp/stock/3778/pick/10000000001709414', 'https://minkabu.jp/stock/3778/pick/10000000001709251', 'https://minkabu.jp/stock/3778/pick/10000000001709219', 'https://minkabu.jp/stock/3778/pick/10000000001708946', 'https://minkabu.jp/stock/3778/pick/10000000001708495', 'https://minkabu.jp/stock/3778/pick/10000000001708159', 'https://minkabu.jp/stock/3778/pick/10000000001708009', 'https://minkabu.jp/stock/3778/pick/10000000001707057', 'https://minkabu.jp/stock/3778/pick/10000000001706952', 'https://minkabu.jp/stock/3778/pick/10000000001706880', 'https://minkabu.jp/stock/3778/pick/10000000001706799', 'https://minkabu.jp/stock/3778/pick/10000000001697901', 'https://minkabu.jp/stock/3778/pick/10000000001693129', 'https://minkabu.jp/stock/3778/pick/10000000001692821', 'https://minkabu.jp/stock/3778/pick/10000000001682372', 'https://minkabu.jp/stock/3778/pick/10000000001644001', 'https://minkabu.jp/stock/3778/pick/10000000001641412', 'https://minkabu.jp/stock/3778/pick/10000000001609888']\n",
            "2024-02-17 16:05:08,948 [DEBUG] main: https://minkabu.jp/stock/3778/pick/?page=13：ページ13へ移動しました\n",
            "2024-02-17 16:05:08,970 [INFO] main: ['https://minkabu.jp/stock/3778/pick/10000000001560070', 'https://minkabu.jp/stock/3778/pick/10000000001545299', 'https://minkabu.jp/stock/3778/pick/10000000001540243', 'https://minkabu.jp/stock/3778/pick/10000000001495526', 'https://minkabu.jp/stock/3778/pick/10000000001457751', 'https://minkabu.jp/stock/3778/pick/10000000001399458', 'https://minkabu.jp/stock/3778/pick/10000000001378306', 'https://minkabu.jp/stock/3778/pick/10000000001337971', 'https://minkabu.jp/stock/3778/pick/10000000001337057', 'https://minkabu.jp/stock/3778/pick/10000000001215554', 'https://minkabu.jp/stock/3778/pick/10000000001110986', 'https://minkabu.jp/stock/3778/pick/10000000001054727', 'https://minkabu.jp/stock/3778/pick/10000000000941283', 'https://minkabu.jp/stock/3778/pick/10000000000906185', 'https://minkabu.jp/stock/3778/pick/10000000000901457', 'https://minkabu.jp/stock/3778/pick/10000000000901306', 'https://minkabu.jp/stock/3778/pick/10000000000880698', 'https://minkabu.jp/stock/3778/pick/10000000000875881', 'https://minkabu.jp/stock/3778/pick/10000000000873845', 'https://minkabu.jp/stock/3778/pick/10000000000859708']\n",
            "2024-02-17 16:05:11,559 [DEBUG] main: https://minkabu.jp/stock/3778/pick/?page=14：ページ14へ移動しました\n",
            "2024-02-17 16:05:11,597 [INFO] main: ['https://minkabu.jp/stock/3778/pick/10000000000845116', 'https://minkabu.jp/stock/3778/pick/10000000000795255', 'https://minkabu.jp/stock/3778/pick/10000000000705679', 'https://minkabu.jp/stock/3778/pick/10000000000692930', 'https://minkabu.jp/stock/3778/pick/10000000000685722', 'https://minkabu.jp/stock/3778/pick/10000000000672945', 'https://minkabu.jp/stock/3778/pick/10000000000620948', 'https://minkabu.jp/stock/3778/pick/10000000000610869', 'https://minkabu.jp/stock/3778/pick/10000000000610516', 'https://minkabu.jp/stock/3778/pick/10000000000610145', 'https://minkabu.jp/stock/3778/pick/10000000000610008', 'https://minkabu.jp/stock/3778/pick/10000000000609949', 'https://minkabu.jp/stock/3778/pick/10000000000609937', 'https://minkabu.jp/stock/3778/pick/10000000000609452', 'https://minkabu.jp/stock/3778/pick/10000000000607634', 'https://minkabu.jp/stock/3778/pick/10000000000586540', 'https://minkabu.jp/stock/3778/pick/10000000000580530', 'https://minkabu.jp/stock/3778/pick/10000000000572665', 'https://minkabu.jp/stock/3778/pick/10000000000568458', 'https://minkabu.jp/stock/3778/pick/10000000000566445']\n",
            "2024-02-17 16:05:13,747 [DEBUG] main: https://minkabu.jp/stock/3778/pick/?page=15：ページ15へ移動しました\n",
            "2024-02-17 16:05:13,968 [INFO] main: ['https://minkabu.jp/stock/3778/pick/10000000000529116', 'https://minkabu.jp/stock/3778/pick/10000000000480863', 'https://minkabu.jp/stock/3778/pick/10000000000479710', 'https://minkabu.jp/stock/3778/pick/10000000000473811', 'https://minkabu.jp/stock/3778/pick/10000000000472653', 'https://minkabu.jp/stock/3778/pick/10000000000458599', 'https://minkabu.jp/stock/3778/pick/10000000000444711', 'https://minkabu.jp/stock/3778/pick/10000000000442504', 'https://minkabu.jp/stock/3778/pick/10000000000438721', 'https://minkabu.jp/stock/3778/pick/10000000000436585', 'https://minkabu.jp/stock/3778/pick/10000000000435333', 'https://minkabu.jp/stock/3778/pick/10000000000434778', 'https://minkabu.jp/stock/3778/pick/10000000000413594', 'https://minkabu.jp/stock/3778/pick/10000000000411257', 'https://minkabu.jp/stock/3778/pick/10000000000402407', 'https://minkabu.jp/stock/3778/pick/10000000000401297', 'https://minkabu.jp/stock/3778/pick/10000000000379349', 'https://minkabu.jp/stock/3778/pick/10000000000340347', 'https://minkabu.jp/stock/3778/pick/10000000000293797', 'https://minkabu.jp/stock/3778/pick/10000000000222484']\n",
            "2024-02-17 16:05:18,794 [DEBUG] main: https://minkabu.jp/stock/3778/pick/?page=16：ページ16へ移動しました\n",
            "2024-02-17 16:05:19,051 [INFO] main: ['https://minkabu.jp/stock/3778/pick/10000000000216174', 'https://minkabu.jp/stock/3778/pick/10000000000202896', 'https://minkabu.jp/stock/3778/pick/10000000000202680', 'https://minkabu.jp/stock/3778/pick/10000000000089192', 'https://minkabu.jp/stock/3778/pick/10000000000085501', 'https://minkabu.jp/stock/3778/pick/10000000000081803', 'https://minkabu.jp/stock/3778/pick/10000000000080298', 'https://minkabu.jp/stock/3778/pick/10000000000064223', 'https://minkabu.jp/stock/3778/pick/10000000000049628', 'https://minkabu.jp/stock/3778/pick/10000000000049461', 'https://minkabu.jp/stock/3778/pick/10000000000000504']\n"
          ]
        }
      ]
    },
    {
      "cell_type": "code",
      "source": [
        "# 詳細ページ データ取得\n",
        "comments_data = []\n",
        "\n",
        "for page_link in page_links:\n",
        "    try:\n",
        "      driver.get(page_link)\n",
        "      logger.debug(f'{page_link}：詳細ページへ移動しました')\n",
        "    except Exception as e:\n",
        "        logger.error(f'{page_link}：詳細ページへ移動出来ませんでした: [e]')\n",
        "        continue\n",
        "\n",
        "    script = \"\"\"\n",
        "        var comments = [];\n",
        "        var id = (document.querySelector('.md_article_name a')?.textContent.trim()) || '-';\n",
        "        var title_comment = (document.querySelector('.com_title')?.textContent.trim()) || '-';\n",
        "        var sentence_comment = (document.querySelector('.mb10.fll')?.textContent.trim()) || '-';\n",
        "        var comment = title_comment + (title_comment && sentence_comment ? \" \" : \"\") + sentence_comment;\n",
        "        var postDate = (document.querySelector('.md_article_name span')?.textContent.trim().replace('投稿:', '')) || '-';\n",
        "        var minkabuUpDown = (document.querySelector('.ribbon.ribbon_left.pick.sell')?.textContent.trim().replace('予想', '')) || '-';\n",
        "\n",
        "        comments.push({id: id, comment: comment, postDate: postDate, minkabuUpDown: minkabuUpDown});\n",
        "\n",
        "        return comments;\n",
        "    \"\"\"\n",
        "\n",
        "    comments_data.extend(driver.execute_script(script))\n",
        "\n",
        "# JavaScriptから取得したデータを辞書に格納\n",
        "cnt = 0\n",
        "for item in comments_data:\n",
        "    # 取得日時\n",
        "    formatted_get_time = datetime.now().strftime('%Y/%m/%d %H:%M')\n",
        "\n",
        "    # 投稿日時\n",
        "    post_date_obj = '-' if item['postDate'] == '-' else datetime.strptime(item['postDate'], '%Y/%m/%d %H:%M')\n",
        "    formatted_post_date = '-' if post_date_obj == '-' else post_date_obj.strftime('%Y/%m/%d %H:%M')\n",
        "\n",
        "    # アラート語句１\n",
        "    # GPUを使用するようにspaCyに指示\n",
        "    spacy.prefer_gpu()\n",
        "    alert_word_1 = '-' if item['comment'] == '-' else extract_trend_comment(item['comment'])[0]\n",
        "\n",
        "    # 色分け\n",
        "    trend_flag = '-' if alert_word_1 == '-' else classify_trend_word(alert_word_1)\n",
        "\n",
        "    result_dict['銘柄'].append(os.environ['COMPANY'])\n",
        "    result_dict['ID'].append(item['id'])\n",
        "    result_dict['コメント原文'].append(item['comment'])\n",
        "    result_dict['返信元ID'].append('-')\n",
        "    result_dict['取得日時'].append(formatted_get_time)\n",
        "    result_dict['投稿日時'].append(formatted_post_date)\n",
        "    result_dict['アラート語句１'].append(alert_word_1)\n",
        "    result_dict['みんかぶ上下'].append(item['minkabuUpDown'])\n",
        "    result_dict['色分け'].append(trend_flag)\n",
        "    result_dict['取得元'].append(os.environ['TARGET'])\n",
        "\n",
        "    cnt += 1\n",
        "    logger.info(f'取得数: {cnt}/{len(comments_data)}個取得完了')\n"
      ],
      "metadata": {
        "id": "7i2L_ZFdVz1Z",
        "colab": {
          "base_uri": "https://localhost:8080/",
          "height": 1000
        },
        "outputId": "aa963d34-9451-44ac-a3ae-077cab626776"
      },
      "execution_count": 12,
      "outputs": [
        {
          "output_type": "stream",
          "name": "stdout",
          "text": [
            "2024-02-17 16:05:21,330 [DEBUG] main: https://minkabu.jp/stock/3778/pick/10000000002955539：詳細ページへ移動しました\n",
            "2024-02-17 16:05:23,951 [DEBUG] main: https://minkabu.jp/stock/3778/pick/10000000002955139：詳細ページへ移動しました\n",
            "2024-02-17 16:05:25,700 [DEBUG] main: https://minkabu.jp/stock/3778/pick/10000000002955077：詳細ページへ移動しました\n",
            "2024-02-17 16:05:27,081 [DEBUG] main: https://minkabu.jp/stock/3778/pick/10000000002954716：詳細ページへ移動しました\n",
            "2024-02-17 16:05:29,468 [DEBUG] main: https://minkabu.jp/stock/3778/pick/10000000002954595：詳細ページへ移動しました\n",
            "2024-02-17 16:05:31,479 [DEBUG] main: https://minkabu.jp/stock/3778/pick/10000000002954442：詳細ページへ移動しました\n",
            "2024-02-17 16:05:33,881 [DEBUG] main: https://minkabu.jp/stock/3778/pick/10000000002951902：詳細ページへ移動しました\n",
            "2024-02-17 16:05:36,076 [DEBUG] main: https://minkabu.jp/stock/3778/pick/10000000002951358：詳細ページへ移動しました\n",
            "2024-02-17 16:05:39,351 [DEBUG] main: https://minkabu.jp/stock/3778/pick/10000000002951308：詳細ページへ移動しました\n",
            "2024-02-17 16:05:41,017 [DEBUG] main: https://minkabu.jp/stock/3778/pick/10000000002950834：詳細ページへ移動しました\n",
            "2024-02-17 16:05:42,800 [DEBUG] main: https://minkabu.jp/stock/3778/pick/10000000002950050：詳細ページへ移動しました\n",
            "2024-02-17 16:05:44,211 [DEBUG] main: https://minkabu.jp/stock/3778/pick/10000000002949912：詳細ページへ移動しました\n",
            "2024-02-17 16:05:45,595 [DEBUG] main: https://minkabu.jp/stock/3778/pick/10000000002949768：詳細ページへ移動しました\n",
            "2024-02-17 16:05:48,107 [DEBUG] main: https://minkabu.jp/stock/3778/pick/10000000002948918：詳細ページへ移動しました\n",
            "2024-02-17 16:05:49,808 [DEBUG] main: https://minkabu.jp/stock/3778/pick/10000000002948343：詳細ページへ移動しました\n",
            "2024-02-17 16:05:52,805 [DEBUG] main: https://minkabu.jp/stock/3778/pick/10000000002947939：詳細ページへ移動しました\n",
            "2024-02-17 16:05:55,495 [DEBUG] main: https://minkabu.jp/stock/3778/pick/10000000002947755：詳細ページへ移動しました\n",
            "2024-02-17 16:05:57,231 [DEBUG] main: https://minkabu.jp/stock/3778/pick/10000000002947754：詳細ページへ移動しました\n",
            "2024-02-17 16:05:59,481 [DEBUG] main: https://minkabu.jp/stock/3778/pick/10000000002947203：詳細ページへ移動しました\n",
            "2024-02-17 16:06:02,060 [DEBUG] main: https://minkabu.jp/stock/3778/pick/10000000002947153：詳細ページへ移動しました\n",
            "2024-02-17 16:06:04,254 [DEBUG] main: https://minkabu.jp/stock/3778/pick/10000000002947129：詳細ページへ移動しました\n",
            "2024-02-17 16:06:06,382 [DEBUG] main: https://minkabu.jp/stock/3778/pick/10000000002947000：詳細ページへ移動しました\n",
            "2024-02-17 16:06:09,491 [DEBUG] main: https://minkabu.jp/stock/3778/pick/10000000002945365：詳細ページへ移動しました\n",
            "2024-02-17 16:06:11,460 [DEBUG] main: https://minkabu.jp/stock/3778/pick/10000000002941212：詳細ページへ移動しました\n",
            "2024-02-17 16:06:13,128 [DEBUG] main: https://minkabu.jp/stock/3778/pick/10000000002937705：詳細ページへ移動しました\n",
            "2024-02-17 16:06:14,676 [DEBUG] main: https://minkabu.jp/stock/3778/pick/10000000002937599：詳細ページへ移動しました\n",
            "2024-02-17 16:06:16,348 [DEBUG] main: https://minkabu.jp/stock/3778/pick/10000000002936865：詳細ページへ移動しました\n",
            "2024-02-17 16:06:17,897 [DEBUG] main: https://minkabu.jp/stock/3778/pick/10000000002936621：詳細ページへ移動しました\n",
            "2024-02-17 16:06:20,406 [DEBUG] main: https://minkabu.jp/stock/3778/pick/10000000002936435：詳細ページへ移動しました\n",
            "2024-02-17 16:06:22,450 [DEBUG] main: https://minkabu.jp/stock/3778/pick/10000000002936335：詳細ページへ移動しました\n",
            "2024-02-17 16:06:24,789 [DEBUG] main: https://minkabu.jp/stock/3778/pick/10000000002935485：詳細ページへ移動しました\n",
            "2024-02-17 16:06:27,936 [DEBUG] main: https://minkabu.jp/stock/3778/pick/10000000002935058：詳細ページへ移動しました\n",
            "2024-02-17 16:06:30,917 [DEBUG] main: https://minkabu.jp/stock/3778/pick/10000000002931405：詳細ページへ移動しました\n",
            "2024-02-17 16:06:32,800 [DEBUG] main: https://minkabu.jp/stock/3778/pick/10000000002927948：詳細ページへ移動しました\n",
            "2024-02-17 16:06:34,539 [DEBUG] main: https://minkabu.jp/stock/3778/pick/10000000002925987：詳細ページへ移動しました\n",
            "2024-02-17 16:06:36,267 [DEBUG] main: https://minkabu.jp/stock/3778/pick/10000000002924715：詳細ページへ移動しました\n",
            "2024-02-17 16:06:38,541 [DEBUG] main: https://minkabu.jp/stock/3778/pick/10000000002923987：詳細ページへ移動しました\n",
            "2024-02-17 16:06:41,297 [DEBUG] main: https://minkabu.jp/stock/3778/pick/10000000002921288：詳細ページへ移動しました\n",
            "2024-02-17 16:06:42,539 [DEBUG] main: https://minkabu.jp/stock/3778/pick/10000000002920595：詳細ページへ移動しました\n",
            "2024-02-17 16:06:44,790 [DEBUG] main: https://minkabu.jp/stock/3778/pick/10000000002918942：詳細ページへ移動しました\n",
            "2024-02-17 16:06:47,369 [DEBUG] main: https://minkabu.jp/stock/3778/pick/10000000002918600：詳細ページへ移動しました\n",
            "2024-02-17 16:06:49,207 [DEBUG] main: https://minkabu.jp/stock/3778/pick/10000000002917394：詳細ページへ移動しました\n",
            "2024-02-17 16:06:50,886 [DEBUG] main: https://minkabu.jp/stock/3778/pick/10000000002913348：詳細ページへ移動しました\n",
            "2024-02-17 16:06:52,805 [DEBUG] main: https://minkabu.jp/stock/3778/pick/10000000002910799：詳細ページへ移動しました\n",
            "2024-02-17 16:06:54,473 [DEBUG] main: https://minkabu.jp/stock/3778/pick/10000000002910547：詳細ページへ移動しました\n",
            "2024-02-17 16:06:56,014 [DEBUG] main: https://minkabu.jp/stock/3778/pick/10000000002910536：詳細ページへ移動しました\n",
            "2024-02-17 16:06:57,247 [DEBUG] main: https://minkabu.jp/stock/3778/pick/10000000002902170：詳細ページへ移動しました\n",
            "2024-02-17 16:06:58,691 [DEBUG] main: https://minkabu.jp/stock/3778/pick/10000000002900140：詳細ページへ移動しました\n",
            "2024-02-17 16:07:01,399 [DEBUG] main: https://minkabu.jp/stock/3778/pick/10000000002898624：詳細ページへ移動しました\n",
            "2024-02-17 16:07:03,572 [DEBUG] main: https://minkabu.jp/stock/3778/pick/10000000002898594：詳細ページへ移動しました\n",
            "2024-02-17 16:07:07,496 [DEBUG] main: https://minkabu.jp/stock/3778/pick/10000000002898281：詳細ページへ移動しました\n",
            "2024-02-17 16:07:15,003 [DEBUG] main: https://minkabu.jp/stock/3778/pick/10000000002897905：詳細ページへ移動しました\n",
            "2024-02-17 16:07:18,340 [DEBUG] main: https://minkabu.jp/stock/3778/pick/10000000002897508：詳細ページへ移動しました\n",
            "2024-02-17 16:07:21,329 [DEBUG] main: https://minkabu.jp/stock/3778/pick/10000000002896904：詳細ページへ移動しました\n",
            "2024-02-17 16:07:27,358 [DEBUG] main: https://minkabu.jp/stock/3778/pick/10000000002896724：詳細ページへ移動しました\n",
            "2024-02-17 16:07:30,998 [DEBUG] main: https://minkabu.jp/stock/3778/pick/10000000002896668：詳細ページへ移動しました\n",
            "2024-02-17 16:07:34,143 [DEBUG] main: https://minkabu.jp/stock/3778/pick/10000000002896638：詳細ページへ移動しました\n",
            "2024-02-17 16:07:37,034 [DEBUG] main: https://minkabu.jp/stock/3778/pick/10000000002896566：詳細ページへ移動しました\n",
            "2024-02-17 16:07:40,321 [DEBUG] main: https://minkabu.jp/stock/3778/pick/10000000002896560：詳細ページへ移動しました\n",
            "2024-02-17 16:07:52,800 [DEBUG] main: https://minkabu.jp/stock/3778/pick/10000000002896521：詳細ページへ移動しました\n",
            "2024-02-17 16:07:54,401 [DEBUG] main: https://minkabu.jp/stock/3778/pick/10000000002883259：詳細ページへ移動しました\n",
            "2024-02-17 16:07:55,905 [DEBUG] main: https://minkabu.jp/stock/3778/pick/10000000002850255：詳細ページへ移動しました\n",
            "2024-02-17 16:07:57,253 [DEBUG] main: https://minkabu.jp/stock/3778/pick/10000000002751906：詳細ページへ移動しました\n",
            "2024-02-17 16:07:58,928 [DEBUG] main: https://minkabu.jp/stock/3778/pick/10000000002732772：詳細ページへ移動しました\n",
            "2024-02-17 16:08:00,802 [DEBUG] main: https://minkabu.jp/stock/3778/pick/10000000002722210：詳細ページへ移動しました\n",
            "2024-02-17 16:08:02,785 [DEBUG] main: https://minkabu.jp/stock/3778/pick/10000000002717164：詳細ページへ移動しました\n",
            "2024-02-17 16:08:04,647 [DEBUG] main: https://minkabu.jp/stock/3778/pick/10000000002714443：詳細ページへ移動しました\n",
            "2024-02-17 16:08:06,782 [DEBUG] main: https://minkabu.jp/stock/3778/pick/10000000002706078：詳細ページへ移動しました\n",
            "2024-02-17 16:08:09,385 [DEBUG] main: https://minkabu.jp/stock/3778/pick/10000000002693213：詳細ページへ移動しました\n",
            "2024-02-17 16:08:15,400 [DEBUG] main: https://minkabu.jp/stock/3778/pick/10000000002634673：詳細ページへ移動しました\n",
            "2024-02-17 16:08:18,481 [DEBUG] main: https://minkabu.jp/stock/3778/pick/10000000002628631：詳細ページへ移動しました\n",
            "2024-02-17 16:08:20,806 [DEBUG] main: https://minkabu.jp/stock/3778/pick/10000000002618003：詳細ページへ移動しました\n",
            "2024-02-17 16:08:24,704 [DEBUG] main: https://minkabu.jp/stock/3778/pick/10000000002615749：詳細ページへ移動しました\n",
            "2024-02-17 16:08:34,867 [DEBUG] main: https://minkabu.jp/stock/3778/pick/10000000002614948：詳細ページへ移動しました\n",
            "2024-02-17 16:08:40,328 [DEBUG] main: https://minkabu.jp/stock/3778/pick/10000000002613577：詳細ページへ移動しました\n",
            "2024-02-17 16:08:48,225 [DEBUG] main: https://minkabu.jp/stock/3778/pick/10000000002606242：詳細ページへ移動しました\n",
            "2024-02-17 16:08:49,916 [DEBUG] main: https://minkabu.jp/stock/3778/pick/10000000002606077：詳細ページへ移動しました\n",
            "2024-02-17 16:08:51,371 [DEBUG] main: https://minkabu.jp/stock/3778/pick/10000000002601282：詳細ページへ移動しました\n",
            "2024-02-17 16:08:52,794 [DEBUG] main: https://minkabu.jp/stock/3778/pick/10000000002582193：詳細ページへ移動しました\n",
            "2024-02-17 16:08:57,109 [DEBUG] main: https://minkabu.jp/stock/3778/pick/10000000002567562：詳細ページへ移動しました\n",
            "2024-02-17 16:08:58,697 [DEBUG] main: https://minkabu.jp/stock/3778/pick/10000000002548062：詳細ページへ移動しました\n",
            "2024-02-17 16:09:11,433 [DEBUG] main: https://minkabu.jp/stock/3778/pick/10000000002547814：詳細ページへ移動しました\n",
            "2024-02-17 16:09:16,368 [DEBUG] main: https://minkabu.jp/stock/3778/pick/10000000002540739：詳細ページへ移動しました\n",
            "2024-02-17 16:09:22,813 [DEBUG] main: https://minkabu.jp/stock/3778/pick/10000000002534971：詳細ページへ移動しました\n",
            "2024-02-17 16:09:29,835 [DEBUG] main: https://minkabu.jp/stock/3778/pick/10000000002494117：詳細ページへ移動しました\n",
            "2024-02-17 16:09:34,706 [DEBUG] main: https://minkabu.jp/stock/3778/pick/10000000002493254：詳細ページへ移動しました\n",
            "2024-02-17 16:09:39,921 [DEBUG] main: https://minkabu.jp/stock/3778/pick/10000000002478311：詳細ページへ移動しました\n",
            "2024-02-17 16:09:48,040 [DEBUG] main: https://minkabu.jp/stock/3778/pick/10000000002462960：詳細ページへ移動しました\n",
            "2024-02-17 16:09:52,917 [DEBUG] main: https://minkabu.jp/stock/3778/pick/10000000002456994：詳細ページへ移動しました\n",
            "2024-02-17 16:09:58,154 [DEBUG] main: https://minkabu.jp/stock/3778/pick/10000000002440241：詳細ページへ移動しました\n",
            "2024-02-17 16:10:06,515 [DEBUG] main: https://minkabu.jp/stock/3778/pick/10000000002417451：詳細ページへ移動しました\n",
            "2024-02-17 16:10:11,541 [DEBUG] main: https://minkabu.jp/stock/3778/pick/10000000002408173：詳細ページへ移動しました\n",
            "2024-02-17 16:10:16,417 [DEBUG] main: https://minkabu.jp/stock/3778/pick/10000000002393898：詳細ページへ移動しました\n",
            "2024-02-17 16:10:24,573 [DEBUG] main: https://minkabu.jp/stock/3778/pick/10000000002382218：詳細ページへ移動しました\n",
            "2024-02-17 16:10:30,236 [DEBUG] main: https://minkabu.jp/stock/3778/pick/10000000002353951：詳細ページへ移動しました\n",
            "2024-02-17 16:10:38,774 [DEBUG] main: https://minkabu.jp/stock/3778/pick/10000000002353309：詳細ページへ移動しました\n",
            "2024-02-17 16:10:45,776 [DEBUG] main: https://minkabu.jp/stock/3778/pick/10000000002353237：詳細ページへ移動しました\n",
            "2024-02-17 16:10:50,600 [DEBUG] main: https://minkabu.jp/stock/3778/pick/10000000002350671：詳細ページへ移動しました\n",
            "2024-02-17 16:10:56,731 [DEBUG] main: https://minkabu.jp/stock/3778/pick/10000000002297560：詳細ページへ移動しました\n",
            "2024-02-17 16:11:04,232 [DEBUG] main: https://minkabu.jp/stock/3778/pick/10000000002282751：詳細ページへ移動しました\n",
            "2024-02-17 16:11:09,534 [DEBUG] main: https://minkabu.jp/stock/3778/pick/10000000002281067：詳細ページへ移動しました\n",
            "2024-02-17 16:11:15,787 [DEBUG] main: https://minkabu.jp/stock/3778/pick/10000000002279416：詳細ページへ移動しました\n",
            "2024-02-17 16:11:23,556 [DEBUG] main: https://minkabu.jp/stock/3778/pick/10000000002229611：詳細ページへ移動しました\n",
            "2024-02-17 16:11:28,634 [DEBUG] main: https://minkabu.jp/stock/3778/pick/10000000002226744：詳細ページへ移動しました\n",
            "2024-02-17 16:11:35,613 [DEBUG] main: https://minkabu.jp/stock/3778/pick/10000000002211026：詳細ページへ移動しました\n",
            "2024-02-17 16:11:43,002 [DEBUG] main: https://minkabu.jp/stock/3778/pick/10000000002195758：詳細ページへ移動しました\n",
            "2024-02-17 16:11:48,517 [DEBUG] main: https://minkabu.jp/stock/3778/pick/10000000002171294：詳細ページへ移動しました\n",
            "2024-02-17 16:11:56,165 [DEBUG] main: https://minkabu.jp/stock/3778/pick/10000000002144908：詳細ページへ移動しました\n",
            "2024-02-17 16:12:02,775 [DEBUG] main: https://minkabu.jp/stock/3778/pick/10000000002118398：詳細ページへ移動しました\n",
            "2024-02-17 16:12:08,156 [DEBUG] main: https://minkabu.jp/stock/3778/pick/10000000002111603：詳細ページへ移動しました\n",
            "2024-02-17 16:12:16,124 [DEBUG] main: https://minkabu.jp/stock/3778/pick/10000000002109144：詳細ページへ移動しました\n",
            "2024-02-17 16:12:22,126 [DEBUG] main: https://minkabu.jp/stock/3778/pick/10000000002085730：詳細ページへ移動しました\n",
            "2024-02-17 16:12:27,258 [DEBUG] main: https://minkabu.jp/stock/3778/pick/10000000002072523：詳細ページへ移動しました\n",
            "2024-02-17 16:12:35,240 [DEBUG] main: https://minkabu.jp/stock/3778/pick/10000000002065558：詳細ページへ移動しました\n",
            "2024-02-17 16:12:41,063 [DEBUG] main: https://minkabu.jp/stock/3778/pick/10000000002065341：詳細ページへ移動しました\n",
            "2024-02-17 16:12:46,417 [DEBUG] main: https://minkabu.jp/stock/3778/pick/10000000002064923：詳細ページへ移動しました\n",
            "2024-02-17 16:12:55,182 [DEBUG] main: https://minkabu.jp/stock/3778/pick/10000000002047235：詳細ページへ移動しました\n",
            "2024-02-17 16:13:01,396 [DEBUG] main: https://minkabu.jp/stock/3778/pick/10000000002032048：詳細ページへ移動しました\n",
            "2024-02-17 16:13:11,741 [DEBUG] main: https://minkabu.jp/stock/3778/pick/10000000002028216：詳細ページへ移動しました\n",
            "2024-02-17 16:13:18,244 [DEBUG] main: https://minkabu.jp/stock/3778/pick/10000000002014997：詳細ページへ移動しました\n",
            "2024-02-17 16:13:23,909 [DEBUG] main: https://minkabu.jp/stock/3778/pick/10000000002001252：詳細ページへ移動しました\n",
            "2024-02-17 16:13:33,188 [DEBUG] main: https://minkabu.jp/stock/3778/pick/10000000001992075：詳細ページへ移動しました\n",
            "2024-02-17 16:13:39,339 [DEBUG] main: https://minkabu.jp/stock/3778/pick/10000000001990336：詳細ページへ移動しました\n",
            "2024-02-17 16:13:45,294 [DEBUG] main: https://minkabu.jp/stock/3778/pick/10000000001979304：詳細ページへ移動しました\n",
            "2024-02-17 16:13:53,980 [DEBUG] main: https://minkabu.jp/stock/3778/pick/10000000001970569：詳細ページへ移動しました\n",
            "2024-02-17 16:13:59,976 [DEBUG] main: https://minkabu.jp/stock/3778/pick/10000000001962192：詳細ページへ移動しました\n",
            "2024-02-17 16:14:08,201 [DEBUG] main: https://minkabu.jp/stock/3778/pick/10000000001956092：詳細ページへ移動しました\n",
            "2024-02-17 16:14:15,147 [DEBUG] main: https://minkabu.jp/stock/3778/pick/10000000001944963：詳細ページへ移動しました\n",
            "2024-02-17 16:14:21,050 [DEBUG] main: https://minkabu.jp/stock/3778/pick/10000000001939713：詳細ページへ移動しました\n",
            "2024-02-17 16:14:30,342 [DEBUG] main: https://minkabu.jp/stock/3778/pick/10000000001936573：詳細ページへ移動しました\n",
            "2024-02-17 16:14:36,291 [DEBUG] main: https://minkabu.jp/stock/3778/pick/10000000001935414：詳細ページへ移動しました\n",
            "2024-02-17 16:14:44,207 [DEBUG] main: https://minkabu.jp/stock/3778/pick/10000000001935372：詳細ページへ移動しました\n",
            "2024-02-17 16:14:51,547 [DEBUG] main: https://minkabu.jp/stock/3778/pick/10000000001935258：詳細ページへ移動しました\n",
            "2024-02-17 16:14:57,463 [DEBUG] main: https://minkabu.jp/stock/3778/pick/10000000001935202：詳細ページへ移動しました\n",
            "2024-02-17 16:15:07,488 [DEBUG] main: https://minkabu.jp/stock/3778/pick/10000000001933316：詳細ページへ移動しました\n",
            "2024-02-17 16:15:13,728 [DEBUG] main: https://minkabu.jp/stock/3778/pick/10000000001932971：詳細ページへ移動しました\n",
            "2024-02-17 16:15:22,254 [DEBUG] main: https://minkabu.jp/stock/3778/pick/10000000001932918：詳細ページへ移動しました\n",
            "2024-02-17 16:15:29,583 [DEBUG] main: https://minkabu.jp/stock/3778/pick/10000000001932903：詳細ページへ移動しました\n",
            "2024-02-17 16:15:42,088 [DEBUG] main: https://minkabu.jp/stock/3778/pick/10000000001932608：詳細ページへ移動しました\n",
            "2024-02-17 16:15:50,104 [DEBUG] main: https://minkabu.jp/stock/3778/pick/10000000001931815：詳細ページへ移動しました\n",
            "2024-02-17 16:15:56,230 [DEBUG] main: https://minkabu.jp/stock/3778/pick/10000000001931650：詳細ページへ移動しました\n",
            "2024-02-17 16:16:06,302 [DEBUG] main: https://minkabu.jp/stock/3778/pick/10000000001931533：詳細ページへ移動しました\n",
            "2024-02-17 16:16:12,689 [DEBUG] main: https://minkabu.jp/stock/3778/pick/10000000001928338：詳細ページへ移動しました\n",
            "2024-02-17 16:16:21,421 [DEBUG] main: https://minkabu.jp/stock/3778/pick/10000000001911894：詳細ページへ移動しました\n",
            "2024-02-17 16:16:28,853 [DEBUG] main: https://minkabu.jp/stock/3778/pick/10000000001900626：詳細ページへ移動しました\n",
            "2024-02-17 16:16:35,807 [DEBUG] main: https://minkabu.jp/stock/3778/pick/10000000001865746：詳細ページへ移動しました\n",
            "2024-02-17 16:16:45,213 [DEBUG] main: https://minkabu.jp/stock/3778/pick/10000000001858289：詳細ページへ移動しました\n",
            "2024-02-17 16:16:51,696 [DEBUG] main: https://minkabu.jp/stock/3778/pick/10000000001846003：詳細ページへ移動しました\n",
            "2024-02-17 16:17:01,862 [DEBUG] main: https://minkabu.jp/stock/3778/pick/10000000001828143：詳細ページへ移動しました\n",
            "2024-02-17 16:17:08,852 [DEBUG] main: https://minkabu.jp/stock/3778/pick/10000000001823554：詳細ページへ移動しました\n",
            "2024-02-17 16:17:18,350 [DEBUG] main: https://minkabu.jp/stock/3778/pick/10000000001816585：詳細ページへ移動しました\n",
            "2024-02-17 16:17:25,785 [DEBUG] main: https://minkabu.jp/stock/3778/pick/10000000001813518：詳細ページへ移動しました\n",
            "2024-02-17 16:17:33,964 [DEBUG] main: https://minkabu.jp/stock/3778/pick/10000000001811056：詳細ページへ移動しました\n",
            "2024-02-17 16:17:43,014 [DEBUG] main: https://minkabu.jp/stock/3778/pick/10000000001795396：詳細ページへ移動しました\n",
            "2024-02-17 16:17:50,007 [DEBUG] main: https://minkabu.jp/stock/3778/pick/10000000001793454：詳細ページへ移動しました\n",
            "2024-02-17 16:18:02,812 [DEBUG] main: https://minkabu.jp/stock/3778/pick/10000000001789222：詳細ページへ移動しました\n",
            "2024-02-17 16:18:13,366 [DEBUG] main: https://minkabu.jp/stock/3778/pick/10000000001787644：詳細ページへ移動しました\n",
            "2024-02-17 16:18:22,818 [DEBUG] main: https://minkabu.jp/stock/3778/pick/10000000001784177：詳細ページへ移動しました\n",
            "2024-02-17 16:18:29,617 [DEBUG] main: https://minkabu.jp/stock/3778/pick/10000000001778932：詳細ページへ移動しました\n",
            "2024-02-17 16:18:40,544 [DEBUG] main: https://minkabu.jp/stock/3778/pick/10000000001771705：詳細ページへ移動しました\n",
            "2024-02-17 16:18:47,520 [DEBUG] main: https://minkabu.jp/stock/3778/pick/10000000001770045：詳細ページへ移動しました\n",
            "2024-02-17 16:18:58,125 [DEBUG] main: https://minkabu.jp/stock/3778/pick/10000000001769545：詳細ページへ移動しました\n",
            "2024-02-17 16:19:05,507 [DEBUG] main: https://minkabu.jp/stock/3778/pick/10000000001769482：詳細ページへ移動しました\n",
            "2024-02-17 16:19:16,447 [DEBUG] main: https://minkabu.jp/stock/3778/pick/10000000001768154：詳細ページへ移動しました\n",
            "2024-02-17 16:19:23,650 [DEBUG] main: https://minkabu.jp/stock/3778/pick/10000000001767935：詳細ページへ移動しました\n",
            "2024-02-17 16:19:34,844 [DEBUG] main: https://minkabu.jp/stock/3778/pick/10000000001764673：詳細ページへ移動しました\n",
            "2024-02-17 16:19:42,001 [DEBUG] main: https://minkabu.jp/stock/3778/pick/10000000001763881：詳細ページへ移動しました\n",
            "2024-02-17 16:19:51,815 [DEBUG] main: https://minkabu.jp/stock/3778/pick/10000000001753865：詳細ページへ移動しました\n",
            "2024-02-17 16:19:59,484 [DEBUG] main: https://minkabu.jp/stock/3778/pick/10000000001753780：詳細ページへ移動しました\n",
            "2024-02-17 16:20:08,353 [DEBUG] main: https://minkabu.jp/stock/3778/pick/10000000001753037：詳細ページへ移動しました\n",
            "2024-02-17 16:20:16,889 [DEBUG] main: https://minkabu.jp/stock/3778/pick/10000000001752524：詳細ページへ移動しました\n",
            "2024-02-17 16:20:26,386 [DEBUG] main: https://minkabu.jp/stock/3778/pick/10000000001751111：詳細ページへ移動しました\n",
            "2024-02-17 16:20:35,412 [DEBUG] main: https://minkabu.jp/stock/3778/pick/10000000001745172：詳細ページへ移動しました\n",
            "2024-02-17 16:20:46,686 [DEBUG] main: https://minkabu.jp/stock/3778/pick/10000000001744020：詳細ページへ移動しました\n",
            "2024-02-17 16:20:56,935 [DEBUG] main: https://minkabu.jp/stock/3778/pick/10000000001742458：詳細ページへ移動しました\n",
            "2024-02-17 16:21:05,202 [DEBUG] main: https://minkabu.jp/stock/3778/pick/10000000001740866：詳細ページへ移動しました\n",
            "2024-02-17 16:21:15,303 [DEBUG] main: https://minkabu.jp/stock/3778/pick/10000000001738997：詳細ページへ移動しました\n",
            "2024-02-17 16:21:23,256 [DEBUG] main: https://minkabu.jp/stock/3778/pick/10000000001737626：詳細ページへ移動しました\n",
            "2024-02-17 16:21:33,788 [DEBUG] main: https://minkabu.jp/stock/3778/pick/10000000001734570：詳細ページへ移動しました\n",
            "2024-02-17 16:21:42,213 [DEBUG] main: https://minkabu.jp/stock/3778/pick/10000000001733869：詳細ページへ移動しました\n",
            "2024-02-17 16:21:53,120 [DEBUG] main: https://minkabu.jp/stock/3778/pick/10000000001733234：詳細ページへ移動しました\n",
            "2024-02-17 16:22:01,299 [DEBUG] main: https://minkabu.jp/stock/3778/pick/10000000001731915：詳細ページへ移動しました\n",
            "2024-02-17 16:22:11,558 [DEBUG] main: https://minkabu.jp/stock/3778/pick/10000000001727251：詳細ページへ移動しました\n",
            "2024-02-17 16:22:19,848 [DEBUG] main: https://minkabu.jp/stock/3778/pick/10000000001727169：詳細ページへ移動しました\n",
            "2024-02-17 16:22:30,471 [DEBUG] main: https://minkabu.jp/stock/3778/pick/10000000001727091：詳細ページへ移動しました\n",
            "2024-02-17 16:22:39,667 [DEBUG] main: https://minkabu.jp/stock/3778/pick/10000000001726886：詳細ページへ移動しました\n",
            "2024-02-17 16:22:50,367 [DEBUG] main: https://minkabu.jp/stock/3778/pick/10000000001725095：詳細ページへ移動しました\n",
            "2024-02-17 16:23:00,475 [DEBUG] main: https://minkabu.jp/stock/3778/pick/10000000001725066：詳細ページへ移動しました\n",
            "2024-02-17 16:23:09,825 [DEBUG] main: https://minkabu.jp/stock/3778/pick/10000000001725021：詳細ページへ移動しました\n",
            "2024-02-17 16:23:24,169 [DEBUG] main: https://minkabu.jp/stock/3778/pick/10000000001724448：詳細ページへ移動しました\n",
            "2024-02-17 16:23:32,298 [DEBUG] main: https://minkabu.jp/stock/3778/pick/10000000001724235：詳細ページへ移動しました\n",
            "2024-02-17 16:23:44,503 [DEBUG] main: https://minkabu.jp/stock/3778/pick/10000000001724147：詳細ページへ移動しました\n",
            "2024-02-17 16:23:52,486 [DEBUG] main: https://minkabu.jp/stock/3778/pick/10000000001723887：詳細ページへ移動しました\n",
            "2024-02-17 16:24:04,896 [DEBUG] main: https://minkabu.jp/stock/3778/pick/10000000001723773：詳細ページへ移動しました\n",
            "2024-02-17 16:24:13,390 [DEBUG] main: https://minkabu.jp/stock/3778/pick/10000000001723089：詳細ページへ移動しました\n",
            "2024-02-17 16:24:25,608 [DEBUG] main: https://minkabu.jp/stock/3778/pick/10000000001722656：詳細ページへ移動しました\n",
            "2024-02-17 16:24:33,148 [ERROR] main: https://minkabu.jp/stock/3778/pick/10000000001722253：詳細ページへ移動出来ませんでした: [e]\n",
            "2024-02-17 16:24:33,535 [ERROR] main: https://minkabu.jp/stock/3778/pick/10000000001722150：詳細ページへ移動出来ませんでした: [e]\n",
            "2024-02-17 16:24:33,543 [ERROR] main: https://minkabu.jp/stock/3778/pick/10000000001720476：詳細ページへ移動出来ませんでした: [e]\n",
            "2024-02-17 16:24:33,549 [ERROR] main: https://minkabu.jp/stock/3778/pick/10000000001720325：詳細ページへ移動出来ませんでした: [e]\n",
            "2024-02-17 16:24:33,556 [ERROR] main: https://minkabu.jp/stock/3778/pick/10000000001719706：詳細ページへ移動出来ませんでした: [e]\n",
            "2024-02-17 16:24:33,562 [ERROR] main: https://minkabu.jp/stock/3778/pick/10000000001719464：詳細ページへ移動出来ませんでした: [e]\n",
            "2024-02-17 16:24:33,568 [ERROR] main: https://minkabu.jp/stock/3778/pick/10000000001719435：詳細ページへ移動出来ませんでした: [e]\n",
            "2024-02-17 16:24:33,573 [ERROR] main: https://minkabu.jp/stock/3778/pick/10000000001719340：詳細ページへ移動出来ませんでした: [e]\n",
            "2024-02-17 16:24:33,579 [ERROR] main: https://minkabu.jp/stock/3778/pick/10000000001719110：詳細ページへ移動出来ませんでした: [e]\n",
            "2024-02-17 16:24:33,585 [ERROR] main: https://minkabu.jp/stock/3778/pick/10000000001717968：詳細ページへ移動出来ませんでした: [e]\n",
            "2024-02-17 16:24:33,590 [ERROR] main: https://minkabu.jp/stock/3778/pick/10000000001717372：詳細ページへ移動出来ませんでした: [e]\n",
            "2024-02-17 16:24:33,596 [ERROR] main: https://minkabu.jp/stock/3778/pick/10000000001717366：詳細ページへ移動出来ませんでした: [e]\n",
            "2024-02-17 16:24:33,601 [ERROR] main: https://minkabu.jp/stock/3778/pick/10000000001716717：詳細ページへ移動出来ませんでした: [e]\n",
            "2024-02-17 16:24:33,606 [ERROR] main: https://minkabu.jp/stock/3778/pick/10000000001716544：詳細ページへ移動出来ませんでした: [e]\n",
            "2024-02-17 16:24:33,611 [ERROR] main: https://minkabu.jp/stock/3778/pick/10000000001716402：詳細ページへ移動出来ませんでした: [e]\n",
            "2024-02-17 16:24:33,615 [ERROR] main: https://minkabu.jp/stock/3778/pick/10000000001716397：詳細ページへ移動出来ませんでした: [e]\n",
            "2024-02-17 16:24:33,619 [ERROR] main: https://minkabu.jp/stock/3778/pick/10000000001715733：詳細ページへ移動出来ませんでした: [e]\n",
            "2024-02-17 16:24:33,624 [ERROR] main: https://minkabu.jp/stock/3778/pick/10000000001715457：詳細ページへ移動出来ませんでした: [e]\n",
            "2024-02-17 16:24:33,630 [ERROR] main: https://minkabu.jp/stock/3778/pick/10000000001714902：詳細ページへ移動出来ませんでした: [e]\n",
            "2024-02-17 16:24:33,635 [ERROR] main: https://minkabu.jp/stock/3778/pick/10000000001714556：詳細ページへ移動出来ませんでした: [e]\n",
            "2024-02-17 16:24:33,641 [ERROR] main: https://minkabu.jp/stock/3778/pick/10000000001712331：詳細ページへ移動出来ませんでした: [e]\n",
            "2024-02-17 16:24:33,646 [ERROR] main: https://minkabu.jp/stock/3778/pick/10000000001710921：詳細ページへ移動出来ませんでした: [e]\n",
            "2024-02-17 16:24:33,652 [ERROR] main: https://minkabu.jp/stock/3778/pick/10000000001710877：詳細ページへ移動出来ませんでした: [e]\n",
            "2024-02-17 16:24:33,659 [ERROR] main: https://minkabu.jp/stock/3778/pick/10000000001710510：詳細ページへ移動出来ませんでした: [e]\n",
            "2024-02-17 16:24:33,664 [ERROR] main: https://minkabu.jp/stock/3778/pick/10000000001710092：詳細ページへ移動出来ませんでした: [e]\n",
            "2024-02-17 16:24:33,672 [ERROR] main: https://minkabu.jp/stock/3778/pick/10000000001709718：詳細ページへ移動出来ませんでした: [e]\n",
            "2024-02-17 16:24:33,677 [ERROR] main: https://minkabu.jp/stock/3778/pick/10000000001709414：詳細ページへ移動出来ませんでした: [e]\n",
            "2024-02-17 16:24:33,683 [ERROR] main: https://minkabu.jp/stock/3778/pick/10000000001709251：詳細ページへ移動出来ませんでした: [e]\n",
            "2024-02-17 16:24:33,689 [ERROR] main: https://minkabu.jp/stock/3778/pick/10000000001709219：詳細ページへ移動出来ませんでした: [e]\n",
            "2024-02-17 16:24:33,694 [ERROR] main: https://minkabu.jp/stock/3778/pick/10000000001708946：詳細ページへ移動出来ませんでした: [e]\n",
            "2024-02-17 16:24:33,700 [ERROR] main: https://minkabu.jp/stock/3778/pick/10000000001708495：詳細ページへ移動出来ませんでした: [e]\n",
            "2024-02-17 16:24:33,707 [ERROR] main: https://minkabu.jp/stock/3778/pick/10000000001708159：詳細ページへ移動出来ませんでした: [e]\n",
            "2024-02-17 16:24:33,712 [ERROR] main: https://minkabu.jp/stock/3778/pick/10000000001708009：詳細ページへ移動出来ませんでした: [e]\n",
            "2024-02-17 16:24:33,718 [ERROR] main: https://minkabu.jp/stock/3778/pick/10000000001707057：詳細ページへ移動出来ませんでした: [e]\n",
            "2024-02-17 16:24:33,725 [ERROR] main: https://minkabu.jp/stock/3778/pick/10000000001706952：詳細ページへ移動出来ませんでした: [e]\n",
            "2024-02-17 16:24:33,731 [ERROR] main: https://minkabu.jp/stock/3778/pick/10000000001706880：詳細ページへ移動出来ませんでした: [e]\n",
            "2024-02-17 16:24:33,736 [ERROR] main: https://minkabu.jp/stock/3778/pick/10000000001706799：詳細ページへ移動出来ませんでした: [e]\n",
            "2024-02-17 16:24:33,742 [ERROR] main: https://minkabu.jp/stock/3778/pick/10000000001697901：詳細ページへ移動出来ませんでした: [e]\n",
            "2024-02-17 16:24:33,748 [ERROR] main: https://minkabu.jp/stock/3778/pick/10000000001693129：詳細ページへ移動出来ませんでした: [e]\n",
            "2024-02-17 16:24:33,753 [ERROR] main: https://minkabu.jp/stock/3778/pick/10000000001692821：詳細ページへ移動出来ませんでした: [e]\n",
            "2024-02-17 16:24:33,759 [ERROR] main: https://minkabu.jp/stock/3778/pick/10000000001682372：詳細ページへ移動出来ませんでした: [e]\n",
            "2024-02-17 16:24:33,764 [ERROR] main: https://minkabu.jp/stock/3778/pick/10000000001644001：詳細ページへ移動出来ませんでした: [e]\n",
            "2024-02-17 16:24:33,770 [ERROR] main: https://minkabu.jp/stock/3778/pick/10000000001641412：詳細ページへ移動出来ませんでした: [e]\n",
            "2024-02-17 16:24:33,775 [ERROR] main: https://minkabu.jp/stock/3778/pick/10000000001609888：詳細ページへ移動出来ませんでした: [e]\n",
            "2024-02-17 16:24:33,780 [ERROR] main: https://minkabu.jp/stock/3778/pick/10000000001560070：詳細ページへ移動出来ませんでした: [e]\n",
            "2024-02-17 16:24:33,787 [ERROR] main: https://minkabu.jp/stock/3778/pick/10000000001545299：詳細ページへ移動出来ませんでした: [e]\n",
            "2024-02-17 16:24:33,791 [ERROR] main: https://minkabu.jp/stock/3778/pick/10000000001540243：詳細ページへ移動出来ませんでした: [e]\n",
            "2024-02-17 16:24:33,797 [ERROR] main: https://minkabu.jp/stock/3778/pick/10000000001495526：詳細ページへ移動出来ませんでした: [e]\n",
            "2024-02-17 16:24:33,803 [ERROR] main: https://minkabu.jp/stock/3778/pick/10000000001457751：詳細ページへ移動出来ませんでした: [e]\n",
            "2024-02-17 16:24:33,807 [ERROR] main: https://minkabu.jp/stock/3778/pick/10000000001399458：詳細ページへ移動出来ませんでした: [e]\n",
            "2024-02-17 16:24:33,812 [ERROR] main: https://minkabu.jp/stock/3778/pick/10000000001378306：詳細ページへ移動出来ませんでした: [e]\n",
            "2024-02-17 16:24:33,817 [ERROR] main: https://minkabu.jp/stock/3778/pick/10000000001337971：詳細ページへ移動出来ませんでした: [e]\n",
            "2024-02-17 16:24:33,822 [ERROR] main: https://minkabu.jp/stock/3778/pick/10000000001337057：詳細ページへ移動出来ませんでした: [e]\n",
            "2024-02-17 16:24:33,827 [ERROR] main: https://minkabu.jp/stock/3778/pick/10000000001215554：詳細ページへ移動出来ませんでした: [e]\n",
            "2024-02-17 16:24:33,832 [ERROR] main: https://minkabu.jp/stock/3778/pick/10000000001110986：詳細ページへ移動出来ませんでした: [e]\n",
            "2024-02-17 16:24:33,838 [ERROR] main: https://minkabu.jp/stock/3778/pick/10000000001054727：詳細ページへ移動出来ませんでした: [e]\n",
            "2024-02-17 16:24:33,844 [ERROR] main: https://minkabu.jp/stock/3778/pick/10000000000941283：詳細ページへ移動出来ませんでした: [e]\n",
            "2024-02-17 16:24:33,849 [ERROR] main: https://minkabu.jp/stock/3778/pick/10000000000906185：詳細ページへ移動出来ませんでした: [e]\n",
            "2024-02-17 16:24:33,855 [ERROR] main: https://minkabu.jp/stock/3778/pick/10000000000901457：詳細ページへ移動出来ませんでした: [e]\n",
            "2024-02-17 16:24:33,860 [ERROR] main: https://minkabu.jp/stock/3778/pick/10000000000901306：詳細ページへ移動出来ませんでした: [e]\n",
            "2024-02-17 16:24:33,866 [ERROR] main: https://minkabu.jp/stock/3778/pick/10000000000880698：詳細ページへ移動出来ませんでした: [e]\n",
            "2024-02-17 16:24:33,871 [ERROR] main: https://minkabu.jp/stock/3778/pick/10000000000875881：詳細ページへ移動出来ませんでした: [e]\n",
            "2024-02-17 16:24:33,877 [ERROR] main: https://minkabu.jp/stock/3778/pick/10000000000873845：詳細ページへ移動出来ませんでした: [e]\n",
            "2024-02-17 16:24:33,882 [ERROR] main: https://minkabu.jp/stock/3778/pick/10000000000859708：詳細ページへ移動出来ませんでした: [e]\n",
            "2024-02-17 16:24:33,888 [ERROR] main: https://minkabu.jp/stock/3778/pick/10000000000845116：詳細ページへ移動出来ませんでした: [e]\n",
            "2024-02-17 16:24:33,894 [ERROR] main: https://minkabu.jp/stock/3778/pick/10000000000795255：詳細ページへ移動出来ませんでした: [e]\n",
            "2024-02-17 16:24:33,899 [ERROR] main: https://minkabu.jp/stock/3778/pick/10000000000705679：詳細ページへ移動出来ませんでした: [e]\n",
            "2024-02-17 16:24:33,904 [ERROR] main: https://minkabu.jp/stock/3778/pick/10000000000692930：詳細ページへ移動出来ませんでした: [e]\n",
            "2024-02-17 16:24:33,910 [ERROR] main: https://minkabu.jp/stock/3778/pick/10000000000685722：詳細ページへ移動出来ませんでした: [e]\n",
            "2024-02-17 16:24:33,917 [ERROR] main: https://minkabu.jp/stock/3778/pick/10000000000672945：詳細ページへ移動出来ませんでした: [e]\n",
            "2024-02-17 16:24:33,923 [ERROR] main: https://minkabu.jp/stock/3778/pick/10000000000620948：詳細ページへ移動出来ませんでした: [e]\n",
            "2024-02-17 16:24:33,929 [ERROR] main: https://minkabu.jp/stock/3778/pick/10000000000610869：詳細ページへ移動出来ませんでした: [e]\n",
            "2024-02-17 16:24:33,937 [ERROR] main: https://minkabu.jp/stock/3778/pick/10000000000610516：詳細ページへ移動出来ませんでした: [e]\n",
            "2024-02-17 16:24:33,944 [ERROR] main: https://minkabu.jp/stock/3778/pick/10000000000610145：詳細ページへ移動出来ませんでした: [e]\n",
            "2024-02-17 16:24:33,950 [ERROR] main: https://minkabu.jp/stock/3778/pick/10000000000610008：詳細ページへ移動出来ませんでした: [e]\n",
            "2024-02-17 16:24:33,956 [ERROR] main: https://minkabu.jp/stock/3778/pick/10000000000609949：詳細ページへ移動出来ませんでした: [e]\n",
            "2024-02-17 16:24:33,961 [ERROR] main: https://minkabu.jp/stock/3778/pick/10000000000609937：詳細ページへ移動出来ませんでした: [e]\n",
            "2024-02-17 16:24:33,968 [ERROR] main: https://minkabu.jp/stock/3778/pick/10000000000609452：詳細ページへ移動出来ませんでした: [e]\n",
            "2024-02-17 16:24:33,973 [ERROR] main: https://minkabu.jp/stock/3778/pick/10000000000607634：詳細ページへ移動出来ませんでした: [e]\n",
            "2024-02-17 16:24:33,982 [ERROR] main: https://minkabu.jp/stock/3778/pick/10000000000586540：詳細ページへ移動出来ませんでした: [e]\n",
            "2024-02-17 16:24:33,989 [ERROR] main: https://minkabu.jp/stock/3778/pick/10000000000580530：詳細ページへ移動出来ませんでした: [e]\n",
            "2024-02-17 16:24:33,998 [ERROR] main: https://minkabu.jp/stock/3778/pick/10000000000572665：詳細ページへ移動出来ませんでした: [e]\n",
            "2024-02-17 16:24:34,005 [ERROR] main: https://minkabu.jp/stock/3778/pick/10000000000568458：詳細ページへ移動出来ませんでした: [e]\n",
            "2024-02-17 16:24:34,011 [ERROR] main: https://minkabu.jp/stock/3778/pick/10000000000566445：詳細ページへ移動出来ませんでした: [e]\n",
            "2024-02-17 16:24:34,017 [ERROR] main: https://minkabu.jp/stock/3778/pick/10000000000529116：詳細ページへ移動出来ませんでした: [e]\n",
            "2024-02-17 16:24:34,023 [ERROR] main: https://minkabu.jp/stock/3778/pick/10000000000480863：詳細ページへ移動出来ませんでした: [e]\n",
            "2024-02-17 16:24:34,028 [ERROR] main: https://minkabu.jp/stock/3778/pick/10000000000479710：詳細ページへ移動出来ませんでした: [e]\n",
            "2024-02-17 16:24:34,034 [ERROR] main: https://minkabu.jp/stock/3778/pick/10000000000473811：詳細ページへ移動出来ませんでした: [e]\n",
            "2024-02-17 16:24:34,042 [ERROR] main: https://minkabu.jp/stock/3778/pick/10000000000472653：詳細ページへ移動出来ませんでした: [e]\n",
            "2024-02-17 16:24:34,048 [ERROR] main: https://minkabu.jp/stock/3778/pick/10000000000458599：詳細ページへ移動出来ませんでした: [e]\n",
            "2024-02-17 16:24:34,056 [ERROR] main: https://minkabu.jp/stock/3778/pick/10000000000444711：詳細ページへ移動出来ませんでした: [e]\n",
            "2024-02-17 16:24:34,062 [ERROR] main: https://minkabu.jp/stock/3778/pick/10000000000442504：詳細ページへ移動出来ませんでした: [e]\n",
            "2024-02-17 16:24:34,068 [ERROR] main: https://minkabu.jp/stock/3778/pick/10000000000438721：詳細ページへ移動出来ませんでした: [e]\n",
            "2024-02-17 16:24:34,076 [ERROR] main: https://minkabu.jp/stock/3778/pick/10000000000436585：詳細ページへ移動出来ませんでした: [e]\n",
            "2024-02-17 16:24:34,084 [ERROR] main: https://minkabu.jp/stock/3778/pick/10000000000435333：詳細ページへ移動出来ませんでした: [e]\n",
            "2024-02-17 16:24:34,091 [ERROR] main: https://minkabu.jp/stock/3778/pick/10000000000434778：詳細ページへ移動出来ませんでした: [e]\n",
            "2024-02-17 16:24:34,097 [ERROR] main: https://minkabu.jp/stock/3778/pick/10000000000413594：詳細ページへ移動出来ませんでした: [e]\n",
            "2024-02-17 16:24:34,102 [ERROR] main: https://minkabu.jp/stock/3778/pick/10000000000411257：詳細ページへ移動出来ませんでした: [e]\n",
            "2024-02-17 16:24:34,108 [ERROR] main: https://minkabu.jp/stock/3778/pick/10000000000402407：詳細ページへ移動出来ませんでした: [e]\n",
            "2024-02-17 16:24:34,114 [ERROR] main: https://minkabu.jp/stock/3778/pick/10000000000401297：詳細ページへ移動出来ませんでした: [e]\n",
            "2024-02-17 16:24:34,119 [ERROR] main: https://minkabu.jp/stock/3778/pick/10000000000379349：詳細ページへ移動出来ませんでした: [e]\n",
            "2024-02-17 16:24:34,130 [ERROR] main: https://minkabu.jp/stock/3778/pick/10000000000340347：詳細ページへ移動出来ませんでした: [e]\n",
            "2024-02-17 16:24:34,135 [ERROR] main: https://minkabu.jp/stock/3778/pick/10000000000293797：詳細ページへ移動出来ませんでした: [e]\n",
            "2024-02-17 16:24:34,143 [ERROR] main: https://minkabu.jp/stock/3778/pick/10000000000222484：詳細ページへ移動出来ませんでした: [e]\n",
            "2024-02-17 16:24:34,148 [ERROR] main: https://minkabu.jp/stock/3778/pick/10000000000216174：詳細ページへ移動出来ませんでした: [e]\n",
            "2024-02-17 16:24:34,156 [ERROR] main: https://minkabu.jp/stock/3778/pick/10000000000202896：詳細ページへ移動出来ませんでした: [e]\n",
            "2024-02-17 16:24:34,165 [ERROR] main: https://minkabu.jp/stock/3778/pick/10000000000202680：詳細ページへ移動出来ませんでした: [e]\n",
            "2024-02-17 16:24:34,170 [ERROR] main: https://minkabu.jp/stock/3778/pick/10000000000089192：詳細ページへ移動出来ませんでした: [e]\n",
            "2024-02-17 16:24:34,176 [ERROR] main: https://minkabu.jp/stock/3778/pick/10000000000085501：詳細ページへ移動出来ませんでした: [e]\n",
            "2024-02-17 16:24:34,186 [ERROR] main: https://minkabu.jp/stock/3778/pick/10000000000081803：詳細ページへ移動出来ませんでした: [e]\n",
            "2024-02-17 16:24:34,192 [ERROR] main: https://minkabu.jp/stock/3778/pick/10000000000080298：詳細ページへ移動出来ませんでした: [e]\n",
            "2024-02-17 16:24:34,199 [ERROR] main: https://minkabu.jp/stock/3778/pick/10000000000064223：詳細ページへ移動出来ませんでした: [e]\n",
            "2024-02-17 16:24:34,205 [ERROR] main: https://minkabu.jp/stock/3778/pick/10000000000049628：詳細ページへ移動出来ませんでした: [e]\n",
            "2024-02-17 16:24:34,211 [ERROR] main: https://minkabu.jp/stock/3778/pick/10000000000049461：詳細ページへ移動出来ませんでした: [e]\n",
            "2024-02-17 16:24:34,216 [ERROR] main: https://minkabu.jp/stock/3778/pick/10000000000000504：詳細ページへ移動出来ませんでした: [e]\n",
            "2024-02-17 16:24:35,255 [INFO] main: 取得数: 1/196個取得完了\n",
            "2024-02-17 16:24:35,492 [INFO] main: 取得数: 2/196個取得完了\n",
            "2024-02-17 16:24:35,626 [INFO] main: 取得数: 3/196個取得完了\n",
            "2024-02-17 16:24:35,766 [INFO] main: 取得数: 4/196個取得完了\n",
            "2024-02-17 16:24:36,067 [INFO] main: 取得数: 5/196個取得完了\n",
            "2024-02-17 16:24:36,265 [INFO] main: 取得数: 6/196個取得完了\n",
            "2024-02-17 16:24:36,471 [INFO] main: 取得数: 7/196個取得完了\n",
            "2024-02-17 16:24:36,589 [INFO] main: 取得数: 8/196個取得完了\n",
            "2024-02-17 16:24:36,689 [INFO] main: 取得数: 9/196個取得完了\n",
            "2024-02-17 16:24:36,788 [INFO] main: 取得数: 10/196個取得完了\n",
            "2024-02-17 16:24:37,013 [INFO] main: 取得数: 11/196個取得完了\n",
            "2024-02-17 16:24:37,141 [INFO] main: 取得数: 12/196個取得完了\n",
            "2024-02-17 16:24:37,277 [INFO] main: 取得数: 13/196個取得完了\n",
            "2024-02-17 16:24:37,410 [INFO] main: 取得数: 14/196個取得完了\n",
            "2024-02-17 16:24:37,536 [INFO] main: 取得数: 15/196個取得完了\n",
            "2024-02-17 16:24:37,662 [INFO] main: 取得数: 16/196個取得完了\n",
            "2024-02-17 16:24:37,789 [INFO] main: 取得数: 17/196個取得完了\n",
            "2024-02-17 16:24:37,914 [INFO] main: 取得数: 18/196個取得完了\n",
            "2024-02-17 16:24:38,035 [INFO] main: 取得数: 19/196個取得完了\n",
            "2024-02-17 16:24:38,169 [INFO] main: 取得数: 20/196個取得完了\n",
            "2024-02-17 16:24:38,293 [INFO] main: 取得数: 21/196個取得完了\n",
            "2024-02-17 16:24:38,418 [INFO] main: 取得数: 22/196個取得完了\n",
            "2024-02-17 16:24:38,541 [INFO] main: 取得数: 23/196個取得完了\n",
            "2024-02-17 16:24:38,663 [INFO] main: 取得数: 24/196個取得完了\n",
            "2024-02-17 16:24:38,786 [INFO] main: 取得数: 25/196個取得完了\n",
            "2024-02-17 16:24:38,900 [INFO] main: 取得数: 26/196個取得完了\n",
            "2024-02-17 16:24:39,004 [INFO] main: 取得数: 27/196個取得完了\n",
            "2024-02-17 16:24:39,124 [INFO] main: 取得数: 28/196個取得完了\n",
            "2024-02-17 16:24:39,221 [INFO] main: 取得数: 29/196個取得完了\n",
            "2024-02-17 16:24:39,357 [INFO] main: 取得数: 30/196個取得完了\n",
            "2024-02-17 16:24:39,477 [INFO] main: 取得数: 31/196個取得完了\n",
            "2024-02-17 16:24:39,596 [INFO] main: 取得数: 32/196個取得完了\n",
            "2024-02-17 16:24:39,717 [INFO] main: 取得数: 33/196個取得完了\n",
            "2024-02-17 16:24:39,835 [INFO] main: 取得数: 34/196個取得完了\n",
            "2024-02-17 16:24:39,954 [INFO] main: 取得数: 35/196個取得完了\n",
            "2024-02-17 16:24:40,066 [INFO] main: 取得数: 36/196個取得完了\n",
            "2024-02-17 16:24:40,184 [INFO] main: 取得数: 37/196個取得完了\n",
            "2024-02-17 16:24:40,304 [INFO] main: 取得数: 38/196個取得完了\n",
            "2024-02-17 16:24:40,440 [INFO] main: 取得数: 39/196個取得完了\n",
            "2024-02-17 16:24:40,561 [INFO] main: 取得数: 40/196個取得完了\n",
            "2024-02-17 16:24:40,671 [INFO] main: 取得数: 41/196個取得完了\n",
            "2024-02-17 16:24:40,796 [INFO] main: 取得数: 42/196個取得完了\n",
            "2024-02-17 16:24:40,919 [INFO] main: 取得数: 43/196個取得完了\n",
            "2024-02-17 16:24:41,031 [INFO] main: 取得数: 44/196個取得完了\n",
            "2024-02-17 16:24:41,160 [INFO] main: 取得数: 45/196個取得完了\n",
            "2024-02-17 16:24:41,257 [INFO] main: 取得数: 46/196個取得完了\n",
            "2024-02-17 16:24:41,413 [INFO] main: 取得数: 47/196個取得完了\n",
            "2024-02-17 16:24:41,541 [INFO] main: 取得数: 48/196個取得完了\n",
            "2024-02-17 16:24:41,658 [INFO] main: 取得数: 49/196個取得完了\n",
            "2024-02-17 16:24:41,779 [INFO] main: 取得数: 50/196個取得完了\n"
          ]
        },
        {
          "output_type": "error",
          "ename": "ValueError",
          "evalue": "time data '-' does not match format '%Y/%m/%d %H:%M'",
          "traceback": [
            "\u001b[0;31m---------------------------------------------------------------------------\u001b[0m",
            "\u001b[0;31mValueError\u001b[0m                                Traceback (most recent call last)",
            "\u001b[0;32m<ipython-input-12-d678519026e2>\u001b[0m in \u001b[0;36m<cell line: 30>\u001b[0;34m()\u001b[0m\n\u001b[1;32m     33\u001b[0m \u001b[0;34m\u001b[0m\u001b[0m\n\u001b[1;32m     34\u001b[0m     \u001b[0;31m# 投稿日時\u001b[0m\u001b[0;34m\u001b[0m\u001b[0;34m\u001b[0m\u001b[0m\n\u001b[0;32m---> 35\u001b[0;31m     \u001b[0mpost_date_obj\u001b[0m \u001b[0;34m=\u001b[0m \u001b[0mdatetime\u001b[0m\u001b[0;34m.\u001b[0m\u001b[0mstrptime\u001b[0m\u001b[0;34m(\u001b[0m\u001b[0mitem\u001b[0m\u001b[0;34m[\u001b[0m\u001b[0;34m'postDate'\u001b[0m\u001b[0;34m]\u001b[0m\u001b[0;34m,\u001b[0m \u001b[0;34m'%Y/%m/%d %H:%M'\u001b[0m\u001b[0;34m)\u001b[0m\u001b[0;34m\u001b[0m\u001b[0;34m\u001b[0m\u001b[0m\n\u001b[0m\u001b[1;32m     36\u001b[0m     \u001b[0mformatted_post_date\u001b[0m \u001b[0;34m=\u001b[0m \u001b[0mpost_date_obj\u001b[0m\u001b[0;34m.\u001b[0m\u001b[0mstrftime\u001b[0m\u001b[0;34m(\u001b[0m\u001b[0;34m'%Y/%m/%d %H:%M'\u001b[0m\u001b[0;34m)\u001b[0m\u001b[0;34m\u001b[0m\u001b[0;34m\u001b[0m\u001b[0m\n\u001b[1;32m     37\u001b[0m \u001b[0;34m\u001b[0m\u001b[0m\n",
            "\u001b[0;32m/usr/lib/python3.10/_strptime.py\u001b[0m in \u001b[0;36m_strptime_datetime\u001b[0;34m(cls, data_string, format)\u001b[0m\n\u001b[1;32m    566\u001b[0m     \"\"\"Return a class cls instance based on the input string and the\n\u001b[1;32m    567\u001b[0m     format string.\"\"\"\n\u001b[0;32m--> 568\u001b[0;31m     \u001b[0mtt\u001b[0m\u001b[0;34m,\u001b[0m \u001b[0mfraction\u001b[0m\u001b[0;34m,\u001b[0m \u001b[0mgmtoff_fraction\u001b[0m \u001b[0;34m=\u001b[0m \u001b[0m_strptime\u001b[0m\u001b[0;34m(\u001b[0m\u001b[0mdata_string\u001b[0m\u001b[0;34m,\u001b[0m \u001b[0mformat\u001b[0m\u001b[0;34m)\u001b[0m\u001b[0;34m\u001b[0m\u001b[0;34m\u001b[0m\u001b[0m\n\u001b[0m\u001b[1;32m    569\u001b[0m     \u001b[0mtzname\u001b[0m\u001b[0;34m,\u001b[0m \u001b[0mgmtoff\u001b[0m \u001b[0;34m=\u001b[0m \u001b[0mtt\u001b[0m\u001b[0;34m[\u001b[0m\u001b[0;34m-\u001b[0m\u001b[0;36m2\u001b[0m\u001b[0;34m:\u001b[0m\u001b[0;34m]\u001b[0m\u001b[0;34m\u001b[0m\u001b[0;34m\u001b[0m\u001b[0m\n\u001b[1;32m    570\u001b[0m     \u001b[0margs\u001b[0m \u001b[0;34m=\u001b[0m \u001b[0mtt\u001b[0m\u001b[0;34m[\u001b[0m\u001b[0;34m:\u001b[0m\u001b[0;36m6\u001b[0m\u001b[0;34m]\u001b[0m \u001b[0;34m+\u001b[0m \u001b[0;34m(\u001b[0m\u001b[0mfraction\u001b[0m\u001b[0;34m,\u001b[0m\u001b[0;34m)\u001b[0m\u001b[0;34m\u001b[0m\u001b[0;34m\u001b[0m\u001b[0m\n",
            "\u001b[0;32m/usr/lib/python3.10/_strptime.py\u001b[0m in \u001b[0;36m_strptime\u001b[0;34m(data_string, format)\u001b[0m\n\u001b[1;32m    347\u001b[0m     \u001b[0mfound\u001b[0m \u001b[0;34m=\u001b[0m \u001b[0mformat_regex\u001b[0m\u001b[0;34m.\u001b[0m\u001b[0mmatch\u001b[0m\u001b[0;34m(\u001b[0m\u001b[0mdata_string\u001b[0m\u001b[0;34m)\u001b[0m\u001b[0;34m\u001b[0m\u001b[0;34m\u001b[0m\u001b[0m\n\u001b[1;32m    348\u001b[0m     \u001b[0;32mif\u001b[0m \u001b[0;32mnot\u001b[0m \u001b[0mfound\u001b[0m\u001b[0;34m:\u001b[0m\u001b[0;34m\u001b[0m\u001b[0;34m\u001b[0m\u001b[0m\n\u001b[0;32m--> 349\u001b[0;31m         raise ValueError(\"time data %r does not match format %r\" %\n\u001b[0m\u001b[1;32m    350\u001b[0m                          (data_string, format))\n\u001b[1;32m    351\u001b[0m     \u001b[0;32mif\u001b[0m \u001b[0mlen\u001b[0m\u001b[0;34m(\u001b[0m\u001b[0mdata_string\u001b[0m\u001b[0;34m)\u001b[0m \u001b[0;34m!=\u001b[0m \u001b[0mfound\u001b[0m\u001b[0;34m.\u001b[0m\u001b[0mend\u001b[0m\u001b[0;34m(\u001b[0m\u001b[0;34m)\u001b[0m\u001b[0;34m:\u001b[0m\u001b[0;34m\u001b[0m\u001b[0;34m\u001b[0m\u001b[0m\n",
            "\u001b[0;31mValueError\u001b[0m: time data '-' does not match format '%Y/%m/%d %H:%M'"
          ]
        }
      ]
    },
    {
      "cell_type": "code",
      "source": [
        "import pandas as pd\n",
        "df = pd.DataFrame(result_dict)\n",
        "df.tail(100)"
      ],
      "metadata": {
        "id": "KtOspZLhEkPF"
      },
      "execution_count": null,
      "outputs": []
    },
    {
      "cell_type": "code",
      "source": [
        "# エクセルファイルとして保存\n",
        "SAVE_DIR = os.path.join(SUBMIT_FILE_PATH, SAVE_FILE_NAME)\n",
        "df.to_excel(SAVE_DIR, header=True, index=False)"
      ],
      "metadata": {
        "id": "WwjU8KtqWqVv"
      },
      "execution_count": null,
      "outputs": []
    },
    {
      "cell_type": "code",
      "source": [
        "# 参考\n",
        "#コメント抽出\n",
        "# ult_element = driver.find_element(By.ID,\"cmtlst\")\n",
        "# data_comment_elements = ult_element.find_elements(By.CSS_SELECTOR, 'li[data-comment]')\n",
        "\n",
        "# for data_comment_element in data_comment_elements:\n",
        "#     # ID\n",
        "#     id = data_comment_element.find_element(By.CSS_SELECTOR, \".comNum\").text\n",
        "#     # コメント\n",
        "#     comment = data_comment_element.find_element(By.CSS_SELECTOR, \".comText\").text\n",
        "#     #返答先ID\n",
        "#     reply_to_elements = data_comment_element.find_elements(By.CSS_SELECTOR, \".comReplyTo\")\n",
        "#     reply_to_text = reply_to_elements[0].text if reply_to_elements else '-'\n",
        "\n",
        "#     #結果格納\n",
        "#     result_dict['ID'].append(id)\n",
        "#     result_dict['コメント'].append(comment)\n",
        "#     result_dict['返信元ID'].append(reply_to_text)\n",
        "\n",
        "# print(result_dict)\n",
        "\n",
        "# # コメント列の内容をカンマで連結\n",
        "# texts = df['コメント'].str.cat(sep=', ')\n",
        "# logger.info(texts)\n",
        "\n",
        "# エクセルからデータ読み込み\n",
        "# 必要なライブラリのインストール\n",
        "!pip install pandas openpyxl\n",
        "\n",
        "# pandasをインポート\n",
        "import pandas as pd\n",
        "\n",
        "# エクセルファイルの読み込み\n",
        "df = pd.read_excel(SAVE_DIR)"
      ],
      "metadata": {
        "id": "kC6nWXDUopkl"
      },
      "execution_count": null,
      "outputs": []
    }
  ]
}